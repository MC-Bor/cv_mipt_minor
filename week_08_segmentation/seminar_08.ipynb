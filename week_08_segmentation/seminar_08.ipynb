{
 "cells": [
  {
   "cell_type": "markdown",
   "metadata": {},
   "source": [
    "# Семинар №6"
   ]
  },
  {
   "cell_type": "code",
   "execution_count": null,
   "metadata": {
    "ExecuteTime": {
     "end_time": "2021-03-29T12:38:24.336438Z",
     "start_time": "2021-03-29T12:38:24.302577Z"
    }
   },
   "outputs": [],
   "source": [
    "import cv2\n",
    "import numpy as np\n",
    "\n",
    "import skimage.segmentation\n",
    "import skimage.data\n",
    "import skimage.io\n",
    "import matplotlib.pyplot as plt\n",
    "\n",
    "%matplotlib inline\n",
    "plt.style.use('seaborn')\n",
    "\n",
    "seed = 42\n",
    "np.random.seed(seed)"
   ]
  },
  {
   "cell_type": "markdown",
   "metadata": {
    "tags": []
   },
   "source": [
    "# Подготовим данные"
   ]
  },
  {
   "cell_type": "code",
   "execution_count": null,
   "metadata": {},
   "outputs": [],
   "source": [
    "from sklearn.datasets import make_blobs\n",
    "from sklearn.preprocessing import StandardScaler"
   ]
  },
  {
   "cell_type": "code",
   "execution_count": null,
   "metadata": {},
   "outputs": [],
   "source": [
    "centers = [[1, 1], [-1, -1], [1, -1]]\n",
    "blobs = make_blobs(n_samples=750, centers=centers, cluster_std=0.5, random_state=seed) \n",
    "\n",
    "X, y = blobs\n",
    "X = StandardScaler().fit_transform(X)"
   ]
  },
  {
   "cell_type": "code",
   "execution_count": null,
   "metadata": {},
   "outputs": [],
   "source": [
    "def plot_xy_set(X, labels):\n",
    "    unique_labels = set(labels)\n",
    "\n",
    "    colors = [plt.cm.Spectral(each) for each in np.linspace(0, 1, len(unique_labels))]\n",
    "    for k, col in zip(unique_labels, colors):\n",
    "        if k == -1:\n",
    "            # Black used for noise.\n",
    "            col = [0, 0, 0, 1]\n",
    "\n",
    "        class_member_mask = labels == k\n",
    "\n",
    "        xy = X[class_member_mask]\n",
    "        plt.plot(\n",
    "            xy[:, 0],\n",
    "            xy[:, 1],\n",
    "            \"o\",\n",
    "            markerfacecolor=tuple(col),\n",
    "            markeredgecolor=\"k\",\n",
    "            markersize=14,\n",
    "        )\n",
    "\n",
    "    plt.title(\"Estimated number of clusters: %d\" % len(unique_labels))"
   ]
  },
  {
   "cell_type": "code",
   "execution_count": null,
   "metadata": {},
   "outputs": [],
   "source": [
    "plot_xy_set(X, y)"
   ]
  },
  {
   "cell_type": "markdown",
   "metadata": {
    "tags": []
   },
   "source": [
    "## kNN "
   ]
  },
  {
   "cell_type": "code",
   "execution_count": null,
   "metadata": {},
   "outputs": [],
   "source": [
    "from sklearn.cluster import KMeans"
   ]
  },
  {
   "cell_type": "code",
   "execution_count": null,
   "metadata": {},
   "outputs": [],
   "source": [
    "# Compute clustering\n",
    "print(\"Compute structured hierarchical clustering...\")\n",
    "n_clusters = 3  # number of regions\n",
    "ward = KMeans(n_clusters, random_state=seed).fit(X)\n",
    "\n",
    "label = ward.labels_\n",
    "print(\"Number of frames: \", label.size)\n",
    "print(\"Number of clusters: \", np.unique(label).size)"
   ]
  },
  {
   "cell_type": "code",
   "execution_count": null,
   "metadata": {},
   "outputs": [],
   "source": [
    "plot_xy_set(X, label)"
   ]
  },
  {
   "cell_type": "markdown",
   "metadata": {},
   "source": [
    "## Agglomerative"
   ]
  },
  {
   "cell_type": "code",
   "execution_count": null,
   "metadata": {},
   "outputs": [],
   "source": [
    "from sklearn.cluster import AgglomerativeClustering"
   ]
  },
  {
   "cell_type": "code",
   "execution_count": null,
   "metadata": {},
   "outputs": [],
   "source": [
    "# Compute clustering\n",
    "print(\"Compute structured hierarchical clustering...\")\n",
    "n_clusters = 5  # number of regions\n",
    "ward = AgglomerativeClustering(n_clusters=None,\n",
    "        linkage='ward', distance_threshold=10).fit(X)\n",
    "\n",
    "label = ward.labels_\n",
    "print(\"Number of frames: \", label.size)\n",
    "print(\"Number of clusters: \", np.unique(label).size)"
   ]
  },
  {
   "cell_type": "code",
   "execution_count": null,
   "metadata": {},
   "outputs": [],
   "source": [
    "plot_xy_set(X, label)"
   ]
  },
  {
   "cell_type": "markdown",
   "metadata": {},
   "source": [
    "## Mean-Shift "
   ]
  },
  {
   "cell_type": "code",
   "execution_count": null,
   "metadata": {},
   "outputs": [],
   "source": [
    "from sklearn.cluster import MeanShift, estimate_bandwidth"
   ]
  },
  {
   "cell_type": "code",
   "execution_count": null,
   "metadata": {},
   "outputs": [],
   "source": [
    "# The following bandwidth can be automatically detected using\n",
    "bandwidth = estimate_bandwidth(X, quantile=0.2, n_samples=500)\n",
    "\n",
    "ms = MeanShift(bandwidth=bandwidth, bin_seeding=True)\n",
    "ms.fit(X)\n",
    "labels = ms.labels_\n",
    "print(\"Number of frames: \", label.size)\n",
    "print(\"Number of clusters: \", np.unique(label).size)"
   ]
  },
  {
   "cell_type": "code",
   "execution_count": null,
   "metadata": {},
   "outputs": [],
   "source": [
    "plot_xy_set(X, labels)"
   ]
  },
  {
   "cell_type": "markdown",
   "metadata": {},
   "source": [
    "# Теперь для картинок "
   ]
  },
  {
   "cell_type": "code",
   "execution_count": null,
   "metadata": {
    "ExecuteTime": {
     "end_time": "2021-03-29T12:38:24.772762Z",
     "start_time": "2021-03-29T12:38:24.751347Z"
    }
   },
   "outputs": [],
   "source": [
    "# вспомогательная функция\n",
    "def plot_one_image(src_image, is_gray=False):\n",
    "    \"\"\"\n",
    "    Отрисовать с помощью plt исходное изображение.\n",
    "    \n",
    "    :param src_image: np.ndarray: исходное изображение\n",
    "    :param is_gray: bool: флаг для отображения ЧБ изображений\n",
    "    :return: None\n",
    "    \"\"\"\n",
    "    fig, m_axs = plt.subplots(1, 1, figsize=(6.4*2, 4.8*2), constrained_layout=False)\n",
    "    ax1 = m_axs\n",
    "\n",
    "    cmap = 'gray' if is_gray else None\n",
    "    ax1.set_title('Исходное изображение')\n",
    "    ax1.imshow(src_image, cmap=cmap)\n",
    "    ax1.set_xticks([]), ax1.set_yticks([])\n",
    "    plt.show()"
   ]
  },
  {
   "cell_type": "code",
   "execution_count": null,
   "metadata": {
    "ExecuteTime": {
     "end_time": "2021-03-29T12:38:26.566094Z",
     "start_time": "2021-03-29T12:38:26.555902Z"
    }
   },
   "outputs": [],
   "source": [
    "# вспомогательная функция\n",
    "def plot_transform_result(src_image, transform_image, is_gray=False):\n",
    "    \"\"\"\n",
    "    Отрисовать с помощью plt исходное изображение и его преобразование.\n",
    "    \n",
    "    :param src_image: np.ndarray: исходное изображение\n",
    "    :param transform_image: np.ndarray: преобразованное изображение\n",
    "    :param is_gray: bool: флаг для отображения ЧБ изображений\n",
    "    :return: None\n",
    "    \"\"\"\n",
    "    fig, m_axs = plt.subplots(1, 2, figsize=(6.4*2, 4.8*2), constrained_layout=False)\n",
    "    ax1, ax2 = m_axs\n",
    "\n",
    "    cmap = 'gray' if is_gray else None\n",
    "    ax1.set_title('Исходное изображение')\n",
    "    ax1.imshow(src_image, cmap=cmap)\n",
    "    ax1.set_xticks([]), ax1.set_yticks([])\n",
    "    ax2.set_title('Результат преобразования')\n",
    "    ax2.imshow(transform_image, cmap=cmap)\n",
    "    ax2.set_xticks([]), ax2.set_yticks([])\n",
    "    plt.show()"
   ]
  },
  {
   "cell_type": "markdown",
   "metadata": {},
   "source": [
    "# Вспомним про kNN "
   ]
  },
  {
   "cell_type": "code",
   "execution_count": null,
   "metadata": {
    "ExecuteTime": {
     "end_time": "2021-03-29T12:42:28.083106Z",
     "start_time": "2021-03-29T12:42:28.021814Z"
    }
   },
   "outputs": [],
   "source": [
    "# Generate data\n",
    "image = skimage.data.astronaut()\n",
    "image = skimage.transform.resize(image, tuple(map(int, np.array(image.shape[:2])/2)))\n",
    "\n",
    "plot_one_image(image)"
   ]
  },
  {
   "cell_type": "code",
   "execution_count": null,
   "metadata": {
    "ExecuteTime": {
     "end_time": "2021-03-29T12:42:28.426767Z",
     "start_time": "2021-03-29T12:42:28.410797Z"
    }
   },
   "outputs": [],
   "source": [
    "print(image.shape)\n",
    "X = np.reshape(image, (-1, 3))\n",
    "print(X.shape)"
   ]
  },
  {
   "cell_type": "code",
   "execution_count": null,
   "metadata": {
    "ExecuteTime": {
     "end_time": "2021-03-29T12:43:12.990094Z",
     "start_time": "2021-03-29T12:43:04.987236Z"
    }
   },
   "outputs": [],
   "source": [
    "n_clusters = 5  # number of regions\n",
    "kmeans = KMeans(n_clusters=n_clusters, n_init=100, max_iter=500).fit(X)\n",
    "\n",
    "label = np.reshape(kmeans.labels_, image.shape[:2])"
   ]
  },
  {
   "cell_type": "code",
   "execution_count": null,
   "metadata": {},
   "outputs": [],
   "source": [
    "plot_one_image(label)"
   ]
  },
  {
   "cell_type": "code",
   "execution_count": null,
   "metadata": {},
   "outputs": [],
   "source": [
    "def reform_color_label(label):\n",
    "    cmap = plt.cm.get_cmap('magma', label.max() + 1)\n",
    "    rgba = cmap(np.linspace(0, 1, label.max() + 1))[:, :3]\n",
    "\n",
    "    mask = np.zeros((*label.shape[:2], 3))\n",
    "    for cls_idx in range(label.max() + 1):\n",
    "        mask[label == cls_idx] = rgba[cls_idx]\n",
    "\n",
    "    mask = (mask * 255).astype(np.uint8)\n",
    "    \n",
    "    return mask"
   ]
  },
  {
   "cell_type": "code",
   "execution_count": null,
   "metadata": {
    "ExecuteTime": {
     "end_time": "2021-03-29T12:43:15.033815Z",
     "start_time": "2021-03-29T12:43:14.347310Z"
    }
   },
   "outputs": [],
   "source": [
    "# Plot the results on an image\n",
    "mask = reform_color_label(label)\n",
    "\n",
    "plot_transform_result(image, mask)"
   ]
  },
  {
   "cell_type": "markdown",
   "metadata": {},
   "source": [
    "## Difference of spaces"
   ]
  },
  {
   "cell_type": "code",
   "execution_count": null,
   "metadata": {
    "ExecuteTime": {
     "end_time": "2021-03-29T12:46:02.333454Z",
     "start_time": "2021-03-29T12:46:02.315816Z"
    }
   },
   "outputs": [],
   "source": [
    "image_hsv = skimage.color.rgb2hsv(image)\n",
    "X = np.reshape(image_hsv[:, :, 0], (-1, 1))"
   ]
  },
  {
   "cell_type": "code",
   "execution_count": null,
   "metadata": {
    "ExecuteTime": {
     "end_time": "2021-03-29T12:46:04.543507Z",
     "start_time": "2021-03-29T12:46:02.843088Z"
    },
    "scrolled": true
   },
   "outputs": [],
   "source": [
    "n_clusters = 5  # number of regions\n",
    "kmeans = KMeans(n_clusters=n_clusters, init='k-means++', \n",
    "                                n_init=40, algorithm='elkan',\n",
    "                                max_iter=1000).fit(X)\n",
    "\n",
    "label = np.reshape(kmeans.labels_, image.shape[:2])"
   ]
  },
  {
   "cell_type": "code",
   "execution_count": null,
   "metadata": {},
   "outputs": [],
   "source": [
    "plot_one_image(label)"
   ]
  },
  {
   "cell_type": "code",
   "execution_count": null,
   "metadata": {
    "ExecuteTime": {
     "end_time": "2021-03-29T12:46:07.137870Z",
     "start_time": "2021-03-29T12:46:06.637617Z"
    }
   },
   "outputs": [],
   "source": [
    "# Plot the results on an image\n",
    "mask = reform_color_label(label)\n",
    "\n",
    "plot_transform_result(image, mask)"
   ]
  },
  {
   "cell_type": "code",
   "execution_count": null,
   "metadata": {},
   "outputs": [],
   "source": [
    "def plot_each_cls(image, label):\n",
    "    n_clusters = np.unique(label).size\n",
    "    cls_mask = np.zeros((*label.shape, n_clusters))\n",
    "\n",
    "    for cls_idx in range(n_clusters):\n",
    "        mask = label == cls_idx\n",
    "        cls_mask[mask, cls_idx] = 1\n",
    "\n",
    "    plt.figure(figsize=(6.4 * 3, 4.8 * 1))\n",
    "\n",
    "    for cls_idx in range(n_clusters):\n",
    "        plt.subplot(1, n_clusters, cls_idx + 1) \n",
    "        mask_ = np.repeat(cls_mask[..., cls_idx][..., np.newaxis], repeats=3, axis=2)\n",
    "        plt.imshow(image * mask_)"
   ]
  },
  {
   "cell_type": "code",
   "execution_count": null,
   "metadata": {},
   "outputs": [],
   "source": [
    "plot_each_cls(image, label)"
   ]
  },
  {
   "cell_type": "code",
   "execution_count": null,
   "metadata": {},
   "outputs": [],
   "source": [
    "img_blur = cv2.blur(image, (3,3))\n",
    "\n",
    "laplacian = cv2.Laplacian((image * 255).astype(np.uint8), 3)\n",
    "X = laplacian.reshape(-1, 3)"
   ]
  },
  {
   "cell_type": "code",
   "execution_count": null,
   "metadata": {},
   "outputs": [],
   "source": [
    "n_clusters = 5  # number of regions\n",
    "kmeans = KMeans(n_clusters=n_clusters, init='k-means++', \n",
    "                                n_init=40, algorithm='elkan',\n",
    "                                max_iter=1000).fit(X)\n",
    "label = np.reshape(kmeans.labels_, image.shape[:2])"
   ]
  },
  {
   "cell_type": "code",
   "execution_count": null,
   "metadata": {},
   "outputs": [],
   "source": [
    "# Plot the results on an image\n",
    "mask = reform_color_label(label)\n",
    "\n",
    "plot_transform_result(image, mask)"
   ]
  },
  {
   "cell_type": "code",
   "execution_count": null,
   "metadata": {},
   "outputs": [],
   "source": [
    "plot_each_cls(image, label)"
   ]
  },
  {
   "cell_type": "markdown",
   "metadata": {},
   "source": [
    "# Agglomerative clustering"
   ]
  },
  {
   "cell_type": "code",
   "execution_count": null,
   "metadata": {},
   "outputs": [],
   "source": [
    "from sklearn.feature_extraction.image import grid_to_graph"
   ]
  },
  {
   "cell_type": "code",
   "execution_count": null,
   "metadata": {
    "ExecuteTime": {
     "end_time": "2021-03-29T12:49:50.658639Z",
     "start_time": "2021-03-29T12:49:21.573777Z"
    }
   },
   "outputs": [],
   "source": [
    "# Define the structure A of the data. Pixels connected to their neighbors.\n",
    "connectivity = grid_to_graph(*image.shape[:2])\n",
    "\n",
    "X = image.reshape(-1, 3)\n",
    "ward = AgglomerativeClustering(n_clusters=5,\n",
    "        linkage='ward', connectivity=connectivity, distance_threshold=None).fit(X)\n",
    "\n",
    "label = np.reshape(ward.labels_, image.shape[:2])"
   ]
  },
  {
   "cell_type": "code",
   "execution_count": null,
   "metadata": {},
   "outputs": [],
   "source": [
    "# Plot the results on an image\n",
    "mask = reform_color_label(label)\n",
    "\n",
    "plot_transform_result(image, mask)"
   ]
  },
  {
   "cell_type": "code",
   "execution_count": null,
   "metadata": {},
   "outputs": [],
   "source": [
    "plot_each_cls(image, label)"
   ]
  },
  {
   "cell_type": "code",
   "execution_count": null,
   "metadata": {},
   "outputs": [],
   "source": [
    "# Define the structure A of the data. Pixels connected to their neighbors.\n",
    "connectivity = grid_to_graph(*image.shape[:2])\n",
    "\n",
    "X = image_hsv.reshape(-1, 3)[:, :]\n",
    "ward = AgglomerativeClustering(n_clusters=5,\n",
    "        linkage='ward', connectivity=connectivity, distance_threshold=None).fit(X)\n",
    "\n",
    "label = np.reshape(ward.labels_, image.shape[:2])"
   ]
  },
  {
   "cell_type": "code",
   "execution_count": null,
   "metadata": {},
   "outputs": [],
   "source": [
    "# Plot the results on an image\n",
    "mask = reform_color_label(label)\n",
    "\n",
    "plot_transform_result(image, mask)"
   ]
  },
  {
   "cell_type": "code",
   "execution_count": null,
   "metadata": {},
   "outputs": [],
   "source": [
    "plot_each_cls(image, label)"
   ]
  },
  {
   "cell_type": "markdown",
   "metadata": {
    "tags": []
   },
   "source": [
    "# Mean-shift clustering"
   ]
  },
  {
   "cell_type": "markdown",
   "metadata": {},
   "source": [
    "## sklearn "
   ]
  },
  {
   "cell_type": "code",
   "execution_count": null,
   "metadata": {},
   "outputs": [],
   "source": [
    "# The following bandwidth can be automatically detected using\n",
    "X = image.reshape(-1, 3)\n",
    "\n",
    "bandwidth = estimate_bandwidth(X, quantile=0.2, n_samples=500)\n",
    "ward = MeanShift(bandwidth=bandwidth, bin_seeding=True).fit(X)\n",
    "\n",
    "label = np.reshape(ward.labels_, image.shape[:2])\n",
    "print(\"Number of clusters: \", np.unique(label).size)"
   ]
  },
  {
   "cell_type": "code",
   "execution_count": null,
   "metadata": {},
   "outputs": [],
   "source": [
    "# Plot the results on an image\n",
    "mask = reform_color_label(label)\n",
    "\n",
    "plot_transform_result(image, mask)"
   ]
  },
  {
   "cell_type": "code",
   "execution_count": null,
   "metadata": {},
   "outputs": [],
   "source": [
    "plot_each_cls(image, label)"
   ]
  },
  {
   "cell_type": "code",
   "execution_count": null,
   "metadata": {},
   "outputs": [],
   "source": [
    "# The following bandwidth can be automatically detected using\n",
    "X = image_hsv.reshape(-1, 3)[:, :1]\n",
    "\n",
    "bandwidth = estimate_bandwidth(X, quantile=0.2, n_samples=500)\n",
    "ward = MeanShift(bandwidth=bandwidth, bin_seeding=True).fit(X)\n",
    "\n",
    "label = np.reshape(ward.labels_, image.shape[:2])\n",
    "print(\"Number of clusters: \", np.unique(label).size)"
   ]
  },
  {
   "cell_type": "code",
   "execution_count": null,
   "metadata": {},
   "outputs": [],
   "source": [
    "# Plot the results on an image\n",
    "mask = reform_color_label(label)\n",
    "\n",
    "plot_transform_result(image, mask)"
   ]
  },
  {
   "cell_type": "code",
   "execution_count": null,
   "metadata": {},
   "outputs": [],
   "source": [
    "plot_each_cls(image, label)"
   ]
  },
  {
   "cell_type": "markdown",
   "metadata": {},
   "source": [
    "## skimage "
   ]
  },
  {
   "cell_type": "code",
   "execution_count": null,
   "metadata": {
    "ExecuteTime": {
     "end_time": "2021-03-29T11:46:42.423792Z",
     "start_time": "2021-03-29T11:46:33.102650Z"
    }
   },
   "outputs": [],
   "source": [
    "label = skimage.segmentation.quickshift(image, ratio=0.5, kernel_size=20, \n",
    "                                        max_dist=6, sigma=1.0, convert2lab=False, \n",
    "                                        random_seed=seed)\n",
    "print(\"Number of clusters: \", np.unique(label).size)"
   ]
  },
  {
   "cell_type": "code",
   "execution_count": null,
   "metadata": {},
   "outputs": [],
   "source": [
    "# Plot the results on an image\n",
    "mask = reform_color_label(label)\n",
    "\n",
    "plot_transform_result(image, mask)"
   ]
  },
  {
   "cell_type": "code",
   "execution_count": null,
   "metadata": {},
   "outputs": [],
   "source": [
    "label = skimage.segmentation.quickshift(image, ratio=0.5, kernel_size=20, \n",
    "                                        max_dist=6, sigma=1.0, convert2lab=True, \n",
    "                                        random_seed=seed)\n",
    "print(\"Number of clusters: \", np.unique(label).size)"
   ]
  },
  {
   "cell_type": "code",
   "execution_count": null,
   "metadata": {
    "jp-MarkdownHeadingCollapsed": true,
    "tags": []
   },
   "outputs": [],
   "source": [
    "# Plot the results on an image\n",
    "mask = reform_color_label(label)\n",
    "\n",
    "plot_transform_result(image, mask)"
   ]
  },
  {
   "cell_type": "markdown",
   "metadata": {
    "tags": []
   },
   "source": [
    "# Watershed algo \n",
    "\n",
    "![](https://people.cmm.minesparis.psl.eu/users/beucher/lpe2.gif)\n",
    "\n",
    "Ссылки:\n",
    "1. https://en.wikipedia.org/wiki/Watershed_%28image_processing%29\n",
    "2. https://people.cmm.minesparis.psl.eu/users/beucher/wtshed.html\n",
    "3. Peer Neubert & Peter Protzel (2014). Compact Watershed and Preemptive SLIC: On Improving Trade-offs of Superpixel Segmentation Algorithms. ICPR 2014, pp 996-1001."
   ]
  },
  {
   "cell_type": "code",
   "execution_count": null,
   "metadata": {},
   "outputs": [],
   "source": [
    "from scipy import ndimage as ndi\n",
    "\n",
    "from skimage.morphology import disk\n",
    "from skimage.segmentation import watershed\n",
    "from skimage.filters import rank"
   ]
  },
  {
   "cell_type": "code",
   "execution_count": null,
   "metadata": {},
   "outputs": [],
   "source": [
    "image = skimage.data.coins()\n",
    "uimage = skimage.color.rgb2gray(image)\n",
    "denoised = -rank.median(uimage, disk(3))\n",
    "\n",
    "markers = rank.gradient(denoised, disk(5)) < 40\n",
    "markers, num_features = ndi.label(markers)\n",
    "\n",
    "gradient = rank.gradient(denoised, disk(2))\n",
    "\n",
    "plot_transform_result(-gradient, markers)"
   ]
  },
  {
   "cell_type": "code",
   "execution_count": null,
   "metadata": {},
   "outputs": [],
   "source": [
    "label = watershed(-gradient, markers)"
   ]
  },
  {
   "cell_type": "code",
   "execution_count": null,
   "metadata": {},
   "outputs": [],
   "source": [
    "# display results\n",
    "fig, axes = plt.subplots(nrows=2, ncols=2, figsize=(8, 8),\n",
    "                         sharex=True, sharey=True)\n",
    "ax = axes.ravel()\n",
    "\n",
    "ax[0].imshow(image, cmap=plt.cm.gray)\n",
    "ax[0].set_title(\"Original\")\n",
    "\n",
    "ax[1].imshow(gradient, cmap=plt.cm.nipy_spectral)\n",
    "ax[1].set_title(\"Local Gradient\")\n",
    "\n",
    "ax[2].imshow(markers, cmap=plt.cm.nipy_spectral)\n",
    "ax[2].set_title(\"Markers\")\n",
    "\n",
    "ax[3].imshow(image, cmap=plt.cm.gray)\n",
    "ax[3].imshow(label, cmap=plt.cm.nipy_spectral, alpha=.5)\n",
    "ax[3].set_title(\"Segmented\")\n",
    "\n",
    "for a in ax:\n",
    "    a.axis('off')\n",
    "\n",
    "fig.tight_layout()\n",
    "plt.show()"
   ]
  },
  {
   "cell_type": "markdown",
   "metadata": {},
   "source": [
    "# Segmentation metrics"
   ]
  },
  {
   "cell_type": "code",
   "execution_count": null,
   "metadata": {
    "ExecuteTime": {
     "end_time": "2021-03-29T13:01:22.865422Z",
     "start_time": "2021-03-29T13:01:22.853773Z"
    }
   },
   "outputs": [],
   "source": [
    "true_mask = np.zeros((400, 400, 3))\n",
    "true_mask[50:100, 30:370] = 1\n",
    "\n",
    "pred_mask = np.zeros((400, 400, 3))\n",
    "pred_mask[20:60, :] = 1"
   ]
  },
  {
   "cell_type": "code",
   "execution_count": null,
   "metadata": {
    "ExecuteTime": {
     "end_time": "2021-03-29T13:01:24.116649Z",
     "start_time": "2021-03-29T13:01:23.932422Z"
    }
   },
   "outputs": [],
   "source": [
    "plot_transform_result(true_mask, pred_mask)"
   ]
  },
  {
   "cell_type": "markdown",
   "metadata": {},
   "source": [
    "## Dice"
   ]
  },
  {
   "cell_type": "code",
   "execution_count": null,
   "metadata": {
    "ExecuteTime": {
     "end_time": "2021-03-29T13:03:41.208385Z",
     "start_time": "2021-03-29T13:03:41.199328Z"
    },
    "code_folding": []
   },
   "outputs": [],
   "source": [
    "def dice_channel(probability, truth, threshold):\n",
    "    batch_size = truth.shape[0]\n",
    "    channel_num = truth.shape[3]\n",
    "    mean_dice_channel = 0.\n",
    "    all_channels = []\n",
    "    for i in range(batch_size):\n",
    "        for j in range(channel_num):\n",
    "            channel_dice = dice_single_channel(probability[i, :, :, j], truth[i, :, :, j], threshold)\n",
    "            all_channels.append(channel_dice)\n",
    "            mean_dice_channel += channel_dice/(batch_size * channel_num)\n",
    "    return mean_dice_channel, all_channels\n",
    "\n",
    "\n",
    "def dice_single_channel(probability, truth, threshold, eps=1E-9):\n",
    "    t = (truth.flatten() > 0.5)\n",
    "    p = (probability.flatten() > threshold)\n",
    "    dice = (2.0 * (p * t).sum() + eps) / (p.sum() + t.sum() + eps)\n",
    "    return dice"
   ]
  },
  {
   "cell_type": "code",
   "execution_count": null,
   "metadata": {
    "ExecuteTime": {
     "end_time": "2021-03-29T13:03:41.566349Z",
     "start_time": "2021-03-29T13:03:41.532155Z"
    }
   },
   "outputs": [],
   "source": [
    "mean_dice, all_dice = dice_channel(np.array([pred_mask]), np.array([true_mask]), 0.5)\n",
    "\n",
    "print('Mean Dice:', mean_dice)\n",
    "print('Dice per channel:', all_dice)"
   ]
  },
  {
   "cell_type": "markdown",
   "metadata": {},
   "source": [
    "## Jaccard score"
   ]
  },
  {
   "cell_type": "code",
   "execution_count": null,
   "metadata": {
    "ExecuteTime": {
     "end_time": "2021-03-29T13:04:27.346014Z",
     "start_time": "2021-03-29T13:04:27.333866Z"
    }
   },
   "outputs": [],
   "source": [
    "def jaccard_score(preds, labels, C, EMPTY=1., ignore=None, per_image=False):\n",
    "    \"\"\"\n",
    "    Array of IoU for each (non ignored) class\n",
    "    \"\"\"\n",
    "    if not per_image:\n",
    "        preds, labels = (preds,), (labels,)\n",
    "    ious = []\n",
    "    for pred, label in zip(preds, labels):\n",
    "        iou = []\n",
    "        for i in range(C):\n",
    "            if i != ignore: # The ignored label is sometimes among predicted classes (ENet - CityScapes)\n",
    "                intersection = ((label == i) & (pred == i)).sum()\n",
    "                union = ((label == i) | ((pred == i) & (label != ignore))).sum()\n",
    "                if not union:\n",
    "                    iou.append(EMPTY)\n",
    "                else:\n",
    "                    iou.append(float(intersection) / union)\n",
    "        ious.append(iou)\n",
    "    ious = map(np.mean, zip(*ious)) # mean accross images if per_image\n",
    "    return np.array(tuple(ious))"
   ]
  },
  {
   "cell_type": "code",
   "execution_count": null,
   "metadata": {
    "ExecuteTime": {
     "end_time": "2021-03-29T13:04:27.784312Z",
     "start_time": "2021-03-29T13:04:27.697193Z"
    }
   },
   "outputs": [],
   "source": [
    "iou = jaccard_score(np.array([pred_mask]), np.array([true_mask]), C=2, EMPTY=0, per_image=False)\n",
    "\n",
    "print('Mean IoU:', iou)\n",
    "print('Dice per channel:', all_dice)"
   ]
  },
  {
   "cell_type": "code",
   "execution_count": null,
   "metadata": {},
   "outputs": [],
   "source": []
  }
 ],
 "metadata": {
  "hide_input": false,
  "kernelspec": {
   "display_name": "Python 3 (ipykernel)",
   "language": "python",
   "name": "python3"
  },
  "language_info": {
   "codemirror_mode": {
    "name": "ipython",
    "version": 3
   },
   "file_extension": ".py",
   "mimetype": "text/x-python",
   "name": "python",
   "nbconvert_exporter": "python",
   "pygments_lexer": "ipython3",
   "version": "3.7.11"
  },
  "latex_envs": {
   "LaTeX_envs_menu_present": true,
   "autoclose": false,
   "autocomplete": true,
   "bibliofile": "biblio.bib",
   "cite_by": "apalike",
   "current_citInitial": 1,
   "eqLabelWithNumbers": true,
   "eqNumInitial": 1,
   "hotkeys": {
    "equation": "Ctrl-E",
    "itemize": "Ctrl-I"
   },
   "labels_anchors": false,
   "latex_user_defs": false,
   "report_style_numbering": false,
   "user_envs_cfg": false
  },
  "toc": {
   "base_numbering": 1,
   "nav_menu": {},
   "number_sections": true,
   "sideBar": true,
   "skip_h1_title": false,
   "title_cell": "Table of Contents",
   "title_sidebar": "Contents",
   "toc_cell": false,
   "toc_position": {},
   "toc_section_display": true,
   "toc_window_display": true
  },
  "varInspector": {
   "cols": {
    "lenName": 16,
    "lenType": 16,
    "lenVar": 40
   },
   "kernels_config": {
    "python": {
     "delete_cmd_postfix": "",
     "delete_cmd_prefix": "del ",
     "library": "var_list.py",
     "varRefreshCmd": "print(var_dic_list())"
    },
    "r": {
     "delete_cmd_postfix": ") ",
     "delete_cmd_prefix": "rm(",
     "library": "var_list.r",
     "varRefreshCmd": "cat(var_dic_list()) "
    }
   },
   "types_to_exclude": [
    "module",
    "function",
    "builtin_function_or_method",
    "instance",
    "_Feature"
   ],
   "window_display": false
  }
 },
 "nbformat": 4,
 "nbformat_minor": 4
}
