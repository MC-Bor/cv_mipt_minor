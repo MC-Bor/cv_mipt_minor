{
 "cells": [
  {
   "cell_type": "code",
   "execution_count": null,
   "id": "fd1ff6e7-0510-4df2-bfa6-a7b3acf80bb8",
   "metadata": {},
   "outputs": [],
   "source": [
    "import os\n",
    "import cv2\n",
    "import numpy as np\n",
    "from matplotlib import pyplot as plt\n",
    "import math\n",
    "from tqdm import tqdm"
   ]
  },
  {
   "cell_type": "markdown",
   "id": "1556a240-84a7-4abf-999f-23193d252ab0",
   "metadata": {
    "tags": []
   },
   "source": [
    "# Image Panorama Stitching"
   ]
  },
  {
   "cell_type": "code",
   "execution_count": null,
   "id": "2a5a33c6-dc1b-4a4c-9138-6565486e0de4",
   "metadata": {},
   "outputs": [],
   "source": [
    "img1 = cv2.imread('img1.jpg')\n",
    "img2 = cv2.imread('img2.jpg')"
   ]
  },
  {
   "cell_type": "code",
   "execution_count": null,
   "id": "017cb04f-c0e8-44b0-af3e-95afffaccbf5",
   "metadata": {},
   "outputs": [],
   "source": [
    "fig = plt.figure(figsize=(6.4 * 2, 4.8 * 2))\n",
    "\n",
    "plt.subplot(121)\n",
    "plt.imshow(img1,)\n",
    "\n",
    "plt.subplot(122)\n",
    "plt.imshow(img2,)\n",
    "\n",
    "fig.tight_layout()\n",
    "plt.show()"
   ]
  },
  {
   "cell_type": "code",
   "execution_count": null,
   "id": "96831151-a4f3-4d73-b64f-4efabddca9d0",
   "metadata": {},
   "outputs": [],
   "source": [
    "descriptor = cv2.xfeatures2d.SIFT_create()"
   ]
  },
  {
   "cell_type": "code",
   "execution_count": null,
   "id": "423e3f1d-aaad-4800-8478-e0434bf81a04",
   "metadata": {},
   "outputs": [],
   "source": [
    "kp1, desc1 = descriptor.detectAndCompute(img1, None)\n",
    "kp2, desc2 = descriptor.detectAndCompute(img2, None)"
   ]
  },
  {
   "cell_type": "markdown",
   "id": "ceb3ca2a-f73a-4a95-8d2b-b013577a3663",
   "metadata": {},
   "source": [
    "kNN mathcer\n",
    "\n",
    "![alt text](knn_example.png \"Title\")"
   ]
  },
  {
   "cell_type": "code",
   "execution_count": null,
   "id": "2965f26e-8cd8-4506-8557-071b4594973e",
   "metadata": {},
   "outputs": [],
   "source": [
    "FLANN_INDEX_KDTREE = 2\n",
    "index_params = dict(algorithm=FLANN_INDEX_KDTREE, trees=5)\n",
    "search_params = dict(checks=50)\n",
    "\n",
    "# flann = cv2.FlannBasedMatcher(index_params, search_params)\n",
    "flann = cv2.BFMatcher()"
   ]
  },
  {
   "cell_type": "code",
   "execution_count": null,
   "id": "57fc7128-1191-421e-af2f-767a1f22d87d",
   "metadata": {},
   "outputs": [],
   "source": [
    "matches = flann.match(desc2, desc1)\n",
    "print(matches[0].distance)\n",
    "\n",
    "matches = flann.knnMatch(desc2, desc1, k=2)\n",
    "print([m.distance for m in matches[0]])"
   ]
  },
  {
   "cell_type": "code",
   "execution_count": null,
   "id": "aa03bf06-453b-47f8-bf61-8178c38b31f2",
   "metadata": {},
   "outputs": [],
   "source": [
    "if (desc1 is not None and desc2 is not None and len(desc1) >=2 and len(desc2) >= 2):\n",
    "    rawMatch = flann.knnMatch(desc2, desc1, k=2)\n",
    "    matches = []\n",
    "    # ensure the distance is within a certain ratio of each other (i.e. Lowe's ratio test)\n",
    "    ratio = 0.75\n",
    "    for m in rawMatch:\n",
    "        if len(m) == 2 and m[0].distance < m[1].distance * ratio:\n",
    "            matches.append(m[0])"
   ]
  },
  {
   "cell_type": "code",
   "execution_count": null,
   "id": "13a75967-2ac1-466f-a40c-6e9d673ef1e4",
   "metadata": {},
   "outputs": [],
   "source": [
    "list_kp1 = np.array([kp1[mat.trainIdx].pt for mat in matches])\n",
    "list_kp2 = np.array([kp2[mat.queryIdx].pt for mat in matches])"
   ]
  },
  {
   "cell_type": "code",
   "execution_count": null,
   "id": "1c9cbf5c-b4f9-49e4-a978-243dc65582cf",
   "metadata": {},
   "outputs": [],
   "source": [
    "if len(matches) > 4:\n",
    "    (H, status) = cv2.findHomography(list_kp1, list_kp2, cv2.RANSAC)"
   ]
  },
  {
   "cell_type": "code",
   "execution_count": null,
   "id": "e9ab757d-4f2d-4789-9f26-005848b21b2c",
   "metadata": {},
   "outputs": [],
   "source": [
    "# Apply panorama correction\n",
    "width = img1.shape[1] + img2.shape[1]\n",
    "height = img2.shape[0] + img2.shape[0]\n",
    "\n",
    "result = cv2.warpPerspective(img1, H, (width, height))\n",
    "\n",
    "result[0:img2.shape[0], 0:img2.shape[1]] = img2\n",
    "idx_w = np.argwhere(result[0, :] == 0)\n",
    "idx_h = np.argwhere(result[:, 0] == 0)\n",
    "\n",
    "plt.figure(figsize=(20,10))\n",
    "plt.imshow(result)\n",
    "\n",
    "plt.axis('off')\n",
    "plt.show()"
   ]
  },
  {
   "cell_type": "code",
   "execution_count": null,
   "id": "9cf76a63-70f6-4f67-8ae1-75b1adae4309",
   "metadata": {},
   "outputs": [],
   "source": []
  },
  {
   "cell_type": "markdown",
   "id": "c9cfb054-48f2-49b5-b742-0dc31b40caf9",
   "metadata": {},
   "source": [
    "# Pazzle"
   ]
  },
  {
   "cell_type": "markdown",
   "id": "33a4f243-ec2c-427f-be3b-1233bf9c498c",
   "metadata": {
    "tags": []
   },
   "source": [
    "## Step by step "
   ]
  },
  {
   "cell_type": "code",
   "execution_count": null,
   "id": "8249bd9a-728a-455a-8497-0a4a0efec6e0",
   "metadata": {},
   "outputs": [],
   "source": [
    "def get_images(path=\"puzzle/china_shuffle\"):\n",
    "    images_path = os.listdir(path)\n",
    "    images = []\n",
    "    for im in images_path:\n",
    "        img = cv2.imread(os.path.join(path, im))\n",
    "        img = cv2.cvtColor(img, cv2.COLOR_BGR2GRAY)\n",
    "        img = cv2.normalize(img, None, 0, 255, cv2.NORM_MINMAX).astype('uint8')\n",
    "        images.append(img)\n",
    "\n",
    "    return np.array(images)"
   ]
  },
  {
   "cell_type": "code",
   "execution_count": null,
   "id": "1c917f50-d27d-4d6b-add5-871685938177",
   "metadata": {},
   "outputs": [],
   "source": [
    "path = 'puzzle/china'\n",
    "images = get_images(path)[3:5]\n",
    "print(images.shape)"
   ]
  },
  {
   "cell_type": "code",
   "execution_count": null,
   "id": "112d30a3-b059-45d5-84be-5ccfd23c7698",
   "metadata": {},
   "outputs": [],
   "source": [
    "img1, img2 = images[0], images[1]\n",
    "\n",
    "sift = cv2.xfeatures2d.SIFT_create()\n",
    "kp1, des1 = sift.detectAndCompute(img1, None)\n",
    "kp2, des2 = sift.detectAndCompute(img2, None)\n",
    "bf = cv2.BFMatcher(cv2.NORM_L1, crossCheck=False)\n",
    "\n",
    "print(des1.shape, des2.shape)"
   ]
  },
  {
   "cell_type": "code",
   "execution_count": null,
   "id": "e1baef74-d49f-42ac-8577-28067f8b53af",
   "metadata": {},
   "outputs": [],
   "source": [
    "matches = bf.match(des2, des1)\n",
    "\n",
    "for i in range(3):\n",
    "    m = matches[i]\n",
    "    line = 'match info: \\n1) distance: {}\\n2) imgIdx: {}\\n3) queryIdx: {}\\n4) trainIdx: {}'.format(m.distance, m.imgIdx, m.queryIdx, m.trainIdx)\n",
    "    print(line)"
   ]
  },
  {
   "cell_type": "code",
   "execution_count": null,
   "id": "209b1379-d31e-4b84-9798-af5cd34b5528",
   "metadata": {},
   "outputs": [],
   "source": [
    "matches = sorted(matches, key=lambda x: x.distance)\n",
    "good_matches = matches[:10]"
   ]
  },
  {
   "cell_type": "code",
   "execution_count": null,
   "id": "750ef687-b385-46d3-9efe-ea97d65a8d3e",
   "metadata": {},
   "outputs": [],
   "source": [
    "#-- Draw matches\n",
    "img_matches = np.empty((max(img1.shape[0], img2.shape[0]), img1.shape[1] + img2.shape[1], 3), dtype=np.uint8)\n",
    "\n",
    "draw_params = dict(matchColor = (0,255,0),\n",
    "                   singlePointColor = (255,0,0),\n",
    "                   flags = cv2.DrawMatchesFlags_NOT_DRAW_SINGLE_POINTS\n",
    "                  )\n",
    "\n",
    "cv2.drawMatches(img1, kp1, img2, kp2, good_matches, img_matches, **draw_params)\n",
    "\n",
    "#-- Show detected matches\n",
    "plt.imshow(img_matches)"
   ]
  },
  {
   "cell_type": "code",
   "execution_count": null,
   "id": "785e0022-0add-4a90-a7fe-4ec769a81d99",
   "metadata": {},
   "outputs": [],
   "source": [
    "list_kp1 = np.array([kp1[mat.trainIdx].pt for mat in good_matches])\n",
    "list_kp2 = np.array([kp2[mat.queryIdx].pt for mat in good_matches])\n",
    "\n",
    "print(list_kp1)"
   ]
  },
  {
   "cell_type": "code",
   "execution_count": null,
   "id": "0ebd2828-47fc-4fee-8430-33b8dab7ca7b",
   "metadata": {},
   "outputs": [],
   "source": [
    "x, y = list_kp1[:, 0] - list_kp2[:, 0], list_kp1[:, 1] - list_kp2[:, 1]\n",
    "angles = [math.degrees(math.atan2(y[elem], x[elem])) for elem in range(len(x))]\n",
    "\n",
    "np.std(angles)"
   ]
  },
  {
   "cell_type": "code",
   "execution_count": null,
   "id": "5c540952-a539-43d7-9503-7daae853243f",
   "metadata": {},
   "outputs": [],
   "source": [
    "diff_x, diff_y = int(np.mean(x)), int(np.mean(y))\n",
    "\n",
    "img3 = np.zeros((max(img1.shape[0], abs(diff_y) + img2.shape[0], img1.shape[0] - diff_y),\n",
    "                 max((img1.shape[1], abs(diff_x) + img2.shape[1], img1.shape[1] - diff_x))))\n",
    "\n",
    "plt.imshow(img3)"
   ]
  },
  {
   "cell_type": "code",
   "execution_count": null,
   "id": "aad2c0bc-612d-4830-bd35-85bca85b30bc",
   "metadata": {},
   "outputs": [],
   "source": [
    "diff_x1, diff_y1 = max(0, -diff_x), max(0, -diff_y)\n",
    "diff_x2, diff_y2 = max(0, diff_x), max(0, diff_y)\n",
    "\n",
    "print(diff_x1, diff_y1)\n",
    "print(diff_x2, diff_y2)\n",
    "\n",
    "img3[diff_y1:diff_y1 + img1.shape[0], diff_x1:diff_x1 + img1.shape[1]] = img1\n",
    "img3[diff_y2:diff_y2 + img2.shape[0], diff_x2:diff_x2 + img2.shape[1]] = img2"
   ]
  },
  {
   "cell_type": "code",
   "execution_count": null,
   "id": "166a2afe-2680-44c2-92b1-154dcd76e24d",
   "metadata": {},
   "outputs": [],
   "source": [
    "fig = plt.figure(figsize=(6.4 * 2, 4.8 * 2))\n",
    "\n",
    "plt.subplot(131)\n",
    "plt.imshow(img3, cmap='gray')\n",
    "\n",
    "plt.subplot(132)\n",
    "plt.imshow(img1, cmap='gray')\n",
    "\n",
    "plt.subplot(133)\n",
    "plt.imshow(img2, cmap='gray')\n",
    "\n",
    "fig.tight_layout()\n",
    "plt.show()"
   ]
  },
  {
   "cell_type": "markdown",
   "id": "9674e394-27a5-4630-8c28-2427ce8a3264",
   "metadata": {},
   "source": [
    "## All solution"
   ]
  },
  {
   "cell_type": "code",
   "execution_count": null,
   "id": "09478ace-2a8a-4ecf-b2ce-ec059de95d0e",
   "metadata": {},
   "outputs": [],
   "source": [
    "def stitcher(img1, img2, match_number=20, best_match_number=5, angle_eps=2):\n",
    "    img1 = cv2.normalize(img1, None, 0, 255, cv2.NORM_MINMAX).astype('uint8')\n",
    "    sift = cv2.xfeatures2d.SIFT_create()\n",
    "    kp1, des1 = sift.detectAndCompute(img1, None)\n",
    "    kp2, des2 = sift.detectAndCompute(img2, None)\n",
    "    bf = cv2.BFMatcher(cv2.NORM_L1, crossCheck=False)\n",
    "\n",
    "    if des2 is not None and des1 is not None:\n",
    "        matches = bf.match(des2, des1)\n",
    "        matches = sorted(matches, key=lambda x: x.distance)\n",
    "        if len(matches) > match_number:\n",
    "            matches = matches[:best_match_number]\n",
    "            list_kp1 = np.array([kp1[mat.trainIdx].pt for mat in matches])\n",
    "            list_kp2 = np.array([kp2[mat.queryIdx].pt for mat in matches])\n",
    "            x, y = list_kp1[:, 0] - list_kp2[:, 0], list_kp1[:, 1] - list_kp2[:, 1]\n",
    "            angles = [math.degrees(math.atan2(y[elem], x[elem])) for elem in range(len(x))]\n",
    "\n",
    "            if np.std(angles) < angle_eps:\n",
    "                diff_x, diff_y = int(np.mean(x)), int(np.mean(y))\n",
    "                img3 = np.zeros((max(img1.shape[0], abs(diff_y) + img2.shape[0], img1.shape[0] - diff_y),\n",
    "                                 max((img1.shape[1], abs(diff_x) + img2.shape[1], img1.shape[1] - diff_x))))\n",
    "                diff_x1, diff_y1 = max(0, -diff_x), max(0, -diff_y)\n",
    "                diff_x2, diff_y2 = max(0, diff_x), max(0, diff_y)\n",
    "\n",
    "                img3[diff_y1:diff_y1 + img1.shape[0], diff_x1:diff_x1 + img1.shape[1]] = img1\n",
    "                img3[diff_y2:diff_y2 + img2.shape[0], diff_x2:diff_x2 + img2.shape[1]] = img2\n",
    "                return img3"
   ]
  },
  {
   "cell_type": "code",
   "execution_count": null,
   "id": "5f537729-d5be-4052-b3fb-ead5beb4384b",
   "metadata": {},
   "outputs": [],
   "source": [
    "path = 'puzzle/china_shuffle'\n",
    "images = get_images(path)\n",
    "random_idxs = np.arange(0, len(images))\n",
    "np.random.shuffle(random_idxs)\n",
    "# images = images[random_idxs]"
   ]
  },
  {
   "cell_type": "code",
   "execution_count": null,
   "id": "4ef8905b-16ca-4b66-9835-d43707e54f7e",
   "metadata": {
    "tags": []
   },
   "outputs": [],
   "source": [
    "res = images[0]\n",
    "images = np.delete(images, 0, 0)\n",
    "count = 0\n",
    "\n",
    "pbar = tqdm(total=150)\n",
    "while len(images) >= 1 and count <= 150:\n",
    "    idx = count % len(images)\n",
    "    count += 1\n",
    "    cur = stitcher(res, images[idx])  # match_number=20 // (k + 1), best_match_number=5 + 3 * k, angle_eps=2 + 5 * k)\n",
    "    if cur is not None:\n",
    "        res = cur\n",
    "        images = np.delete(images, idx, 0)\n",
    "        \n",
    "    pbar.update()"
   ]
  },
  {
   "cell_type": "code",
   "execution_count": null,
   "id": "5b5e3348-57fc-4bda-ad09-dc64573f8664",
   "metadata": {},
   "outputs": [],
   "source": [
    "fig = plt.figure(figsize=(6.4 * 2, 4.8 * 2))\n",
    "\n",
    "plt.imshow(res)\n",
    "\n",
    "fig.tight_layout()\n",
    "plt.show()"
   ]
  }
 ],
 "metadata": {
  "kernelspec": {
   "display_name": "Python 3 (ipykernel)",
   "language": "python",
   "name": "python3"
  },
  "language_info": {
   "codemirror_mode": {
    "name": "ipython",
    "version": 3
   },
   "file_extension": ".py",
   "mimetype": "text/x-python",
   "name": "python",
   "nbconvert_exporter": "python",
   "pygments_lexer": "ipython3",
   "version": "3.8.10"
  }
 },
 "nbformat": 4,
 "nbformat_minor": 5
}
