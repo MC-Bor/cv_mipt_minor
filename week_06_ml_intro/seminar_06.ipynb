{
 "cells": [
  {
   "cell_type": "markdown",
   "metadata": {
    "id": "OVkl09sgHGj4"
   },
   "source": [
    "# Семинар 6 - Введение в простые модели ML"
   ]
  },
  {
   "cell_type": "markdown",
   "metadata": {},
   "source": [
    "Дополнительно понадобятся следующие библиотеки. Раскомментируйте код, чтобы установить их."
   ]
  },
  {
   "cell_type": "code",
   "execution_count": 1,
   "metadata": {},
   "outputs": [],
   "source": [
    "# !pip install -U scikit-learn\n",
    "# !pip install pandas"
   ]
  },
  {
   "cell_type": "markdown",
   "metadata": {
    "id": "GRm09mhjnFCF"
   },
   "source": [
    "# Метрики"
   ]
  },
  {
   "cell_type": "code",
   "execution_count": 2,
   "metadata": {
    "ExecuteTime": {
     "end_time": "2020-11-07T18:10:48.115888Z",
     "start_time": "2020-11-07T18:10:46.884762Z"
    },
    "id": "2bW8uOhM-mX8"
   },
   "outputs": [],
   "source": [
    "import pandas as pd\n",
    "import numpy as np\n",
    "import matplotlib.pyplot as plt\n",
    "import matplotlib.animation as animation\n",
    "from IPython.display import HTML\n",
    "\n",
    "from sklearn.model_selection import train_test_split\n",
    "from sklearn.neighbors import KNeighborsClassifier\n",
    "from sklearn.metrics import accuracy_score, precision_score, recall_score, f1_score, mean_squared_error\n",
    "from sklearn.datasets import load_digits\n",
    "from sklearn.linear_model import LinearRegression\n",
    "\n",
    "import warnings\n",
    "warnings.simplefilter('ignore')\n",
    "plt.style.use('seaborn')\n",
    "\n",
    "%matplotlib inline"
   ]
  },
  {
   "cell_type": "markdown",
   "metadata": {},
   "source": [
    "Зададим истинные и \"предсказанные\" метки для того, чтобы посмотреть на точность предсказаний."
   ]
  },
  {
   "cell_type": "code",
   "execution_count": 3,
   "metadata": {},
   "outputs": [],
   "source": [
    "y_pred = [0, 1, 1, 0, 0, 1, 0, 3]\n",
    "y_true = [0, 1, 2, 0, 1, 2, 3, 4]"
   ]
  },
  {
   "cell_type": "markdown",
   "metadata": {
    "id": "dWLkn7Eq-s0U"
   },
   "source": [
    "## Accuracy"
   ]
  },
  {
   "cell_type": "code",
   "execution_count": 4,
   "metadata": {
    "ExecuteTime": {
     "end_time": "2020-11-07T18:23:58.225967Z",
     "start_time": "2020-11-07T18:23:58.220967Z"
    },
    "colab": {
     "base_uri": "https://localhost:8080/"
    },
    "executionInfo": {
     "elapsed": 837,
     "status": "ok",
     "timestamp": 1604690976356,
     "user": {
      "displayName": "Даниил Русланович Махоткин",
      "photoUrl": "",
      "userId": "18336248573599285046"
     },
     "user_tz": -180
    },
    "id": "YYupicLm-mYn",
    "outputId": "3866891b-40b4-4b35-d6fc-71107c9775bb"
   },
   "outputs": [
    {
     "data": {
      "text/plain": [
       "0.375"
      ]
     },
     "execution_count": 4,
     "metadata": {},
     "output_type": "execute_result"
    }
   ],
   "source": [
    "accuracy_score(y_true, y_pred)"
   ]
  },
  {
   "cell_type": "markdown",
   "metadata": {
    "id": "e8AOxz18-y3Z"
   },
   "source": [
    "## Precision"
   ]
  },
  {
   "cell_type": "code",
   "execution_count": 5,
   "metadata": {
    "ExecuteTime": {
     "end_time": "2020-11-07T18:26:39.369249Z",
     "start_time": "2020-11-07T18:26:39.351745Z"
    },
    "colab": {
     "base_uri": "https://localhost:8080/"
    },
    "executionInfo": {
     "elapsed": 988,
     "status": "ok",
     "timestamp": 1604691020085,
     "user": {
      "displayName": "Даниил Русланович Махоткин",
      "photoUrl": "",
      "userId": "18336248573599285046"
     },
     "user_tz": -180
    },
    "id": "nXx0-R1YA3Xo",
    "outputId": "94ffb548-74bf-4378-8833-0cb54f5d687b"
   },
   "outputs": [
    {
     "data": {
      "text/plain": [
       "array([0.5       , 0.33333333, 0.        , 0.        , 0.        ])"
      ]
     },
     "execution_count": 5,
     "metadata": {},
     "output_type": "execute_result"
    }
   ],
   "source": [
    "precision_score(y_true, y_pred, average=None)"
   ]
  },
  {
   "cell_type": "markdown",
   "metadata": {
    "id": "8Cx9ehnZ-3HA"
   },
   "source": [
    "## Recall"
   ]
  },
  {
   "cell_type": "code",
   "execution_count": 6,
   "metadata": {
    "ExecuteTime": {
     "end_time": "2020-11-07T18:27:18.589615Z",
     "start_time": "2020-11-07T18:27:18.583565Z"
    },
    "colab": {
     "base_uri": "https://localhost:8080/"
    },
    "executionInfo": {
     "elapsed": 963,
     "status": "ok",
     "timestamp": 1604691014234,
     "user": {
      "displayName": "Даниил Русланович Махоткин",
      "photoUrl": "",
      "userId": "18336248573599285046"
     },
     "user_tz": -180
    },
    "id": "M6ctcWBkA3Xw",
    "outputId": "457b7859-5fe0-426b-eb6b-01ce8766c4d1"
   },
   "outputs": [
    {
     "data": {
      "text/plain": [
       "array([1. , 0.5, 0. , 0. , 0. ])"
      ]
     },
     "execution_count": 6,
     "metadata": {},
     "output_type": "execute_result"
    }
   ],
   "source": [
    "recall_score(y_true, y_pred, average=None)"
   ]
  },
  {
   "cell_type": "markdown",
   "metadata": {
    "id": "PdbxK_gk-51O"
   },
   "source": [
    "## F1_score"
   ]
  },
  {
   "cell_type": "code",
   "execution_count": 7,
   "metadata": {
    "ExecuteTime": {
     "end_time": "2020-11-07T18:28:26.252660Z",
     "start_time": "2020-11-07T18:28:26.245622Z"
    },
    "colab": {
     "base_uri": "https://localhost:8080/"
    },
    "executionInfo": {
     "elapsed": 892,
     "status": "ok",
     "timestamp": 1604691006903,
     "user": {
      "displayName": "Даниил Русланович Махоткин",
      "photoUrl": "",
      "userId": "18336248573599285046"
     },
     "user_tz": -180
    },
    "id": "uY1ree5aA3X0",
    "outputId": "f17247cd-c0f6-4395-c3a7-8e9e6611f00a"
   },
   "outputs": [
    {
     "data": {
      "text/plain": [
       "array([0.66666667, 0.4       , 0.        , 0.        , 0.        ])"
      ]
     },
     "execution_count": 7,
     "metadata": {},
     "output_type": "execute_result"
    }
   ],
   "source": [
    "f1_score(y_true, y_pred, average=None)"
   ]
  },
  {
   "cell_type": "markdown",
   "metadata": {},
   "source": [
    "# KNN"
   ]
  },
  {
   "cell_type": "markdown",
   "metadata": {
    "id": "XrHfx2WpA3W3"
   },
   "source": [
    "## Загрузим данные"
   ]
  },
  {
   "cell_type": "code",
   "execution_count": 8,
   "metadata": {
    "ExecuteTime": {
     "end_time": "2020-11-07T18:33:07.830612Z",
     "start_time": "2020-11-07T18:33:07.726914Z"
    },
    "colab": {
     "base_uri": "https://localhost:8080/",
     "height": 799
    },
    "executionInfo": {
     "elapsed": 827,
     "status": "ok",
     "timestamp": 1600781733809,
     "user": {
      "displayName": "Даниил Русланович Махоткин",
      "photoUrl": "",
      "userId": "18336248573599285046"
     },
     "user_tz": -180
    },
    "id": "ZTbbEpwjA3W3",
    "outputId": "e6948a3d-76db-4ebb-efb6-35326d8ef749"
   },
   "outputs": [
    {
     "name": "stdout",
     "output_type": "stream",
     "text": [
      ".. _digits_dataset:\n",
      "\n",
      "Optical recognition of handwritten digits dataset\n",
      "--------------------------------------------------\n",
      "\n",
      "**Data Set Characteristics:**\n",
      "\n",
      "    :Number of Instances: 1797\n",
      "    :Number of Attributes: 64\n",
      "    :Attribute Information: 8x8 image of integer pixels in the range 0..16.\n",
      "    :Missing Attribute Values: None\n",
      "    :Creator: E. Alpaydin (alpaydin '@' boun.edu.tr)\n",
      "    :Date: July; 1998\n",
      "\n",
      "This is a copy of the test set of the UCI ML hand-written digits datasets\n",
      "https://archive.ics.uci.edu/ml/datasets/Optical+Recognition+of+Handwritten+Digits\n",
      "\n",
      "The data set contains images of hand-written digits: 10 classes where\n",
      "each class refers to a digit.\n",
      "\n",
      "Preprocessing programs made available by NIST were used to extract\n",
      "normalized bitmaps of handwritten digits from a preprinted form. From a\n",
      "total of 43 people, 30 contributed to the training set and different 13\n",
      "to the test set. 32x32 bitmaps are divided into nonoverlapping blocks of\n",
      "4x4 and the number of on pixels are counted in each block. This generates\n",
      "an input matrix of 8x8 where each element is an integer in the range\n",
      "0..16. This reduces dimensionality and gives invariance to small\n",
      "distortions.\n",
      "\n",
      "For info on NIST preprocessing routines, see M. D. Garris, J. L. Blue, G.\n",
      "T. Candela, D. L. Dimmick, J. Geist, P. J. Grother, S. A. Janet, and C.\n",
      "L. Wilson, NIST Form-Based Handprint Recognition System, NISTIR 5469,\n",
      "1994.\n",
      "\n",
      ".. topic:: References\n",
      "\n",
      "  - C. Kaynak (1995) Methods of Combining Multiple Classifiers and Their\n",
      "    Applications to Handwritten Digit Recognition, MSc Thesis, Institute of\n",
      "    Graduate Studies in Science and Engineering, Bogazici University.\n",
      "  - E. Alpaydin, C. Kaynak (1998) Cascading Classifiers, Kybernetika.\n",
      "  - Ken Tang and Ponnuthurai N. Suganthan and Xi Yao and A. Kai Qin.\n",
      "    Linear dimensionalityreduction using relevance weighted LDA. School of\n",
      "    Electrical and Electronic Engineering Nanyang Technological University.\n",
      "    2005.\n",
      "  - Claudio Gentile. A New Approximate Maximal Margin Classification\n",
      "    Algorithm. NIPS. 2000.\n",
      "\n"
     ]
    }
   ],
   "source": [
    "data = load_digits()\n",
    "print(data['DESCR'])"
   ]
  },
  {
   "cell_type": "code",
   "execution_count": 9,
   "metadata": {
    "ExecuteTime": {
     "end_time": "2020-11-07T18:34:07.055483Z",
     "start_time": "2020-11-07T18:34:06.907964Z"
    }
   },
   "outputs": [
    {
     "name": "stdout",
     "output_type": "stream",
     "text": [
      "1\n"
     ]
    },
    {
     "data": {
      "image/png": "[encoded data removed]",
      "text/plain": [
       "<Figure size 432x288 with 1 Axes>"
      ]
     },
     "metadata": {
      "needs_background": "light"
     },
     "output_type": "display_data"
    }
   ],
   "source": [
    "img = data.data[56].reshape(8, 8)\n",
    "print(data.target[56])\n",
    "\n",
    "plt.imshow(img)\n",
    "plt.show()"
   ]
  },
  {
   "cell_type": "code",
   "execution_count": 10,
   "metadata": {
    "ExecuteTime": {
     "end_time": "2020-11-07T18:34:20.511649Z",
     "start_time": "2020-11-07T18:34:20.508651Z"
    },
    "id": "R1jpuSF7A3W6"
   },
   "outputs": [],
   "source": [
    "X, y = data.data, data.target"
   ]
  },
  {
   "cell_type": "code",
   "execution_count": 11,
   "metadata": {
    "ExecuteTime": {
     "end_time": "2020-11-07T18:34:21.252785Z",
     "start_time": "2020-11-07T18:34:21.248783Z"
    },
    "colab": {
     "base_uri": "https://localhost:8080/",
     "height": 34
    },
    "executionInfo": {
     "elapsed": 619,
     "status": "ok",
     "timestamp": 1600781738907,
     "user": {
      "displayName": "Даниил Русланович Махоткин",
      "photoUrl": "",
      "userId": "18336248573599285046"
     },
     "user_tz": -180
    },
    "id": "q1QZBhfPA3W_",
    "outputId": "8d699b72-11f2-476f-9bf9-28337a34addf"
   },
   "outputs": [
    {
     "name": "stdout",
     "output_type": "stream",
     "text": [
      "В датасете 1797 объектов и 64 признака\n"
     ]
    }
   ],
   "source": [
    "print('В датасете {} объектов и {} признака'.format(X.shape[0], X.shape[1]))"
   ]
  },
  {
   "cell_type": "markdown",
   "metadata": {
    "id": "O2W8MYQnA3XC"
   },
   "source": [
    "### Посмотрим на объекты:"
   ]
  },
  {
   "cell_type": "code",
   "execution_count": 12,
   "metadata": {
    "ExecuteTime": {
     "end_time": "2020-11-07T18:34:23.873758Z",
     "start_time": "2020-11-07T18:34:23.716162Z"
    },
    "colab": {
     "base_uri": "https://localhost:8080/",
     "height": 421
    },
    "executionInfo": {
     "elapsed": 925,
     "status": "ok",
     "timestamp": 1600781743122,
     "user": {
      "displayName": "Даниил Русланович Махоткин",
      "photoUrl": "",
      "userId": "18336248573599285046"
     },
     "user_tz": -180
    },
    "id": "H_I5K7mbA3XC",
    "outputId": "fab2ec9d-cefe-4bfc-9d42-5548637bab73"
   },
   "outputs": [
    {
     "name": "stdout",
     "output_type": "stream",
     "text": [
      "Class name: 5\n",
      "[[ 0.  0. 15. 13. 13. 13.  0.  0.]\n",
      " [ 0.  0. 16. 16. 11.  3.  0.  0.]\n",
      " [ 0.  0. 12. 13.  0.  0.  0.  0.]\n",
      " [ 0.  0.  5. 16.  3.  0.  0.  0.]\n",
      " [ 0.  0.  0. 11. 10.  0.  0.  0.]\n",
      " [ 0.  0.  0. 10. 14.  0.  0.  0.]\n",
      " [ 0.  0.  9. 16. 10.  0.  0.  0.]\n",
      " [ 0.  0. 11. 15.  1.  0.  0.  0.]]\n"
     ]
    },
    {
     "data": {
      "image/png": "[encoded data removed]",
      "text/plain": [
       "<Figure size 432x288 with 1 Axes>"
      ]
     },
     "metadata": {
      "needs_background": "light"
     },
     "output_type": "display_data"
    }
   ],
   "source": [
    "i = np.random.randint(0, X.shape[0])\n",
    "print('Class name: {}'.format(y[i]))\n",
    "print(X[i].reshape(8,8))\n",
    "\n",
    "X[i]\n",
    "plt.imshow(X[i].reshape(8,8), cmap='gray_r')\n",
    "plt.show()"
   ]
  },
  {
   "cell_type": "markdown",
   "metadata": {
    "id": "pbQmOAHrA3XF"
   },
   "source": [
    "Посмотрим на баланс классов:"
   ]
  },
  {
   "cell_type": "code",
   "execution_count": 13,
   "metadata": {
    "ExecuteTime": {
     "end_time": "2020-11-07T18:34:40.379449Z",
     "start_time": "2020-11-07T18:34:40.373454Z"
    },
    "id": "5f9WvFM3A3XG"
   },
   "outputs": [],
   "source": [
    "counts = np.unique(y, return_counts=True)"
   ]
  },
  {
   "cell_type": "code",
   "execution_count": 14,
   "metadata": {
    "ExecuteTime": {
     "end_time": "2020-11-07T18:34:44.435381Z",
     "start_time": "2020-11-07T18:34:44.261227Z"
    },
    "colab": {
     "base_uri": "https://localhost:8080/",
     "height": 338
    },
    "executionInfo": {
     "elapsed": 858,
     "status": "ok",
     "timestamp": 1600781749188,
     "user": {
      "displayName": "Даниил Русланович Махоткин",
      "photoUrl": "",
      "userId": "18336248573599285046"
     },
     "user_tz": -180
    },
    "id": "Hr_lUgubA3XI",
    "outputId": "5ca42eed-1298-4d3f-8afc-42da4b0ed7e0"
   },
   "outputs": [
    {
     "data": {
      "image/png": "[encoded data removed]",
      "text/plain": [
       "<Figure size 432x288 with 1 Axes>"
      ]
     },
     "metadata": {
      "needs_background": "light"
     },
     "output_type": "display_data"
    }
   ],
   "source": [
    "fig = plt.figure()\n",
    "ax = fig.add_axes([0,0,1,1])\n",
    "ax.bar(counts[0], counts[1])\n",
    "plt.show()"
   ]
  },
  {
   "cell_type": "markdown",
   "metadata": {
    "id": "B0FWjkg0A3XK"
   },
   "source": [
    "Разделим выборку на две части: обучающую и тестовую"
   ]
  },
  {
   "cell_type": "code",
   "execution_count": 15,
   "metadata": {
    "ExecuteTime": {
     "end_time": "2020-11-07T18:36:26.462037Z",
     "start_time": "2020-11-07T18:36:26.452864Z"
    },
    "colab": {
     "base_uri": "https://localhost:8080/",
     "height": 34
    },
    "executionInfo": {
     "elapsed": 542,
     "status": "ok",
     "timestamp": 1600781754292,
     "user": {
      "displayName": "Даниил Русланович Махоткин",
      "photoUrl": "",
      "userId": "18336248573599285046"
     },
     "user_tz": -180
    },
    "id": "LPnAuqZAA3XM",
    "outputId": "9736280b-e0d2-43f3-f329-20e1cda8d074"
   },
   "outputs": [
    {
     "data": {
      "text/plain": [
       "((898, 64), (899, 64), (898,), (899,))"
      ]
     },
     "execution_count": 15,
     "metadata": {},
     "output_type": "execute_result"
    }
   ],
   "source": [
    "X_train, X_test, y_train, y_test = train_test_split(X, y, \n",
    "                                                    train_size=0.5,\n",
    "                                                    test_size=0.5, \n",
    "                                                    shuffle=True,\n",
    "                                                   random_state=18)\n",
    "X_train.shape, X_test.shape, y_train.shape, y_test.shape  "
   ]
  },
  {
   "cell_type": "markdown",
   "metadata": {
    "id": "vPY3a6wOA3XP"
   },
   "source": [
    "## Метод ближайших соседей"
   ]
  },
  {
   "cell_type": "markdown",
   "metadata": {
    "id": "COoieQ2MA3XR"
   },
   "source": [
    "Зададим классификатор:"
   ]
  },
  {
   "cell_type": "code",
   "execution_count": 16,
   "metadata": {
    "ExecuteTime": {
     "end_time": "2020-11-07T18:36:31.200315Z",
     "start_time": "2020-11-07T18:36:31.197354Z"
    },
    "id": "XOx-hiNVA3XS"
   },
   "outputs": [],
   "source": [
    "knn = KNeighborsClassifier(n_neighbors=5)"
   ]
  },
  {
   "cell_type": "code",
   "execution_count": 17,
   "metadata": {
    "ExecuteTime": {
     "end_time": "2020-11-07T18:36:57.113663Z",
     "start_time": "2020-11-07T18:36:56.973307Z"
    },
    "id": "j5ec_5nEA3XT"
   },
   "outputs": [],
   "source": [
    "knn.fit(X_train, y_train)\n",
    "knn_predictons = knn.predict(X_test)"
   ]
  },
  {
   "cell_type": "code",
   "execution_count": 18,
   "metadata": {
    "ExecuteTime": {
     "end_time": "2020-11-07T18:36:57.309527Z",
     "start_time": "2020-11-07T18:36:57.303562Z"
    },
    "id": "Hu04KvGEA3XW"
   },
   "outputs": [],
   "source": [
    "preds = pd.DataFrame(y_test, columns=['True'])\n",
    "preds['knn_pred'] = knn_predictons"
   ]
  },
  {
   "cell_type": "code",
   "execution_count": 19,
   "metadata": {
    "ExecuteTime": {
     "end_time": "2020-11-07T18:37:09.949467Z",
     "start_time": "2020-11-07T18:37:09.934915Z"
    },
    "colab": {
     "base_uri": "https://localhost:8080/",
     "height": 204
    },
    "executionInfo": {
     "elapsed": 1123,
     "status": "ok",
     "timestamp": 1600781763889,
     "user": {
      "displayName": "Даниил Русланович Махоткин",
      "photoUrl": "",
      "userId": "18336248573599285046"
     },
     "user_tz": -180
    },
    "id": "VHEz4InXA3XY",
    "outputId": "2cc72a48-79d8-4d41-acdf-937660810c8d"
   },
   "outputs": [
    {
     "data": {
      "text/html": [
       "<div>\n",
       "<style scoped>\n",
       "    .dataframe tbody tr th:only-of-type {\n",
       "        vertical-align: middle;\n",
       "    }\n",
       "\n",
       "    .dataframe tbody tr th {\n",
       "        vertical-align: top;\n",
       "    }\n",
       "\n",
       "    .dataframe thead th {\n",
       "        text-align: right;\n",
       "    }\n",
       "</style>\n",
       "<table border=\"1\" class=\"dataframe\">\n",
       "  <thead>\n",
       "    <tr style=\"text-align: right;\">\n",
       "      <th></th>\n",
       "      <th>0</th>\n",
       "      <th>1</th>\n",
       "      <th>2</th>\n",
       "      <th>3</th>\n",
       "      <th>4</th>\n",
       "      <th>5</th>\n",
       "      <th>6</th>\n",
       "      <th>7</th>\n",
       "      <th>8</th>\n",
       "      <th>9</th>\n",
       "      <th>...</th>\n",
       "      <th>190</th>\n",
       "      <th>191</th>\n",
       "      <th>192</th>\n",
       "      <th>193</th>\n",
       "      <th>194</th>\n",
       "      <th>195</th>\n",
       "      <th>196</th>\n",
       "      <th>197</th>\n",
       "      <th>198</th>\n",
       "      <th>199</th>\n",
       "    </tr>\n",
       "  </thead>\n",
       "  <tbody>\n",
       "    <tr>\n",
       "      <th>True</th>\n",
       "      <td>0</td>\n",
       "      <td>3</td>\n",
       "      <td>4</td>\n",
       "      <td>4</td>\n",
       "      <td>8</td>\n",
       "      <td>4</td>\n",
       "      <td>0</td>\n",
       "      <td>8</td>\n",
       "      <td>3</td>\n",
       "      <td>7</td>\n",
       "      <td>...</td>\n",
       "      <td>9</td>\n",
       "      <td>7</td>\n",
       "      <td>6</td>\n",
       "      <td>7</td>\n",
       "      <td>8</td>\n",
       "      <td>6</td>\n",
       "      <td>9</td>\n",
       "      <td>6</td>\n",
       "      <td>2</td>\n",
       "      <td>3</td>\n",
       "    </tr>\n",
       "    <tr>\n",
       "      <th>knn_pred</th>\n",
       "      <td>0</td>\n",
       "      <td>3</td>\n",
       "      <td>4</td>\n",
       "      <td>4</td>\n",
       "      <td>8</td>\n",
       "      <td>4</td>\n",
       "      <td>0</td>\n",
       "      <td>8</td>\n",
       "      <td>3</td>\n",
       "      <td>7</td>\n",
       "      <td>...</td>\n",
       "      <td>9</td>\n",
       "      <td>7</td>\n",
       "      <td>6</td>\n",
       "      <td>7</td>\n",
       "      <td>8</td>\n",
       "      <td>6</td>\n",
       "      <td>9</td>\n",
       "      <td>6</td>\n",
       "      <td>2</td>\n",
       "      <td>3</td>\n",
       "    </tr>\n",
       "  </tbody>\n",
       "</table>\n",
       "<p>2 rows × 200 columns</p>\n",
       "</div>"
      ],
      "text/plain": [
       "          0    1    2    3    4    5    6    7    8    9    ...  190  191  \\\n",
       "True        0    3    4    4    8    4    0    8    3    7  ...    9    7   \n",
       "knn_pred    0    3    4    4    8    4    0    8    3    7  ...    9    7   \n",
       "\n",
       "          192  193  194  195  196  197  198  199  \n",
       "True        6    7    8    6    9    6    2    3  \n",
       "knn_pred    6    7    8    6    9    6    2    3  \n",
       "\n",
       "[2 rows x 200 columns]"
      ]
     },
     "execution_count": 19,
     "metadata": {},
     "output_type": "execute_result"
    }
   ],
   "source": [
    "preds.head(200).T"
   ]
  },
  {
   "cell_type": "markdown",
   "metadata": {},
   "source": [
    "Посмотрим долю правильных ответов:"
   ]
  },
  {
   "cell_type": "code",
   "execution_count": 20,
   "metadata": {
    "ExecuteTime": {
     "end_time": "2020-11-07T18:37:30.227327Z",
     "start_time": "2020-11-07T18:37:30.222367Z"
    },
    "colab": {
     "base_uri": "https://localhost:8080/",
     "height": 34
    },
    "executionInfo": {
     "elapsed": 805,
     "status": "ok",
     "timestamp": 1600781764188,
     "user": {
      "displayName": "Даниил Русланович Махоткин",
      "photoUrl": "",
      "userId": "18336248573599285046"
     },
     "user_tz": -180
    },
    "id": "BUj2vteGA3Xa",
    "outputId": "9f6e98b1-8a98-45df-e5e2-c0c28e55c8cf"
   },
   "outputs": [
    {
     "data": {
      "text/plain": [
       "0.9866518353726362"
      ]
     },
     "execution_count": 20,
     "metadata": {},
     "output_type": "execute_result"
    }
   ],
   "source": [
    "accuracy_score(y_test, knn_predictons)"
   ]
  },
  {
   "cell_type": "markdown",
   "metadata": {
    "id": "Cerpg8c_A3YN"
   },
   "source": [
    "## Поиск оптимальных параметров"
   ]
  },
  {
   "cell_type": "code",
   "execution_count": 21,
   "metadata": {
    "ExecuteTime": {
     "end_time": "2020-11-07T18:40:50.304139Z",
     "start_time": "2020-11-07T18:40:50.301168Z"
    },
    "id": "fIfuyzGVA3YN"
   },
   "outputs": [],
   "source": [
    "from sklearn.model_selection import GridSearchCV"
   ]
  },
  {
   "cell_type": "code",
   "execution_count": 22,
   "metadata": {
    "ExecuteTime": {
     "end_time": "2020-11-07T18:40:50.800666Z",
     "start_time": "2020-11-07T18:40:50.797173Z"
    },
    "id": "XazV6tE_A3YQ"
   },
   "outputs": [],
   "source": [
    "n = np.linspace(1, 21, 21, dtype=int)"
   ]
  },
  {
   "cell_type": "code",
   "execution_count": 23,
   "metadata": {
    "ExecuteTime": {
     "end_time": "2020-11-07T18:40:55.186958Z",
     "start_time": "2020-11-07T18:40:55.182157Z"
    }
   },
   "outputs": [
    {
     "data": {
      "text/plain": [
       "array([ 1,  2,  3,  4,  5,  6,  7,  8,  9, 10, 11, 12, 13, 14, 15, 16, 17,\n",
       "       18, 19, 20, 21])"
      ]
     },
     "execution_count": 23,
     "metadata": {},
     "output_type": "execute_result"
    }
   ],
   "source": [
    "n"
   ]
  },
  {
   "cell_type": "code",
   "execution_count": 24,
   "metadata": {
    "ExecuteTime": {
     "end_time": "2020-11-07T18:41:50.939325Z",
     "start_time": "2020-11-07T18:41:43.869231Z"
    },
    "colab": {
     "base_uri": "https://localhost:8080/",
     "height": 221
    },
    "executionInfo": {
     "elapsed": 4850,
     "status": "ok",
     "timestamp": 1600781981477,
     "user": {
      "displayName": "Даниил Русланович Махоткин",
      "photoUrl": "",
      "userId": "18336248573599285046"
     },
     "user_tz": -180
    },
    "id": "-2RjFLRxA3YS",
    "outputId": "d5961599-68cc-4a63-8abc-18b8dc5d2731",
    "scrolled": true
   },
   "outputs": [
    {
     "data": {
      "text/plain": [
       "GridSearchCV(cv=5, estimator=KNeighborsClassifier(),\n",
       "             param_grid={'metric': ['minkowski', 'manhattan'],\n",
       "                         'n_neighbors': array([ 1,  2,  3,  4,  5,  6,  7,  8,  9, 10, 11, 12, 13, 14, 15, 16, 17,\n",
       "       18, 19, 20, 21])},\n",
       "             scoring='accuracy')"
      ]
     },
     "execution_count": 24,
     "metadata": {},
     "output_type": "execute_result"
    }
   ],
   "source": [
    "kNN_cv = KNeighborsClassifier(n_neighbors=5)\n",
    "params = {\n",
    "    'metric':['minkowski', 'manhattan'],\n",
    "    'n_neighbors': n,\n",
    "         }\n",
    "\n",
    "gcv = GridSearchCV(kNN_cv, param_grid=params, cv=5, scoring='accuracy')\n",
    "gcv.fit(X_train, y_train)"
   ]
  },
  {
   "cell_type": "code",
   "execution_count": 25,
   "metadata": {
    "ExecuteTime": {
     "end_time": "2020-11-07T18:42:31.226331Z",
     "start_time": "2020-11-07T18:42:31.221329Z"
    }
   },
   "outputs": [
    {
     "data": {
      "text/plain": [
       "{'cv': 5,\n",
       " 'error_score': nan,\n",
       " 'estimator__algorithm': 'auto',\n",
       " 'estimator__leaf_size': 30,\n",
       " 'estimator__metric': 'minkowski',\n",
       " 'estimator__metric_params': None,\n",
       " 'estimator__n_jobs': None,\n",
       " 'estimator__n_neighbors': 5,\n",
       " 'estimator__p': 2,\n",
       " 'estimator__weights': 'uniform',\n",
       " 'estimator': KNeighborsClassifier(),\n",
       " 'n_jobs': None,\n",
       " 'param_grid': {'metric': ['minkowski', 'manhattan'],\n",
       "  'n_neighbors': array([ 1,  2,  3,  4,  5,  6,  7,  8,  9, 10, 11, 12, 13, 14, 15, 16, 17,\n",
       "         18, 19, 20, 21])},\n",
       " 'pre_dispatch': '2*n_jobs',\n",
       " 'refit': True,\n",
       " 'return_train_score': False,\n",
       " 'scoring': 'accuracy',\n",
       " 'verbose': 0}"
      ]
     },
     "execution_count": 25,
     "metadata": {},
     "output_type": "execute_result"
    }
   ],
   "source": [
    "gcv.get_params()"
   ]
  },
  {
   "cell_type": "code",
   "execution_count": 26,
   "metadata": {
    "ExecuteTime": {
     "end_time": "2020-11-07T18:43:24.240188Z",
     "start_time": "2020-11-07T18:43:24.232189Z"
    },
    "id": "inWaX4gPA3YU"
   },
   "outputs": [],
   "source": [
    "def print_cv_results(a, len_gs, params, param_r, param_sep): \n",
    "    d = len(params['param_grid'][param_sep])\n",
    "    ar = np.array(a).reshape(d, len_gs).T\n",
    "    df = pd.DataFrame(ar)\n",
    "\n",
    "    pen_par = params['param_grid'][param_sep]\n",
    "    c_par = params['param_grid'][param_r]\n",
    "    if type(c_par) != list: \n",
    "        c_par = c_par.tolist()\n",
    "        \n",
    "    columns_mapper = dict(zip(range(0, len(pen_par)), pen_par))\n",
    "    row_mapper = dict(zip(range(0, len(c_par)), c_par))\n",
    "\n",
    "    df.rename(columns=columns_mapper, index=row_mapper, inplace=True)\n",
    "\n",
    "    plot = df.plot(title='Mean accuracy rating', grid=True)\n",
    "    plot.set_xlabel(param_r, fontsize=13)\n",
    "    plot.set_ylabel('acc', rotation=0, fontsize=13, labelpad=15)\n",
    "    \n",
    "    plt.show()"
   ]
  },
  {
   "cell_type": "code",
   "execution_count": 27,
   "metadata": {
    "ExecuteTime": {
     "end_time": "2020-11-07T18:43:26.004017Z",
     "start_time": "2020-11-07T18:43:25.998054Z"
    },
    "colab": {
     "base_uri": "https://localhost:8080/",
     "height": 408
    },
    "executionInfo": {
     "elapsed": 511,
     "status": "ok",
     "timestamp": 1600781983583,
     "user": {
      "displayName": "Даниил Русланович Махоткин",
      "photoUrl": "",
      "userId": "18336248573599285046"
     },
     "user_tz": -180
    },
    "id": "VU1wrde9A3YV",
    "outputId": "d9b94dfa-c375-438b-99a0-bc99aae45f4f"
   },
   "outputs": [
    {
     "data": {
      "text/plain": [
       "{'cv': 5,\n",
       " 'error_score': nan,\n",
       " 'estimator__algorithm': 'auto',\n",
       " 'estimator__leaf_size': 30,\n",
       " 'estimator__metric': 'minkowski',\n",
       " 'estimator__metric_params': None,\n",
       " 'estimator__n_jobs': None,\n",
       " 'estimator__n_neighbors': 5,\n",
       " 'estimator__p': 2,\n",
       " 'estimator__weights': 'uniform',\n",
       " 'estimator': KNeighborsClassifier(),\n",
       " 'n_jobs': None,\n",
       " 'param_grid': {'metric': ['minkowski', 'manhattan'],\n",
       "  'n_neighbors': array([ 1,  2,  3,  4,  5,  6,  7,  8,  9, 10, 11, 12, 13, 14, 15, 16, 17,\n",
       "         18, 19, 20, 21])},\n",
       " 'pre_dispatch': '2*n_jobs',\n",
       " 'refit': True,\n",
       " 'return_train_score': False,\n",
       " 'scoring': 'accuracy',\n",
       " 'verbose': 0}"
      ]
     },
     "execution_count": 27,
     "metadata": {},
     "output_type": "execute_result"
    }
   ],
   "source": [
    "gcv.get_params()"
   ]
  },
  {
   "cell_type": "code",
   "execution_count": 28,
   "metadata": {
    "ExecuteTime": {
     "end_time": "2020-11-07T18:43:26.927710Z",
     "start_time": "2020-11-07T18:43:26.670169Z"
    },
    "colab": {
     "base_uri": "https://localhost:8080/",
     "height": 318
    },
    "executionInfo": {
     "elapsed": 976,
     "status": "ok",
     "timestamp": 1600781985404,
     "user": {
      "displayName": "Даниил Русланович Махоткин",
      "photoUrl": "",
      "userId": "18336248573599285046"
     },
     "user_tz": -180
    },
    "id": "7T9nrU3kA3YX",
    "outputId": "1c90fe00-5f73-4d46-ad7e-5f735ad7c112"
   },
   "outputs": [
    {
     "data": {
      "image/png": "[encoded data removed]",
      "text/plain": [
       "<Figure size 432x288 with 1 Axes>"
      ]
     },
     "metadata": {
      "needs_background": "light"
     },
     "output_type": "display_data"
    },
    {
     "data": {
      "text/plain": [
       "{'metric': 'minkowski', 'n_neighbors': 1}"
      ]
     },
     "execution_count": 28,
     "metadata": {},
     "output_type": "execute_result"
    }
   ],
   "source": [
    "print_cv_results(gcv.cv_results_['mean_test_score'],\n",
    "                 21, gcv.get_params(), 'n_neighbors','metric')\n",
    "gcv.best_params_"
   ]
  },
  {
   "cell_type": "code",
   "execution_count": 29,
   "metadata": {
    "ExecuteTime": {
     "end_time": "2020-11-07T18:44:24.546375Z",
     "start_time": "2020-11-07T18:44:24.541373Z"
    },
    "colab": {
     "base_uri": "https://localhost:8080/",
     "height": 51
    },
    "executionInfo": {
     "elapsed": 833,
     "status": "ok",
     "timestamp": 1600781987279,
     "user": {
      "displayName": "Даниил Русланович Махоткин",
      "photoUrl": "",
      "userId": "18336248573599285046"
     },
     "user_tz": -180
    },
    "id": "2W7YawmTA3YY",
    "outputId": "4aa68f20-a1ae-496e-9bea-f48a5af54f16"
   },
   "outputs": [
    {
     "name": "stdout",
     "output_type": "stream",
     "text": [
      "Лучший скор 0.9833\n",
      "при метрике minkowski и 1 соседей\n"
     ]
    }
   ],
   "source": [
    "print('Лучший скор %.4f' % gcv.best_score_)\n",
    "print('при метрике %(metric)s и %(n_neighbors)s соседей' % gcv.best_params_)"
   ]
  },
  {
   "cell_type": "markdown",
   "metadata": {
    "id": "HAN_NbOJA3Ya"
   },
   "source": [
    "### Что получится на тесте?"
   ]
  },
  {
   "cell_type": "code",
   "execution_count": 30,
   "metadata": {
    "ExecuteTime": {
     "end_time": "2020-11-07T18:45:04.577558Z",
     "start_time": "2020-11-07T18:45:04.462532Z"
    },
    "colab": {
     "base_uri": "https://localhost:8080/",
     "height": 34
    },
    "executionInfo": {
     "elapsed": 1055,
     "status": "ok",
     "timestamp": 1600781992335,
     "user": {
      "displayName": "Даниил Русланович Махоткин",
      "photoUrl": "",
      "userId": "18336248573599285046"
     },
     "user_tz": -180
    },
    "id": "c8Uc888lA3Yb",
    "outputId": "b10185ed-5341-46a3-ce7e-fd3b85cf5fd8"
   },
   "outputs": [
    {
     "data": {
      "text/plain": [
       "0.985539488320356"
      ]
     },
     "execution_count": 30,
     "metadata": {},
     "output_type": "execute_result"
    }
   ],
   "source": [
    "accuracy_score(y_test, gcv.predict(X_test))"
   ]
  },
  {
   "cell_type": "code",
   "execution_count": 31,
   "metadata": {
    "ExecuteTime": {
     "end_time": "2020-11-07T18:45:06.165643Z",
     "start_time": "2020-11-07T18:45:06.054462Z"
    },
    "id": "ln6pagOYA3Yd"
   },
   "outputs": [],
   "source": [
    "gcv_preds = pd.DataFrame(gcv.predict(X_test), columns=['kNN'])"
   ]
  },
  {
   "cell_type": "code",
   "execution_count": 32,
   "metadata": {
    "ExecuteTime": {
     "end_time": "2020-11-07T18:45:06.601843Z",
     "start_time": "2020-11-07T18:45:06.597882Z"
    },
    "id": "UcmYKdkCA3Ye"
   },
   "outputs": [],
   "source": [
    "gcv_preds['True'] = y_test"
   ]
  },
  {
   "cell_type": "code",
   "execution_count": 33,
   "metadata": {
    "ExecuteTime": {
     "end_time": "2020-11-07T18:45:07.076953Z",
     "start_time": "2020-11-07T18:45:07.062899Z"
    },
    "colab": {
     "base_uri": "https://localhost:8080/",
     "height": 419
    },
    "executionInfo": {
     "elapsed": 561,
     "status": "ok",
     "timestamp": 1600781993591,
     "user": {
      "displayName": "Даниил Русланович Махоткин",
      "photoUrl": "",
      "userId": "18336248573599285046"
     },
     "user_tz": -180
    },
    "id": "OhDjXEP6A3Yi",
    "outputId": "5738edeb-9071-4f7e-af13-6ed714ff2d16"
   },
   "outputs": [
    {
     "data": {
      "text/html": [
       "<div>\n",
       "<style scoped>\n",
       "    .dataframe tbody tr th:only-of-type {\n",
       "        vertical-align: middle;\n",
       "    }\n",
       "\n",
       "    .dataframe tbody tr th {\n",
       "        vertical-align: top;\n",
       "    }\n",
       "\n",
       "    .dataframe thead th {\n",
       "        text-align: right;\n",
       "    }\n",
       "</style>\n",
       "<table border=\"1\" class=\"dataframe\">\n",
       "  <thead>\n",
       "    <tr style=\"text-align: right;\">\n",
       "      <th></th>\n",
       "      <th>kNN</th>\n",
       "      <th>True</th>\n",
       "    </tr>\n",
       "  </thead>\n",
       "  <tbody>\n",
       "    <tr>\n",
       "      <th>0</th>\n",
       "      <td>0</td>\n",
       "      <td>0</td>\n",
       "    </tr>\n",
       "    <tr>\n",
       "      <th>1</th>\n",
       "      <td>3</td>\n",
       "      <td>3</td>\n",
       "    </tr>\n",
       "    <tr>\n",
       "      <th>2</th>\n",
       "      <td>4</td>\n",
       "      <td>4</td>\n",
       "    </tr>\n",
       "    <tr>\n",
       "      <th>3</th>\n",
       "      <td>4</td>\n",
       "      <td>4</td>\n",
       "    </tr>\n",
       "    <tr>\n",
       "      <th>4</th>\n",
       "      <td>8</td>\n",
       "      <td>8</td>\n",
       "    </tr>\n",
       "    <tr>\n",
       "      <th>...</th>\n",
       "      <td>...</td>\n",
       "      <td>...</td>\n",
       "    </tr>\n",
       "    <tr>\n",
       "      <th>894</th>\n",
       "      <td>0</td>\n",
       "      <td>0</td>\n",
       "    </tr>\n",
       "    <tr>\n",
       "      <th>895</th>\n",
       "      <td>1</td>\n",
       "      <td>1</td>\n",
       "    </tr>\n",
       "    <tr>\n",
       "      <th>896</th>\n",
       "      <td>8</td>\n",
       "      <td>8</td>\n",
       "    </tr>\n",
       "    <tr>\n",
       "      <th>897</th>\n",
       "      <td>0</td>\n",
       "      <td>0</td>\n",
       "    </tr>\n",
       "    <tr>\n",
       "      <th>898</th>\n",
       "      <td>6</td>\n",
       "      <td>6</td>\n",
       "    </tr>\n",
       "  </tbody>\n",
       "</table>\n",
       "<p>899 rows × 2 columns</p>\n",
       "</div>"
      ],
      "text/plain": [
       "     kNN  True\n",
       "0      0     0\n",
       "1      3     3\n",
       "2      4     4\n",
       "3      4     4\n",
       "4      8     8\n",
       "..   ...   ...\n",
       "894    0     0\n",
       "895    1     1\n",
       "896    8     8\n",
       "897    0     0\n",
       "898    6     6\n",
       "\n",
       "[899 rows x 2 columns]"
      ]
     },
     "execution_count": 33,
     "metadata": {},
     "output_type": "execute_result"
    }
   ],
   "source": [
    "gcv_preds"
   ]
  },
  {
   "cell_type": "markdown",
   "metadata": {
    "id": "-O0B1AZ5A3Yk"
   },
   "source": [
    "Посмотрим на те цифры, которые \"путает\" наш классификатор"
   ]
  },
  {
   "cell_type": "code",
   "execution_count": 34,
   "metadata": {
    "ExecuteTime": {
     "end_time": "2020-11-07T18:45:10.311392Z",
     "start_time": "2020-11-07T18:45:10.302392Z"
    },
    "colab": {
     "base_uri": "https://localhost:8080/",
     "height": 483
    },
    "executionInfo": {
     "elapsed": 962,
     "status": "ok",
     "timestamp": 1600781998125,
     "user": {
      "displayName": "Даниил Русланович Махоткин",
      "photoUrl": "",
      "userId": "18336248573599285046"
     },
     "user_tz": -180
    },
    "id": "x2WZ4dBSA3Yk",
    "outputId": "faf336ff-10e6-432a-a2b1-d6439033153d"
   },
   "outputs": [
    {
     "data": {
      "text/html": [
       "<div>\n",
       "<style scoped>\n",
       "    .dataframe tbody tr th:only-of-type {\n",
       "        vertical-align: middle;\n",
       "    }\n",
       "\n",
       "    .dataframe tbody tr th {\n",
       "        vertical-align: top;\n",
       "    }\n",
       "\n",
       "    .dataframe thead th {\n",
       "        text-align: right;\n",
       "    }\n",
       "</style>\n",
       "<table border=\"1\" class=\"dataframe\">\n",
       "  <thead>\n",
       "    <tr style=\"text-align: right;\">\n",
       "      <th></th>\n",
       "      <th>kNN</th>\n",
       "      <th>True</th>\n",
       "    </tr>\n",
       "  </thead>\n",
       "  <tbody>\n",
       "    <tr>\n",
       "      <th>78</th>\n",
       "      <td>1</td>\n",
       "      <td>8</td>\n",
       "    </tr>\n",
       "    <tr>\n",
       "      <th>107</th>\n",
       "      <td>5</td>\n",
       "      <td>1</td>\n",
       "    </tr>\n",
       "    <tr>\n",
       "      <th>252</th>\n",
       "      <td>4</td>\n",
       "      <td>9</td>\n",
       "    </tr>\n",
       "    <tr>\n",
       "      <th>308</th>\n",
       "      <td>9</td>\n",
       "      <td>3</td>\n",
       "    </tr>\n",
       "    <tr>\n",
       "      <th>324</th>\n",
       "      <td>1</td>\n",
       "      <td>8</td>\n",
       "    </tr>\n",
       "    <tr>\n",
       "      <th>477</th>\n",
       "      <td>8</td>\n",
       "      <td>6</td>\n",
       "    </tr>\n",
       "    <tr>\n",
       "      <th>572</th>\n",
       "      <td>8</td>\n",
       "      <td>9</td>\n",
       "    </tr>\n",
       "    <tr>\n",
       "      <th>579</th>\n",
       "      <td>4</td>\n",
       "      <td>0</td>\n",
       "    </tr>\n",
       "    <tr>\n",
       "      <th>611</th>\n",
       "      <td>1</td>\n",
       "      <td>6</td>\n",
       "    </tr>\n",
       "    <tr>\n",
       "      <th>651</th>\n",
       "      <td>1</td>\n",
       "      <td>8</td>\n",
       "    </tr>\n",
       "    <tr>\n",
       "      <th>872</th>\n",
       "      <td>9</td>\n",
       "      <td>3</td>\n",
       "    </tr>\n",
       "    <tr>\n",
       "      <th>874</th>\n",
       "      <td>9</td>\n",
       "      <td>5</td>\n",
       "    </tr>\n",
       "    <tr>\n",
       "      <th>879</th>\n",
       "      <td>5</td>\n",
       "      <td>3</td>\n",
       "    </tr>\n",
       "  </tbody>\n",
       "</table>\n",
       "</div>"
      ],
      "text/plain": [
       "     kNN  True\n",
       "78     1     8\n",
       "107    5     1\n",
       "252    4     9\n",
       "308    9     3\n",
       "324    1     8\n",
       "477    8     6\n",
       "572    8     9\n",
       "579    4     0\n",
       "611    1     6\n",
       "651    1     8\n",
       "872    9     3\n",
       "874    9     5\n",
       "879    5     3"
      ]
     },
     "execution_count": 34,
     "metadata": {},
     "output_type": "execute_result"
    }
   ],
   "source": [
    "gcv_preds[gcv_preds['True'] != gcv_preds['kNN']]"
   ]
  },
  {
   "cell_type": "markdown",
   "metadata": {
    "id": "9qzz8VxBmcCP"
   },
   "source": [
    "# Линейные модели"
   ]
  },
  {
   "cell_type": "markdown",
   "metadata": {
    "id": "LIZnmyhM622x"
   },
   "source": [
    "## Постановка задачи"
   ]
  },
  {
   "cell_type": "markdown",
   "metadata": {
    "id": "n0s4kCH5Jfga"
   },
   "source": [
    "![picture](https://drive.google.com/uc?export=view&id=1pNRo9-N2Udjv3AK0uTJ0qCWkk9Ko_9TA)"
   ]
  },
  {
   "cell_type": "markdown",
   "metadata": {
    "id": "2nIJ87Z3K9GI"
   },
   "source": [
    "Где линейная модель - это: $$ \\hat{y} = f(x) = \\theta_0*1 + \\theta_1*x_1 + ... + \\theta_n*x_n = \\theta^T*X$$"
   ]
  },
  {
   "cell_type": "markdown",
   "metadata": {
    "id": "hf_S9ZcpmcCV"
   },
   "source": [
    "Сгенерируем исскуственные данные, на основе функции:\n",
    "$$f(x) = 4x+5$$"
   ]
  },
  {
   "cell_type": "code",
   "execution_count": 35,
   "metadata": {
    "id": "acxSQ_I3mcCV"
   },
   "outputs": [],
   "source": [
    "def lin_function(x):\n",
    "    return 4 * x + 5"
   ]
  },
  {
   "cell_type": "code",
   "execution_count": 36,
   "metadata": {
    "colab": {
     "base_uri": "https://localhost:8080/",
     "height": 265
    },
    "id": "_hON0uHxmcCY",
    "outputId": "76857a8b-6c52-4d50-9e49-e807a3cadca6"
   },
   "outputs": [
    {
     "data": {
      "image/png": "[encoded data removed]",
      "text/plain": [
       "<Figure size 432x288 with 1 Axes>"
      ]
     },
     "metadata": {
      "needs_background": "light"
     },
     "output_type": "display_data"
    }
   ],
   "source": [
    "x_true = np.array([-2, 2])\n",
    "y_true = lin_function(x_true)\n",
    "\n",
    "plt.plot(x_true, y_true, linewidth=1)\n",
    "plt.show()"
   ]
  },
  {
   "cell_type": "code",
   "execution_count": 37,
   "metadata": {
    "id": "cyJnzIL-mcCc"
   },
   "outputs": [],
   "source": [
    "n = 100\n",
    "x = np.random.rand(n, 1) * 4 - 2\n",
    "e = np.random.rand(n, 1) * 4 - 2\n",
    "y = lin_function(x) + e"
   ]
  },
  {
   "cell_type": "code",
   "execution_count": 38,
   "metadata": {
    "colab": {
     "base_uri": "https://localhost:8080/",
     "height": 265
    },
    "id": "kyuP8fdjmcCh",
    "outputId": "6174d540-349f-40ae-b511-d6d5bec1da5c"
   },
   "outputs": [
    {
     "data": {
      "image/png": "[encoded data removed]",
      "text/plain": [
       "<Figure size 432x288 with 1 Axes>"
      ]
     },
     "metadata": {
      "needs_background": "light"
     },
     "output_type": "display_data"
    }
   ],
   "source": [
    "plt.scatter(x, y, color='g')\n",
    "plt.plot(x_true, y_true, linewidth=1)\n",
    "plt.show()"
   ]
  },
  {
   "cell_type": "markdown",
   "metadata": {
    "id": "B0RU2rp7660u"
   },
   "source": [
    "## Метрики"
   ]
  },
  {
   "cell_type": "markdown",
   "metadata": {
    "id": "0AyXrS8NuU7s"
   },
   "source": [
    "Mean Absoulte Error:\n",
    "$$MAE = \\frac1N \\sum_{i = 1}^N|f(x_i) - y_i| = \\frac1N \\sum_{i = 1}^N|\\hat y_i - y_i| = \\frac1N || \\hat Y - Y||_1$$\n",
    "\n",
    "Mean Sqared Error:\n",
    "$$MSE = \\frac1N \\sum_{i = 1}^N(f(x_i) - y_i)^2 = \\frac1N \\sum_{i = 1}^N(\\hat y_i - y_i)^2 = \\frac1N ||\\hat Y - Y||_2$$\n"
   ]
  },
  {
   "cell_type": "markdown",
   "metadata": {
    "id": "jlZoGsHumcCj"
   },
   "source": [
    "## Аналитический метод поиска минимума по MSE\n",
    "\n",
    "$$MSE -> min $$\n",
    "\n",
    "$$MSE = \\frac1N \\sum_{i = 1}^N(\\hat y_i - y_i)^2 = \\frac1N \\sum_{i = 1}^N(\\theta_i * x_i - y_i)^2 = \\frac1N ||X \\theta - Y||_2 = \\frac1N (X\\theta - Y)^T*(X\\theta - Y) $$\n",
    "\n",
    "\n",
    "\n",
    "$$ \\frac{d}{d\\theta}[\\frac1N (X\\theta - Y)^T*(X\\theta - Y)] =  \\frac1N \\frac{d}{d\\theta}[Y^TY - 2Y^TX\\theta+\\theta^TX^TX\\theta]  $$\n",
    "\n",
    "$$\\hat \\theta = \\bigl(X^T \\cdot X  \\bigr)^{-1} \\cdot X^T \\cdot y $$"
   ]
  },
  {
   "cell_type": "code",
   "execution_count": 39,
   "metadata": {
    "id": "DpPN_x3LmcCk"
   },
   "outputs": [],
   "source": [
    "x_matrix = np.hstack([np.ones((n, 1)), x])"
   ]
  },
  {
   "cell_type": "code",
   "execution_count": 40,
   "metadata": {
    "colab": {
     "base_uri": "https://localhost:8080/",
     "height": 51
    },
    "id": "Xyl_DlNxmcCm",
    "outputId": "ab36096a-8fc5-44af-dfb8-aab0b46772a0"
   },
   "outputs": [
    {
     "name": "stdout",
     "output_type": "stream",
     "text": [
      "CPU times: user 100 µs, sys: 38 µs, total: 138 µs\n",
      "Wall time: 105 µs\n"
     ]
    }
   ],
   "source": [
    "%%time\n",
    "\n",
    "# найдем аналитическое решение\n",
    "thetha_matrix = np.linalg.inv(x_matrix.T.dot(x_matrix)).dot(x_matrix.T).dot(y)"
   ]
  },
  {
   "cell_type": "markdown",
   "metadata": {
    "id": "nXOGL_565vuT"
   },
   "source": [
    "Обратите внимание на время работы"
   ]
  },
  {
   "cell_type": "code",
   "execution_count": 41,
   "metadata": {
    "colab": {
     "base_uri": "https://localhost:8080/",
     "height": 34
    },
    "id": "_KdJY9u3mcCp",
    "outputId": "c7cb257d-bc69-43f6-e17e-f97f8bd856fd"
   },
   "outputs": [
    {
     "data": {
      "text/plain": [
       "[5.014446816024188, 3.907939015920057]"
      ]
     },
     "execution_count": 41,
     "metadata": {},
     "output_type": "execute_result"
    }
   ],
   "source": [
    "thetha_matrix.T[0].tolist()"
   ]
  },
  {
   "cell_type": "code",
   "execution_count": 42,
   "metadata": {
    "colab": {
     "base_uri": "https://localhost:8080/",
     "height": 51
    },
    "id": "ttSXH751mcCs",
    "outputId": "7ff90f58-074c-4b08-c6af-d86489d171fe"
   },
   "outputs": [
    {
     "name": "stdout",
     "output_type": "stream",
     "text": [
      "Свободный член: 5.014447\n",
      "Коэфициент: 3.907939\n"
     ]
    }
   ],
   "source": [
    "print(\"Свободный член: {[0][0]:.7}\".format(thetha_matrix.T))\n",
    "print(\"Коэфициент: {[0][1]:.7}\".format(thetha_matrix.T))"
   ]
  },
  {
   "cell_type": "code",
   "execution_count": 43,
   "metadata": {
    "colab": {
     "base_uri": "https://localhost:8080/",
     "height": 51
    },
    "id": "NXCSCMOkmcCw",
    "outputId": "9419e3e1-e436-42c3-881b-b6b0ed90f271"
   },
   "outputs": [
    {
     "name": "stdout",
     "output_type": "stream",
     "text": [
      "CPU times: user 1.15 ms, sys: 236 µs, total: 1.38 ms\n",
      "Wall time: 765 µs\n"
     ]
    },
    {
     "data": {
      "text/plain": [
       "LinearRegression()"
      ]
     },
     "execution_count": 43,
     "metadata": {},
     "output_type": "execute_result"
    }
   ],
   "source": [
    "%%time\n",
    "lr = LinearRegression()\n",
    "lr.fit(x,y);"
   ]
  },
  {
   "cell_type": "code",
   "execution_count": 44,
   "metadata": {
    "colab": {
     "base_uri": "https://localhost:8080/",
     "height": 51
    },
    "id": "p0NPdTrqmcCz",
    "outputId": "d05a5cb2-065b-4f5b-847b-65ed8bb87669"
   },
   "outputs": [
    {
     "name": "stdout",
     "output_type": "stream",
     "text": [
      "Свободный член: 5.014447\n",
      "Коэфициент: 3.907939\n"
     ]
    }
   ],
   "source": [
    "print(\"Свободный член: {:.7}\".format(lr.intercept_[0]))\n",
    "print(\"Коэфициент: {:.7}\".format(lr.coef_[0][0]))"
   ]
  },
  {
   "cell_type": "code",
   "execution_count": 45,
   "metadata": {
    "colab": {
     "base_uri": "https://localhost:8080/",
     "height": 267
    },
    "id": "w1jyDLd8mcC1",
    "outputId": "25b45242-81a8-45b5-e58c-bd59497433dd"
   },
   "outputs": [
    {
     "data": {
      "image/png": "[encoded data removed]",
      "text/plain": [
       "<Figure size 432x288 with 1 Axes>"
      ]
     },
     "metadata": {
      "needs_background": "light"
     },
     "output_type": "display_data"
    }
   ],
   "source": [
    "plt.scatter(x, y, color='g')\n",
    "plt.scatter(x, lr.predict(x), color='r')\n",
    "plt.plot(x_true, y_true, linewidth=1)\n",
    "plt.show()"
   ]
  },
  {
   "cell_type": "markdown",
   "metadata": {
    "id": "8FnBwOCBmcC4"
   },
   "source": [
    "## Градиентный спуск\n",
    "\n",
    "$$\\theta^{(t+1)} = \\theta^{(t)} - lr\\cdot \\nabla MSE(\\theta^{(t)}),$$\n",
    "где $lr$ — длина шага градиентного спуска (learning rate).\n",
    "\n",
    "$$\\nabla MSE(\\theta)= \\frac{2}{N} X^T \\cdot \\bigl(X \\cdot \\theta - Y \\bigr) $$"
   ]
  },
  {
   "cell_type": "code",
   "execution_count": 46,
   "metadata": {},
   "outputs": [],
   "source": [
    "def animate_solutions(iter_solutions):\n",
    "\n",
    "    fig, ax = plt.subplots(figsize=(6.4 * 1, 4.8 * 1))\n",
    "\n",
    "    def update(idx):\n",
    "        _theta = iter_solutions[idx]\n",
    "        \n",
    "        ax.clear()       \n",
    "        \n",
    "        ax.scatter(x, y, color='g', label='Выборка')\n",
    "        ax.plot(x_true, y_true, linewidth=1, label='Исходная зависимость')\n",
    "        ax.plot(x_true, x_true * _theta[1] + _theta[0], linewidth=1, color='r', label='Предсказанная зависимость')\n",
    "        \n",
    "        ax.legend(loc='upper left', fontsize=13)\n",
    "\n",
    "    fps = 3\n",
    "    ani = animation.FuncAnimation(fig, update, len(iter_solutions), interval=100 / fps)\n",
    "    \n",
    "    return ani"
   ]
  },
  {
   "cell_type": "code",
   "execution_count": 47,
   "metadata": {
    "colab": {
     "base_uri": "https://localhost:8080/",
     "height": 333
    },
    "id": "Tc-2s7b1mcC5",
    "outputId": "d34c2b5a-e604-47e8-82c2-b48c4c39151d"
   },
   "outputs": [
    {
     "name": "stdout",
     "output_type": "stream",
     "text": [
      "CPU times: user 1.35 ms, sys: 640 µs, total: 1.99 ms\n",
      "Wall time: 1.23 ms\n"
     ]
    }
   ],
   "source": [
    "%%time\n",
    "lr = 0.1  # шаг обучения\n",
    "n_iterations = 150  # количество итераций\n",
    "\n",
    "theta = np.random.randn(2,1)  # начальная инициализация\n",
    "iter_solutions = [theta]\n",
    "\n",
    "for iteration in range(n_iterations):       \n",
    "    gradients = 2 / n * x_matrix.T @ (x_matrix @ theta - y) \n",
    "    theta = theta - lr * gradients\n",
    "    \n",
    "    iter_solutions.append(theta)"
   ]
  },
  {
   "cell_type": "code",
   "execution_count": 48,
   "metadata": {},
   "outputs": [
    {
     "data": {
      "image/png": "[encoded data removed]",
      "text/plain": [
       "<Figure size 460.8x345.6 with 1 Axes>"
      ]
     },
     "metadata": {
      "needs_background": "light"
     },
     "output_type": "display_data"
    }
   ],
   "source": [
    "# изобразим результаты численного решения\n",
    "\n",
    "plt.figure(figsize=(6.4 * 1, 4.8 * 1))\n",
    "\n",
    "plt.scatter(x, y, color='g', label='Выборка')\n",
    "plt.plot(x_true, y_true, linewidth=1, label='Исходная зависимость')\n",
    "plt.plot(x_true, x_true * theta[1] + theta[0], linewidth=1, color='r', label='Предсказанная зависимость')\n",
    "\n",
    "plt.legend(loc='upper left', fontsize=13)\n",
    "plt.show()"
   ]
  },
  {
   "cell_type": "code",
   "execution_count": 49,
   "metadata": {},
   "outputs": [
    {
     "data": {
      "text/html": [
       "<video width=\"460\" height=\"344\" controls autoplay loop>\n",
       "  <source type=\"video/mp4\" src=\"data:video/mp4;base64,AAAAIGZ0eXBNNFYgAAACAE00ViBpc29taXNvMmF2YzEAAAAIZnJlZQAAkXdtZGF0AAACrwYF//+r\n",
       "3EXpvebZSLeWLNgg2SPu73gyNjQgLSBjb3JlIDE2MyByMzA2MCA1ZGI2YWE2IC0gSC4yNjQvTVBF\n",
       "Ry00IEFWQyBjb2RlYyAtIENvcHlsZWZ0IDIwMDMtMjAyMSAtIGh0dHA6Ly93d3cudmlkZW9sYW4u\n",
       "b3JnL3gyNjQuaHRtbCAtIG9wdGlvbnM6IGNhYmFjPTEgcmVmPTMgZGVibG9jaz0xOjA6MCBhbmFs\n",
       "eXNlPTB4MzoweDExMyBtZT1oZXggc3VibWU9NyBwc3k9MSBwc3lfcmQ9MS4wMDowLjAwIG1peGVk\n",
       "X3JlZj0xIG1lX3JhbmdlPTE2IGNocm9tYV9tZT0xIHRyZWxsaXM9MSA4eDhkY3Q9MSBjcW09MCBk\n",
       "ZWFkem9uZT0yMSwxMSBmYXN0X3Bza2lwPTEgY2hyb21hX3FwX29mZnNldD0tMiB0aHJlYWRzPTEx\n",
       "IGxvb2thaGVhZF90aHJlYWRzPTEgc2xpY2VkX3RocmVhZHM9MCBucj0wIGRlY2ltYXRlPTEgaW50\n",
       "ZXJsYWNlZD0wIGJsdXJheV9jb21wYXQ9MCBjb25zdHJhaW5lZF9pbnRyYT0wIGJmcmFtZXM9MyBi\n",
       "X3B5cmFtaWQ9MiBiX2FkYXB0PTEgYl9iaWFzPTAgZGlyZWN0PTEgd2VpZ2h0Yj0xIG9wZW5fZ29w\n",
       "PTAgd2VpZ2h0cD0yIGtleWludD0yNTAga2V5aW50X21pbj0yNSBzY2VuZWN1dD00MCBpbnRyYV9y\n",
       "ZWZyZXNoPTAgcmNfbG9va2FoZWFkPTQwIHJjPWNyZiBtYnRyZWU9MSBjcmY9MjMuMCBxY29tcD0w\n",
       "LjYwIHFwbWluPTAgcXBtYXg9NjkgcXBzdGVwPTQgaXBfcmF0aW89MS40MCBhcT0xOjEuMDAAgAAA\n",
       "LxxliIQAM//+9uy+BTX9n9CXESzF2kpwPiqkgIB3NMAAAAMAAAa1TDlxdoHwFRAAAHn4T4Y+Ggw/\n",
       "SiEnAnIYXztw3cCF8326biwUb6esnetEutsMbELzRFox35r9pIf/tHzfLlEfkGWfmvMndXLro0Ok\n",
       "t/DHpVurjxmGkrWtoLW8xpZ7170BwrCJBgTyjLmHnXJ22bPa21ulGLIoONXW43md6pynH6LztT5B\n",
       "Fqep2lZnElZcKnLuxTgpzdfKjO2OdURZ+Ed4TLzZvS1FSPT7bVAOZ+LlgWbryIOS4IujKG/53g1w\n",
       "LeVYYPhehHtSmZdo6URXtB1xPaPDedlYJz4HnH7OCuwZTe/8bMuMDOAVOIFRYB7Htlehaig3z4Mq\n",
       "y0dizmbzADXgXN8MY4VSUNWZjhN2TpHmA7fHJqqLwcZ0tSFSnU11797dk09dQOZ0X1O7Zf3VJCm3\n",
       "jznUEaqxB6rcJ+ehGGFa9I2rUCjVpdFsmYRmmzfjg5pRStc07XJewUH5772XdMy0lpDyH9mSmCGF\n",
       "adDaoP5vnGK4j6GaKTFYhoWOn7F9C18gySf+HPk5HaRA+m91YWXN306BDt4gSOGYC6GNyeskk8I8\n",
       "eX/RuaZfSVusVk9xICshE+5ffJcTt+RDuhqCfYHSLWEO4owhHhlG/Jb+xrXNdclPl04Mylnq5mt9\n",
       "rGR/+fh6EOwHrbJQ0vu6JX73GPeSAHT91o2P1SyxUiKA6v+xaCWWa/N9i8uwGHk0kioxXiiTXh5/\n",
       "YInPU56KF4zIx+BaGHIgGr4XPYdgUjW4w4ZvFhkIPmv9YqRNk5aN603eeYm4LBygEeFoGEVP0L5D\n",
       "qDGZrZiD2VcdZUbCBo+ACzLRVAmJujiYDt236f72jFqcpvT+Ti1b/SUt3OliDNBsiq7GZy4PswpS\n",
       "+YiA8znZLn7RVuflpXkwZ/ZOi9l8t5/IAiYLc2si0tpSfzHwxVGOpdQsTP38FcDf9w4CwY33ehOz\n",
       "x93yXP+XOT3gC8itDU5MstmzUJV0m5lKpYo/MwAs5+0PsJxoC2To6uz751Lo3qH+X4fl+naM/y9J\n",
       "re8oSh2G8xWc83Q1lzZnzjefHdptDAP3jJd4MopFpVrbdXzBhPdNT1bdYi5kmW0jE9xCvjq//UV+\n",
       "r+l/d+N8NTLw8HEdu1+uZ8hFGVAzPFnUliKEGOEptFrWJBL4XN/lXQ6ihvUsKB3TZ/qKtFievIcH\n",
       "dpa7KHtd6Uu/HrpmrgE+/27HFTGnOlOFx68rWR0ZdtN30wMqG0L8EPjkO2HOnj/UHW5W/7qplenJ\n",
       "8tTvtBhSgQphR/Ih+RLaur+0b+pPhI8MBK1RupdhJj+bxIt6+NCpqdXyI/GWeOH3/WE+NU1ug1rE\n",
       "SEHtnOByDq/8eNI83PR7tNAEZp3JPIK6hrZofA/0sGvAR+jAK239ic75GqRhfvi7z1jWgYqPzcZX\n",
       "t+ye1cvtn4R7cPLon5Gux0I6k8dTcxBXCcm9wTogAmIoHujyohUx2wErsWjRtf0dQnoM5IepwmU1\n",
       "uWroaQJV+h5DNUYQoomAtjWmVbFWsS7bX3GCAFlA/eWqGm9DLm/rd8LB6Nv0E9CMF5wtmITTkgem\n",
       "hrjlCE6N7hZjyiKpmsM1AiZZCy4OKBz8bFX3EUajWlVPjOv66s/UzeXMC/I2HKnkP2cYTIuA/GLN\n",
       "kn/JiV8qeOMZUdks/EpKE4EwlSEs/MyGxnQmyvWu5q+sdjWjh/CNYYOUzPNygDc6SjfucLetwujn\n",
       "BbiSnf1ABFTVCRAGBYq6aOTF4izIEUDXrOuaVIH0xJCdiHyhcfGZMJm/QhYTM6wNr2w2fIDWBb9K\n",
       "oYPIs4AYAJs0B7aAizUff7Y1A5w923Disl5JFO6rojTgfYXtapO13wwS6NSNluPdyR9jyFPBUdPP\n",
       "97Lrzx0faHYvL7jAX0BNUmlE0shucxr7aKMsIV+1xQL0Sebvje/6jOEqwMoFK6N4BS6wmlIszQE2\n",
       "q13R1F/4EE1Mfzo5joct+uX0C4jiE2+f9KyFWmApJ76cZbTxxsJ2FNYJAhOklK9IWmI+uvSwN+OF\n",
       "jU9nYzs+VCzKGN+VwkEnoSF23trawXF6cnTRolR5wlWMfNprLciNwbpTObW29yS0WCmtT2wQ1wXq\n",
       "/+NCjTISbNiftr0S+3ttjp+9Zwr28zBhbfwvGCUu05Gq7/oRsfiifYR6phiR60n/cC7OQipewCuc\n",
       "m23/U4mzieFGJMYI08KmzHDAxa4vHlVDxff9gGcvz/c5S0049sOcZ/gzB//a1/ia/9emegzS2GEK\n",
       "MykiLgKGzETX716mHjGvnKhNoSOapFI13/WsPMLYSk4XI+KhwiCyPKsRW2VV+aeuYSq9eGdOqwax\n",
       "a5gXctFOulIHWK0Do7iXg4+crwbaYk2aWmCczO7/w4WzzjOTD4Tz7n10xduvNuWx5wEZZkxH8Kym\n",
       "ouDK6xnTIPf0Gw8K23g3lmRwu1AnEymSnkjOkPPBYFzeGWUGp9n4OSRZv5ll953PdHvjHkrkWLCr\n",
       "QgjJRiTxMrWjrvn/f9N45iiU+zHP06tOHuuxpgT5/B/vgToTzmObjAVsa3HKDdhxfo2Kt1Di0LDP\n",
       "2k5JSDqB7s3L1wxAfJwgoYhXUQ9dNxlkcssUNLH5WKzJ5feS+xIdKr9+2Y99QljXqu1bXj7teWEJ\n",
       "h/7wiUqzlKuJb/+/E+R7ufWpUHNzKecKl/dUzqbHZQrZ/gGhHma/sl0XcdN5ctbTc0exk3JAtYfe\n",
       "ix9xTpvr27sbXYhVqbJydiatIZzuUSpsJd3Egi4KKNX7E53w0ErZLNrBZAgGEoOk0JUvZfEu+1S3\n",
       "Sd5oSKhCg13jp/XXO4lh/5TaD+mWhum+/+anO3XrDeJOAgCSzheeGHcIf+Kg7Ol6oWNWlqLDoXr+\n",
       "4lWC0+SFCbzAv5GIXQTPHZnIeC+CHspOnoUFzjyPAhR8NRV/wyKdyIb0E+/DGQpTgz32loqI0f/o\n",
       "FgXfGlhcSi6FBXU6l5A+nlkEgODmKaDqtu/3z2Njo1CL488tRVYEusf25fLqjp9XDgUVxZiMd9Ka\n",
       "38yYXNTy5oN1F+c/5bzY0ItDIS5IMBYV/Dz67QipXyqfvJPWGvh+c5Af/Mj9yl/gknLxCspQA7Yl\n",
       "4WAqfIPVmx7fXYQwpHFeutJaSLls2z95XN2RwIhMN5e0VnyO5Wt7Uxpq0ZzPssDLD8GNCU6Qj8Ze\n",
       "ZOKs3cqFSVTNw2TclPcMlDwH0Jpp/qBg1BMa9vktMQ2N/MUwxZqObXvrf3Ia/Rnv74FekjMNEAOr\n",
       "Ywv6KQhV4KjHP0dfENfB4sjGkjkfcVWQr745RBh762P/O3EL7D4Cpg7Ol4wWS5avHo1dLvXDpXY8\n",
       "DG4y81BDH0OzvJXPjDauGLlcYPffGIlfc+KwHm8p9wztswxrFVhTiWD0CBvi6jqzYR3/cnPvl10Z\n",
       "FM5jwHmvH819ta+9NwgvQFhP8uHQmn24Rm8CKkIowx58qN1w56UqgqkQUFd3+PhC7D/AgEbRWQb0\n",
       "f6RyuqD0WSKNW+FiQGZgXlW8b5K3LxqbI6oFiAJ+coYie9MPXKvHy4FDrawjcQMwQ/QjgWFdXEUa\n",
       "rwx/HBPLsDkNV7ZUKBBgXWscSSLzuCYyqAGfnfWslxA3dJdl8Pui24xBx0qjci7VQAy9Pjj9SOtA\n",
       "mnyfRt4bWDqggaJdoCECE0dZ3Wny76ZdgjT1+2Dr9oX1LjqOyYsosEt9+3JAKaZMGKNms26rR+8w\n",
       "68LhCum5jxrLOdjwoS8KBHGQphxzgsf7bmRNF9wF9lsTz2dE9f8VFf6Qh2ps+UCRn84oRoQQUlfP\n",
       "gZy8HdXG2A1pguF4Z+ZNQEam2+Wr2Fi0Gr8mYwGAefLwN8S+V2p9gh0KjoxlMM+A8KLrslRO8c3R\n",
       "Qpp5aMCUiUaARPMHNb3dzzp/TfgHiPskKURm3OG/T8b7L9SThwjIcj2wzCct5cKrNgAJ4vkX88o7\n",
       "pI6vWoyFtFJL9sa5T7S2qJYCCcJreOAEtbi85V6uFIJHnaAijYfufeaL7Fo2IWOiBvJqbuBAT/ZX\n",
       "Vz3JB8r8RyyWDUMA/E5uG2PTpCmb7dB/YqI/lyRC9llqgIpj1CItDktwAVC/UktW048yPcLyNZFD\n",
       "LEsjQf7f1LKl1Dk//NM6FolvR1RlYt746W9vWlx5PNyTq7bvi4aGO8oNUmTR4U7OAhsyHmxcpNtL\n",
       "kb/0oH0sV13Nui3YzGI9D3JU9ccL7EB9lJjbXhuRsdetWzRu1r2jHv8Gr3LDNKVEFcfyeA6hOF0D\n",
       "sY1zpWy44zfSzF3YCewnCDuv23SMAa4hzj7/pqQj62KAb6nOONbmYRA+VEvfysc9+x7a0+3eEpHB\n",
       "GetLFBM53ezFneEIsroLcWbxmIawLISYf3kvLA+CCMIhMZ+kv6aXjMpFLcYGR3Z1rZ9zUQtWhdqJ\n",
       "U1hsn0WXBpwVzYZRL7lWkV6bQa+H/PI7SeTag1Db8rTW86AWQjvMipfNRlXxJnWFYVpShUzOC4r9\n",
       "IcQR6kzWCQbFnQKZBT8bDXwyJV5zuH7rbCEvPAilK4jVp21f4VfEkUGuDdPREZEZ+L1VhGtQDOyS\n",
       "QN8hzGTAsv6kQYiRLtDX8ZHbO6IvNX41DfNQMWdAEONDi5JyNokF4AkIJUF9Da6DwmYhKfcKQFQl\n",
       "r/VF5m6q2vOAOIP4adr0Ro0s+513Pe7miqlPPquK3Dv8VgxdQbixrfqm+WFG7QpsV9vi2Iy7I/8R\n",
       "I5/8A56e1HlCf6KyLrXCr5097Y09PZa8Q+fsP5xaaw71j8zicpl/IygPyQGrbDGVyGzY2lf4HTNS\n",
       "2RI/rpBQWv5Y7+x2vSFOD2be8Ry1G4p94R9JO40nkOCEVm9zVAGgMlgDdRYWwGDn4n73+//oxYyw\n",
       "1oVxBcvXhzjn8zCn80dNDTDZ1eu8Mu0eXHPp+gI3xWYVhpTlSIqRO40vQ5ej9YncED33xtCi7B5G\n",
       "tqCvXEmHoZ0Lyi7zhujwnARYjqlb3wGdOrEYDIWt+DROIcIRHL373IYCCwNQVIervFxloZxu/4Lp\n",
       "WWx87obcXmqktbzFnqhy9ckv/ELnQxAgOxpKjACRbyCfYGkJqRfw3w6kZuk6H/vHRvQ7xEvMzrPC\n",
       "I9BGavML5iLhAGaX0zPrQt/w+BMmIok2Cg6i/EfvaQGDthn0e4iZn336xsx3htSIibgz4jYB4oHm\n",
       "zjgzeHq/QL43ZXmadnQOEAjdbMc/gPaR9BsUkRjQiVamPYlu8Olb+Nmjqa0J52FpEM4ES0EhNLC/\n",
       "Lox3m4HhfUOq+NzUuKIMGY9zbdg2tDZHqa+KPDqXQJSgUa0TKnzEVlwfsAvnznqMdiNic9/mDiws\n",
       "GMmV9ei4i4MuvOd4lR7gaTu+wqehTDyEVJxCndnqmOkZG683rJY2ea9po6UqlW3R8rqGMfOvLeoC\n",
       "xfbOiwlh1bWh/1cCfmlSv/IFOkWDU5/9A3BKK7mBOYxOPwgs59lK4hyePOgn11m6npUFiAUuTs6M\n",
       "fvg1Ft8wk4DkonT6L0j7eIo5nU9VKI0yXMu14YxnA+nhxURenZerdyHv+iI+pE15jNp0tGINDQFx\n",
       "Lqv//7HyGGm7rfrm0Bu9jY0LA+JKit6bzU4iun/ktqAofJIYjbMvKRsKGHGqu4Z+i6eUt/PYNRXk\n",
       "tGn5ee/fFjGemXOglM8AjNBV72NNv0K+YGVUB+npOJq+3pMzUK1hDveXYbFkOTtBFyrvVxObIKP4\n",
       "WTLVqjyK0jg2Mz+MYKn8YWwmCIsXBwStdN8hERKnS1unIlhiPT7XmJhZ057syxe+OABNmMO0YRWG\n",
       "+BFnnxV8UBFomFYgGlXIwzLItW3NT3h+N8OrZ9fwhOxATnZ1sxTqFWm4gkekSMOeaHrp9OJMVcIn\n",
       "+4dfBsF9ZJn+24avLPQH4SpniRbNt9rn3X2lq6x65r5qWNSNMIAt+kwoKD1HV7Y8gk8dvbS+DU5e\n",
       "Lvre0Jjf+iXo4fnZhqR9iK4JxqJov19b2uO+iZSCd6yK3rXA4PBMfEC/UyLQmre9qq8MQ9DOSVwa\n",
       "ENXX4SFh4ej5JW/pyTRcaWj5LWOgE9vXPKpEGkLiJ7l/rbmRbP2r67nCtmjt3acKlJXt1tv+aiKS\n",
       "1vOGWDXjK9Ysod2qOLcbQE1BTAF3qc+ZY2889uiOb/RR19hBaPJxz8pN4WxRU19Y14gsT9mI46Cl\n",
       "fWLqjytF5okd+FxtDifigj6FuJkLL3OGXYrWpVA4wyj9o5pdBTe0dBDIdV5EzOwDThkJ8Okr9tOv\n",
       "fLpS6UJ0mJX7SOD5pJtU8QCqWFV4glDZOFrGeCwZehj73rIT7rjy6YJo8uuFoaOZn/1qgFnmch2H\n",
       "ik/ZVzyrH4xkeRVZvDe81t6oSg/NP83uSZ+rqN+uIM0yDje4C+ur/4sVKIpXzI9QQ9t+bJWjlI3m\n",
       "90d3gUu2ys7IXms3xoLb4z1WSb+w902F1mvZrzLGHD9YvY8FNBOUrggt58ltYIdrAbovKqS6g6q7\n",
       "Sqas2swvA/PG+v1xnu2FHKNlqQGJRkNZau/JSPXzIeCJbfOzT4Gv1esNXpFGCVy81L1nMdRlsW0C\n",
       "uM7PWnRg/HP3G3gMjZzCGLC9l4HrHo9DFZpjLhzWLXqEZXSMsTda5z98UGOcxwhbT5J23UlxUjCe\n",
       "e7ySoCYUItxa9OpwvcvAucgGlw+LANt2aSnjxXevj4BIIRQ0tMNmqv1WpPtIADI3O9zu44X2nC7k\n",
       "RMtqRbvC81p4QkE37D0vPWu4MtfAMC6+FKgDIBtKGjeyaD5bnVR97xdsvm+p1Bicd8yzGyC7mtUM\n",
       "xTGaSESEJRE28HvrQfKgIm5/9WlwmEGaiIgJW2ACOiB/PtOa8/xTZqsQsS42s/tvvdUGKRB5hRbP\n",
       "24pL41ibGQ/7al7aEG2HaUoLNSt9Qjw/ZZJVIZoSh9ADLouAvRDMAmv/Ljq+/V9tK+U4pzPuge7i\n",
       "fj9EQHHwyX4VqE8n0Jva2BmDrDnCbNLkRJKNk99wnH66P6SCK0umcmkgnRa/JkHPJicoDeH9+xrs\n",
       "04xJBVw1LQO/JuE8UC5LpwQnqNnjfoAPtYMepQoNE9Xis3AhjqD/TiyrJ/WVtQbH76XHcVqN2fBw\n",
       "k6v/EVEGhbL/cp/eES6Md6GUeOd3g2LVpi+yfnfK4lj8yLs9OoIRHBuqgaSMq7BFXla4gqP+DDka\n",
       "KQHr+jqGWEB5oUi6dBfwULmozDa3j/WIBugjAAY9oe6IjVy0v1wpMgfk3icWcKyFSjbNlzkHFGBV\n",
       "M/gecP/BR4dEZjJVfNDbqiV1jXxSmGkebxGaRINwlz/tnMQ8ZCvnUGp5BHXAsR4iXE51U6alZ2Em\n",
       "3MI9tJtWOsB+Z/PIfNxYn2YX7jhTGS/YUnkWNK9YOGliCr4Uq/dY6/V97NuF9dBXtfgwM/GkbtXy\n",
       "3T1Wc64me9fvnugS0CEozYfp6eRjFkDRUQ3us93vqg4kAfss732ubc6pqf+GO0deP2lJlILFguxt\n",
       "cyALb07f4dcdLFTP3YUhCVAHSuyItQ48IVuYYAwri/AMWL1PMyFxaHpbE9qeegLkU/Bwu/376vrp\n",
       "je2B/pR7o8z64hHMEShQFzrKawAc3TnDYcpIiP6g0V1+aMlfN8j9wQypUjBggfj0CI+U2jrm67vc\n",
       "ICirhP5zi66zu9EP4lklfJ1zIibmsdZIMLYsBATWxKMYDtq54OcaBFq6keLu4xcYM6Q5UqKPxY2U\n",
       "E2OXqo5Ximxgox+LHwdcGyCfxuKFfmdtCVjdu6O5gXlHsumof7+mwmyhdcd3/t1bHMF0PVg4yayJ\n",
       "98yn9+PShjDuGSARXP1GaYLWXM4dfVaAP1Pr7dBk5ZIaq0jzaaWezFziYFmJZkiKApc3wfUDfh+O\n",
       "verNoTpGTHWMgRSgiDKdhdsB55BpVeqvstxDMXyTDPaOWB2rghjttqpfq33J5riTyG6PzGuoMm0t\n",
       "odRvk2M7kcJiS0HRrVtX5eT7rgrfpzWKdZ1kCU7pBDTCHp8k2GQm7ywMJdhgZrBHFgwgzOd+Duo2\n",
       "/jPDuAegRuDnIsSD4SCb7GALfE8N9ALudP5uDCYhHIfIHK5rtCQYBexZ5JbjYKR94jlXNj7MIGpy\n",
       "ZHHzpDV8MGhrxWEAiel7o/6AYSs8+KAuK8FeS5uTRJa/aFZLqozkW5JUYWFToNP4kSJPSEPBBH+i\n",
       "CEhH638yoCCREOwzU/oxHVrV6JNUxB/TJTWRMcJCGTX9y2K/91VQ9ej4J7N7jiliWHBGN8rxVdr/\n",
       "3rBSj0tH+KCaglnZ7lAATII+4l3I6zuklsIdMGFCwbLmQ7UdXxMZ57/zAAdo2vZLcCZ6d4IFQ82Y\n",
       "ScOvLnteaQUzKH7alc6I2+GZf0d8AY59HhDIPzBCUbD819aonxtFGQyLz3rYYC/1z9QAEBGn6s1l\n",
       "zM88UThyWj7Sr2mW5f6Gcr7W4ODhvEkIN7rGGx7vXawpkK9Vt9IG1OHq+9LRkpTizTAD7SJCZBfC\n",
       "PQsW89uox/gMRioG1LXHAITShPT3zy3y4AqPMpoMDq/Xklbf2Ge2haAIGeJQyqvHnOIz3esZ2mib\n",
       "+WjoqyPqROEGuFZq6tHFzoCR8NywXpOpV8MNvu3QFshH/ZVfRsmWjGtR2giZlYu/1UVPAqrvQEtN\n",
       "xSvRaAohuRgPwDGxfY2WesUmpc6oU0qlozGzJ772i6SSqNECxJOjYkKaaUqts5UUaixH+mOkuY+d\n",
       "35GkoNP9kBomIAwxzLXyztVl2WH2Fujw+ctYi5yAU3jXmay68BuGk8cGJMlEoV0dxksC7kGX0dwn\n",
       "zFfCuILd3E6OKoc8PQ7c7DMjqp9xj+RND29GVqthaEtTSlw/jSt1TisnWVPT7C4vSItHtZOrMK9j\n",
       "8De2SvhlBlwMk+FoPvR7EJPGZcWgPHlXhexK9e/gBQ8UctSlyaXRsE56VIQPxk/ldaZ5x/2MsY4C\n",
       "KYtHsVMEo7kP1l6OPo310aCw3GOob25lf8ITFhb06nm1oYWfnOtFJDivjQ/r0M7qvnYmcb2uzVKX\n",
       "g5KZk3RvdtT0QP2PjT1oR/cvPd5R2tRqm3MhuMhDCaWfcMHn2Fj9DZgiGh2qas3krAwqcIS9iLbu\n",
       "q0eHZPYytSwW5i80a46TMqNkAPUSKI+uAnGsgxMeQkDACjn0C2wPqvWh7U5DqvNfltqq14u6qH8b\n",
       "bBKGwbWZXs2ZMFxqGBmus9xESXmpRX10Fme+FF4ka/bKObigGXY3qv/orFcAWCCHu7t5FT48TkiP\n",
       "0VPxylo9HjAv/a2OJwCB8UkbCcar+tsgIRARrjk9v0pih8HTUXnKa0A/efwRSEFsFMqLNVkuBMbX\n",
       "eQrA6GVRK4dRJbv7tKqXfkitKjvtKsU4P5ZIYWKmQzx+y6Cbdlkr3lYN9BYAr37ZJB++a+6vQPo1\n",
       "ip/WrS+o8k8xbMjCchbcaz5fWepYYsYEK9L5MLOIDr68pdMuu6H6GvmcN9iq6k/2DLDQoeQlVsvV\n",
       "HL5HEUxgkIaPg8A0+CnazY15xIbd6PGemdCRFFk033O5zht3rsa5LakjNUUFudtf90EbE2wlRkvI\n",
       "uAsBbHQxDsLiAuymcDZvWF88peHZqkA4EO5jLK9PwjTpCwy3CC18hcP5Rlyi+fVK7Uogn1RyRJZP\n",
       "pDxpbqJdgJ9abT9M6UxQMixXVTLvh6jp00wfGvHx0DftJGLZFT50aJf9yDW1u9jXa7lVF+yimSfP\n",
       "1bOnl3h3nEfkiTsTV0u8VR/LcURlyJ9k8cQ7R0BmmXUK1wlQT5EYFDGdoeIimGA017TfvMn8X61R\n",
       "IP7BuyR5FYlUWM42W/IzKG6bwRofH7bjjzT+AjBBG8wNBsSENovAdK6+kVjK6yQjH18JUek9UJLW\n",
       "Ti507WYHGF3/1hIKfMl2rL7TrQpeQJGbHb2pQO0hc/7oLhNkji5XwxoNtOfbfpo3sYPMwmszaPIG\n",
       "rCr6QYWBAmSdCOMxxbFtvfSzVI5c7wxmZxU1bznEBdA4zyaI2byTKAnI1IwebugrY4D72HqsJPdU\n",
       "Uicdm9F4MTFJESuKxm8BxeVuHLRiUlJrSRp6SSmveV1rzvx3VEMG16+DEw5eMsUGO0EWUqJjgOlr\n",
       "Lsr2O464ZHRQFEUYq1Uiz/CziTImgFaK9csBo5RO2SgfLjNBVFX/beWuESYyO7ksZHatveIi2hpa\n",
       "pUOsVFXsN+UyHsVuvSkLgh+ZQDDm5bg5YYMJ/Cr3nSdCeOdB72B7yWbAWFaRTNB9CUN7cYETgrrx\n",
       "yHhJY0oC9UXfpl6qQU8jnc64Lwbd1A3Wr0EisZw1r9Wc2zHrpGNU+dd3K9hXfXqKJFMzR1gjoVxl\n",
       "6ZtRskVNSU8Xyk4HO11Oj1yIzGxvZhw1K7zmmqHhM1nR7kJdxFLpyhJzQsYptnexQX2Sq7zjsBgI\n",
       "1MS+r2hVhOxbKFJuwSS8af4kpTD9r8QQUIN7Ckxna2V19GaUbFemdDzVHRXynzQN+RTvNVKMo5Fo\n",
       "fpCzyb1EeI2RdC4u9Uoz3F+zvMXkVyQsdVtGJrrgYe5nEBY1COxmkJiAwHYN6mT7PRXbe5qwz7HA\n",
       "NIr/HzrdSCSMsLCNY406dX+a/UqWU6nl4mtorOlwy7k6zBwhA6Qgj2LQVSCMq+pyFLraj1rpoO4E\n",
       "VC7hCSBDayQUMcfX0sFbyQWfJ6Nz274DHkj4P3XslJcvLjjwV3fuDyK3eIZUjhRpH+9WTaKpqBm/\n",
       "6lmDgrhstAg/96kj/hDDqCWSKtnnvu7UanThIYY2g5hx1PAdZjYyfzTkaWTebL8MinRdr2IbHD+m\n",
       "pwFrwhaORwY6EdWmYb6ED80Im2MH/TIVurSRe2TOWBP0vR2D9Ur1pC135xXLmWnepkepdY5INeck\n",
       "N3ct57B2woA22vxZapfisbwGTOsYF4tydCJWom3PDdZa0grwe0jdPsFJ6nQ+d36CZpNkTnhfggvP\n",
       "KazgyEtnS1yougMEiCSD8Oky80huWZefTXT7499P52CwXX8vuFiVeZXxoaVFmrL/uzUXDgmKZxRh\n",
       "gJt4jd0hQYy0kW9cpb0FUfWUVGiewxO1vnt6zD9R1wFUfNcxCF7xqbBbFnmeo3kdNU4uQ0lD3RDe\n",
       "lA834GakM4fRCD13+TmvVs+CVuNHyEmQL83PVDrHGj6auoVQldGEYoZNI7T86nGBfAenxWp211qI\n",
       "3L6IWMqhHUAtNbqoXb6pjUnrZ6hR2eEfeAr5jxqw3bJ66fSLwequms/8sMhQt1VEYLy+g2t3Bh4W\n",
       "lvfQxkeuGk3vqc0+2JJCynPhoTpnu6VVn8O1SZl7I4X2JFoEcRFVxoj6M6ZBa86KoA47VbXMleUh\n",
       "V0ps/mVN9byp8UC/LVoo/4QlJ33lWwCkSkB5Ae0lCpCLy2zhlujrD1QMYKgwq/Z/YbBOYzIGeke/\n",
       "Z+/JUyxpjXOOwyicF9n4u7pGKPH8bDG2KiXsp49lTVpFKWZ48hq4a803JDZ81UiGIrag/dI72/Eo\n",
       "PqCWlf/4568y6nbMN37mrt6rY8P2PGY+hYo2QQ5WIv975j3x3p8c8hL9GKDKtZ/ktGgzdbknT6q5\n",
       "CZ+ieVosc0pYRyACPPBwq6Y1pPUzU9v8WVJB+ZuzCNhuddwoPkXkuf6trkQa4TTqvEkCdk/8xZfu\n",
       "B2I64d/5XMJcy+jXLo26hhwTl5NYhZ3DFlaJsPXEZNO+GeMagpFI2kBc/mqaNh9oVOUbQ7/xkSKT\n",
       "Vh+K4LE/PjEaHxyNbS9G8IRHfXThG/3J9/YKb8J5W4Et0TCFqHQLhvF28tvuRwStUicMiur3Gqhp\n",
       "v8gQCeq6TscX8pSV7vb/FSDOua+bp4SbmMZkvqJ4zfvEqdeq64SS+vKphEjF4Z0xqFttFPBHPD5n\n",
       "EH3ovfe2Pmen5jS43PsIzhjK5B01BHee241W3lohJ1uWFp8ZxPcZNHkkdoyMhSPBM6BeGuiy/EXr\n",
       "3fe8WRxEEXH2mU3XF+w/9e0yg/06GOQbUS7srlIVY/1V+HwNDuvRlqquv2Pcnf/wb9Ao3daHDVJk\n",
       "QWyCCto6rBQKySCCA6kr38my0AwwYTo/nfMPKN5Rf+KUhk4Giey8x58SBtg+0I+CHGouXXdgY0wF\n",
       "7p07EmEAWK+rSDT+sjvhuyPPsKVzJjiotzTbFZJo+4DbGZ8KJ54hxDQtOjatg17aKiJ/+L90wnCw\n",
       "AI3M8C/jaSYn0i6ajEnLPq1lH1zXJ/IzQ6xABc+yRGGRqpw707Hudo8qEUqzZnPkVGb38JfqGr/c\n",
       "96K3d3EiuOMYTsBpNG+LGLnLHvrGzWit5tDB86sHutNLixw6ieWlFM1yoZoarazbqz26yQQ0Sla+\n",
       "/+UQUQztQ9xjAsW8fbKxFEA/rJANOVlJLK4pZxWvgD0mqhZhQXr0QzrWZEGY8bP6NwbQ/YCZrPub\n",
       "EdCal4dJfP5xtyDrkkCVqPA9eCUav0RjXz4Q/pMN8QISIK9aJEhNDBv0GEXYJDU/P3dgiCARbJfR\n",
       "6BNKg9ppzyscgqR0zZMo5syFveMuH0olFV7LNAFqXchuGBIMAY3s0yILOaHoMaodbSeipd29eZgx\n",
       "kS8q2+3IX4r7VqncBNihnKsTsyaRJcb3XCvVdPJicT883mZ2fbNlUzTHJgREBLwNbUOCqAbN/crb\n",
       "pLWVyMn5It9LHXz19DPC1QuMeYtC930ya+C5mm+Vu4YaODVC5qz9y0pLi2AA0TNWqEexGTqBbAnv\n",
       "5u+3BMsH7qskAcE2CvcPJODLhUzSRyaOMEbMC2cR7SYRBHjxd9QmJ2cXd43kOCbVn4wBkKl9yV5+\n",
       "M9SZ5vyGxYm+QK1JDbqXr98OYglPAHBtV/zIPW/UtCk6F/1w1GUPRLoRWfQ20NDGstSpqoCMqgkN\n",
       "D0tb4Ikq0OaCyFkhP7ADPUjfiYiGN3h/Pz1f1FLQbiU5wuWLODnhMRAVc+PhA1Zf7lOFkt3JEtUG\n",
       "B81fTArZr6kyJ/0/3Yx7Z92birGa5y52wzF6ZKvha1+AedkzcfIdTQCN5M74TXIy6Q0fh996p5qN\n",
       "vtLuBBao3A7eUPN05DCUeFTU2CMjQarK4dSNlv2qtqDGoWtJKK0ahyFRdqXHn/klK8XGzbEveuLx\n",
       "Xc135s24spLKrwKUdFFN7yG9VO7EsgpHTaybYbFKfO66cDtNpO0exr/JxZwa0uOVKW9I3Yi3ICSh\n",
       "1zl9ILuG9ftxHMGcfuFdiU96jjS9QQ18+HVNgfy24j4swHqBOfM5+7yQEVSJKcLhgAmlJeiGJggV\n",
       "ZmHqkJW9+L80R8coZq/BHnzWiW/lbyJW2fOPClRF6Ebh2t/WQYNPLSaNPyti5rt115JBlKra10QF\n",
       "hZzYEoVn/5bunbk1V9ZsqDqrDsorDvreDGiPO/UEMsjWD/C7WuerWPx84v/Y0I4HbKA1iHnyIk5d\n",
       "xMIx68kBnLTXorTBnfYyCkPQ4zs3rXTXJviRDpUJRnRkvb6nLT9YpA3w3b+zeRRqw9TOHaKQnD9P\n",
       "8eyIsks4K/wgJXieFfxSGVTbLqP0QnEbbt8+p9MjXYxoeUPmTyI9KGMP2McqlykCkrzx35IQe/O8\n",
       "oiWD1YJPYN5Hl0u/iklWVWx1j1iF866GhzackVaGGjBrI6yowJLysTQSzTPfMA/sJ1RQXjz5ebTL\n",
       "jfmV1rlOSHkqJ0OQ68RbvLbG6Lo4pQAg7NfCloDfykOueLaZQ9K9tF8aXiAo47Uhrx9m451YPkl7\n",
       "3MHWOvl1ET6BB+rGrOT6KTUXL/Ddla4UjnqQpLSxvtThGxj3YouME1lKtuweVovwEZRG74J1qjKe\n",
       "HOpp0r0mDf3kR/zEiyhtg306VRyfGJQidcciqtTVOMnm6NWF8SfJ/LJjUgYiK8/8rkIbaaSJwmhU\n",
       "haxkpE7WfvA+BoodZ9OidDTrt5UsHxTFavn5tjcGKP4+Y3zvCaCpAQW+YxX+VGET5RRrwhF7hBZQ\n",
       "aqfpV0C2PKH9yiXTez104SGXkmXvrko9geFNuZuwwLHyNfx29C85TreGkqzbDEQEKwpF4IZlgcFc\n",
       "VGInKVcLGR29n4sB91oB3Qrsiu2fXkXR+ZjqV8rLhKwBULKrJfS1Dd3aED8M5CNN10Zm32JAG3ia\n",
       "mmW/fQQ7HdzwNLUjkD8bCEmvhYLHiEhKOyfAsNhD0k4JQhz7FOUI3xxDL7Ne7QWakA6YWH3uGoXT\n",
       "SHp8SdUse008BxQLgpMJVRoZfaYcXW3ZU3XDrLYwhNGzcxff5rbnu1GU1pVCmGlOjLZ7VOJgFZaY\n",
       "DRaHngk+qEdxsZhc7N2WlnvgfhT78MLE7NK1dF1pJIqic+42itDyn+8k35NiwFea42fge9GJXdnn\n",
       "v6aP002hkwl+NZlw/4dRVTyC8KW+wAxEA9L4sM+1fwkd1tAt9wlS02A6zkZ5alvJrXAdP2cieso1\n",
       "sZ3N75DaPwIsKT3SBXLLw1hF7rgIDySS4YQV822pSf/1NnLvClUgHdaGdec4w4+2+HL/R1eegsyW\n",
       "en0x4t7EDUo7EPtaa2eDWMiBr4jsTeNIHYKpcA7Gyl7eOBKyD/BQ5ZExoM0Wew7ZkHnFul52rALM\n",
       "qBRcqqQog6XxD1+ymjsVzb6qMv0xeUH7cxWjXRj/CWnaZ8SkrlN9IsFNPq41RfhF03wReBDt3FHP\n",
       "oCK+FTxgB9VF+7m9pkHPwugsAJbv4QYXa3apowf0KhUwDqE3MQoWVE1565VkYQ1NoCjxuTd9kY4p\n",
       "FH0nh+DzmIsuHWvmbICt/lHNIMFiYBTNwq/8TQqwu78cbnY0oW2v3ABSzfb251/AggfRDtIQNjPZ\n",
       "53L6zRTS/BZRVZVTZjkj1g1G0tzmLbXxetKmA0B9jnkLZ0ig5Q4pvmbLrNZINSBO0ecQ+UXKhRDe\n",
       "5WXYn8//19RBNh4VbBnThD3pTtumiQvu2Lok9QoaLG+7qCoJb5QaPDVUuAiyVv2EKkjt4v+otfr9\n",
       "Tuy8mIqEPAm3eo8Bmg9QmHSpHA30nQAbeUfCiLx0hYlWdq1/vsFARjdJAUYx5u1lxAAGZKU3vVja\n",
       "1AAbKsBariSwXExr7RenmaUh/niYRxfz3UQIwVPScCpbXak0Ybf7ajdp/Oit1953pb0kDqkx6byy\n",
       "BFBAQ1LnuY0GI9ooR9NiQFr4GXUxqOs/XrTt20Hc4tdhYgY7B1zCi4nmrXAd0F8NFxwzvXm5nuVk\n",
       "eVCae05Koa0MJ9sJ4uQDIz6SoOX8Q76ooCcjKJ7GpEqXg82M4aSVkaGrWqpX59nLNsvhT+Q4HqAa\n",
       "jjSh9sJbwXSkUU/pNgd0GXeVVKoeTN7KExx+OsCMksfLy8pfvAmN54h0gDULmsyw0C6vyW1lrABi\n",
       "tEF1RRlSHU5BBVrFAK6erq1S+Wqz5nXheBRUQN8QBjbJSAWdJx+MBPrmTLkGr+w0Qu3de14bZhzF\n",
       "xOBKW0Dz8Q2guQIdnwuEneSg+jEAPkWcE9Z2wu4yP+MsRem4GtvOImgKmlc/xriGn7osrEJA/j4p\n",
       "M2SaPO67NRdnWkyLp29n2x87bS1HW7Nnpdi+Oo4Tgnn3F+HGQEIpOZNGS+TGE/iLG8Ya+uYvHh9V\n",
       "ll/kLjmNbv6Qa2W9inQRSdicP6U2IBeIOV1gdzuA5z6krI15lyAA/JhiqWyaAXb+7DR1JZ8g889x\n",
       "/0rguwpSDC7U4OoU/lyUDISUQe7OYzNW32dkemgRXLlM1TmBoRIgNPwhZGi2IFCrSfzUCZZG53G5\n",
       "gABbrpjBZ96MCHqVDYiWebmnvAtT7mWbs+GRXohRlb4Z8yF+I47fffuzRnhVdfxbmbd5AY4jG7vQ\n",
       "pUDs1aU6ZBORZ7JYwJ2MRk8hixlo7XZW4W4QEC3YfpfBxxIhabtgbe0Z3UWag9hs07z+gR7x8ozh\n",
       "8hQSRpKmyla8vsUDF6tPKtPYI178qs9msULYonPo0OT7H0fgxdHx/7csf/EGwGjFpG/twunoIsOw\n",
       "1RQRY7INYZPvXVHESjKUMfZCGPYILniNwqgYzZg7VG1/NvRAakwUywmVZ1yPeDO27boPvSFSb4f2\n",
       "/12ofcz+BvMyJr2wvUI1rqYs39YSLyrkRceZVSR9sbG1j3K55VrzXlcVEIWP1EESnm7lP8LcBcyu\n",
       "Xl8bsoyMCg9VFtZ6OA8CD9ExPdg0EvTyagVnKkwnLRN1CSP3hsaRcvOAg/3gXFbPaycySN08uBFz\n",
       "6EnPj6HLOxfTpajwgtttuHYGBSOcscMofn+fqFQAAGRAAycAAAUIQZoibEM//p4QA29R1EMTS0rK\n",
       "8luJTdB3+yR5yzcDa9FIYnykgtv8M0YBWFoqD020i0L0vKUel41xP9ljdcCrZQsAVK+84mIV4kp4\n",
       "6lEsrca90vGYCyWUp6jGi6VXqxTN7G7i3ZKQAhnYnkBz8uy5XaWPN3wQdgncql+55thuQ54WTMzc\n",
       "pBi2vNPRg5Z7clClPT4zzJpH7QemNhTtHCM4xlrEtrokIzIBLDorLNMfBpcBn5lFJO70MEJXcdH3\n",
       "pQyoguvn/Mtyvptjklfqm/2Z8qr/ewzXNFRh51wcD+P+a5uGrtW94m5C6HSHwqtw/XLpZ/RXre6r\n",
       "LArGB6ZIwVU/jsmZ158ubdl12Kqgx+dYpxU9zBe8YVRfK1w9Cb0ABGkjD0ocu6HwivMDd+APGZdu\n",
       "I1tG0jdEZ9MLPzAMiDjNpoOj4AqaeJYL3thyq6Tj4UBjEumQvAr+Eq3B62N7HiZzPH3rPRwMyeec\n",
       "yRU3SnciuPEcve4SGT31tgV6BY65BkPmggwhNNyUnVj6sYAULlDpEhQyb2t4msa78sUhT615lAP+\n",
       "ZlxBY7mXPE85WoxPDqJzo3tWwafUeshhxUToXVOSMepRKhYfzfqxwmmqbfeyowes+djrcTg1iXXo\n",
       "S/EvqpjAIy5+Iei2euBNoSrwditRImhwO5YWpwLgekvHnVPj+0MY0q+14w8F8dZE3jfbSEjIYj4k\n",
       "g9KVbhYGabOPRLTMThrbF/WGbCruwjYnrj269lWA+XayA53XT8KjNmklfkMBXAie03sDyvnQwDmU\n",
       "BOnk3OP6kG/DqEg0zwQHN7HfusyYCdnoJusfUM6t8d3KrEIilNlj8HO7/CZWyp1ZWfPg7KrKJm0q\n",
       "52GUo3Z6JLu31jvvtlg+qyJFZeNrEGQcCw80C19P/siADLxPfQ166eW+8MU2yihfTrKuCjaLkzCW\n",
       "AoSZ+x+QSDaxSrYBK32cK3P09waZKTntNOJNp7fPAFf5C7A6SIlZs/WyZNeUL4ON1lCmQAXXUf2M\n",
       "IM/F/ZeSzuRhfr+00UIxrYoiAc5iFYggjr42Cn1NztXo0YRF4N3+hUPwqnZeKJ90WdrNIS1o0oFm\n",
       "Zgd/tRyz2d2O3ntNpSiw3hzsxvpZEJinantkGuBVNdNDn0N0WQae1i1m7rdoF9ga3PWj8M0L0hy+\n",
       "8YRC/Z7yzE6GCHtBFBkhtk/9hX1HfH05uK58f/8GscyB/IeG/3+j7ZKj3dpDcqNvo+iMav5+EC4Q\n",
       "Rv4/l43INLPDYCMONl5Z53Q3ippw7+8KMziuiRwCEOzNHmX5b+BUSE5y9iJjqKUXibH8mxpo16eD\n",
       "/212iJ1agrf4qxVwjgXimYvOCkzHTeiP/cqwByteNXlaFTI22NkO3WSNOS/5xdgTKWeRfaIPYweZ\n",
       "4tCYG70mjWCtIC8q3diV6ROzy7MLsiCCp034Z4OSA73nwZpxyfXbP16jOBYO9pu0+nSNGrkkT2Ch\n",
       "RF3pqqfJm0NSQYJDzr2pMMC2hXyWUPtbg9xSBSPL+vGql6J1jnhojU8IxZr9j8Vs5I1v3Z8nfpRK\n",
       "CMqioODiOoEpL5fDkHVRKIUSe7iIzzKdO6So37Px1Qg0a+yfEYOxUSKcR0mTlGjyzAfyKIQ+reVx\n",
       "zqHyW/5ogX1anGhWMNU5yDe++kVyDLEQz25ADYFGBGQVKFTYrkXp5CiMP4WmkJcg7wg6hUirXe6V\n",
       "JgHJTUD7GlDGWQoG5bkCkgAAAo4BnkF5Cf8AvuGf5lVkKL7mMQeJMcf6oyM2ZPQA7v2ABx7LvfI1\n",
       "f5p/ykHhsPycR71H1AANl4Z2/JJQw1VuiML7Vhg2r2o6wEiTdQSkJWxlJdBLiTZVV8xOUp0w5QZ0\n",
       "NHoEBQcb7GJPRL/AaBGIaGEgdFOQuT5QQpHaiifSy3PmNqt8RoM6Tpzasgo8Xc4Ed7xskq2ZAauD\n",
       "vXu8GmPLEObhIK1XAQsZTUC24W0qJenkI4Xb5v0HelFjqi3yiXAP+ANmrxQlkkC5zQdEzv6vjWRZ\n",
       "zh0AYen13GzWx7hAzDYXjQEBSO5jJkGLgh3ExCBi+L4kgCSvOSo3ng2Z+y6zfKOO5mK0qwwboxNd\n",
       "6NgzhG6m0M/3aq8o3aQcjoLuSKoj0P+ZnwXEHSXcocmVV8G6we1aGwIu8nsHbsEzMmnYEA/QZIJ+\n",
       "doKRyN5X2J6SalOjXZVZG4I+sHQxU52kSmn2ph9aR2/E1ZgeZU9MHNxBAbWwQOGElWXvrP4W3xpT\n",
       "A6emfvYs4d1ShIolpZr3Jd8zKtJVzNukoq+jLNLWsdt1bg2y/8DvRpGv4+ZHQL12QaLaNw+L4iX2\n",
       "b9HB4gffcEM7QPlPt76ovwX2XKKP7kqw5M0nMfA7KFW/vYh08zFXeKM+TqPbOTbO66UdyOIyELKU\n",
       "paCCFXUjOsH8QqlK2nT5vcqPgqpoux/a5f4D2IJtlgOBaUhuHpoB6lb500/u7L1tuB71YmFOxTIX\n",
       "bg1NrHkMfurlBwA5zQiDUMt7JQCgfQ4PMb6iZTBinoFTz8I8u4FITIBEDeJwD9z6xXML8iKT1wq5\n",
       "mvwZ7TL7cLk74yFEZlXLpAcefqoZ2X2w6cTaNfbPkxaFx293gt8zsK/9a1zQEHEAAAOWQZpDPCGT\n",
       "KYQz//6eEAFR6pCAWUhN1L6tK9zoN7cCj1g3rOjD76NCAp6nQlTg4voU5dbcZp7X2j4qGMsbrUvg\n",
       "26yIYm/LOXxRg+CZmN2ROumvXouyt0cYa2Kl5rwVFtMVe4LC3FcCQIYilL/B/EL0NI5MOfc8qRuR\n",
       "2wgEafAMErf7w2WkF/XtBBYRq4ZnfWpxJHm6sDamBd6E+UWHewofEaed4XvOj6Ds6HzyIOowz/qj\n",
       "vCtMz73JRnT0HFsHf6c5hFWl35TJ8SKUtZqdNrLyx7brl0InMb6pVexhkGAViu58oplJFTivp1ys\n",
       "o1orLZcxvTbqyvOGLPz3+zbZfL43nTaO8k+v9tt6NFAIiMsIsy4LqaJfVkvCgDT9glG1i9Ra4dCF\n",
       "7ebGDuSbdSmon4kPwTuz6GwRuIjyD5eCvypQH8ni0IG4xvTApZ9ZAwF8mSiwO1wMVKRvA+HUhMZh\n",
       "cT9vMRvA2PDyL7TpWO45TRDgQsdO5R4YzgpF9PVIUGVl3JcGZhWBKs8AR86+10wYDtn2P9GMb+aj\n",
       "DQZZxt1xwFgq0VWaOCHpPnEqKL/mn/wTq51p4t3HYP9a0uuVC20dbq96aYVjrmpzZlKTVzbwozfg\n",
       "VlCmVsGh79LFrDKHwGh601Ir5cBY0IuZ1f3N4zAtUvWgfDPvfOmY6V6762V5KfcteM4CQiTP48X0\n",
       "8nAydPIl8WJyv39wZAktobCoi74w+BmHz2OqbB5XKpvD4ZjI4jou8Ys3EoAg7nFf5T1qlqs8Mr9+\n",
       "D7VmG+D9aJHxGrBFnm9MU7gsyMtosDpWgzXxi++9VK0LwvDZoFSHYD8LHDrV0YqCyLqW/l9afmbI\n",
       "688+ctiNb3fLHrZ4jjhL5pC+ekXFPR450eqdiO87gJebKwV1h2pYmr/Xvgqm5oHJfpJ7Y5v80q7A\n",
       "mePu4p3XfLXH9aGmDmezaKkuwvVtevKRANJG7xIWMyCtUAtpeco6fZ/bL4PqBBhnNsdyjLr6Wx36\n",
       "aamTEujspyLRZS9BsHM5G9tUU+skeFcPhedytTxYe4IDDu52ogJFCOb8ZFn6O/Eb0gROLxClirC4\n",
       "hfNiRpn8NL/+4Pl6HHvyk9/KExp8pmfoVqRJcDnDs3M5F9Fsk5oCeI2SWtSfgBnzwZbaUslBwNU2\n",
       "OOWgHkroAzI/DU6z1cYsBlZQXNbCS0O/1iFBYaRAtXcpSwTGHoNBG5wO/28Q0NClZnEd/4bnDwZ8\n",
       "AAADXkGaZEnhDyZTAhv//qeEAFa634ATwHSSgS1kis/bD4f4VP/TNAVztOpjyXAt9dNBWmcAUCug\n",
       "Qpok3K901F3S30VlblZgP0QMr068ke12bs2Ol3OjI1Xu7u9gbn1KoP50Sa3u0fom6dVjgXuN2FyE\n",
       "C7zgumafQ6NO7WjDJ+QR1HeAk1GSGLEcJG3v3Aitl73ocIQdTczhUKk0aXvRHKdC2bLtSNH1Ev9+\n",
       "2NhcY3Y4YEHGdT2B5KC2gp63vKkkyBYp7br1+mfUVtuAAlXfHo9Rib6v2ZvK4jI798mm4rSK5avN\n",
       "GulnqAix0XPZlqxYOSn3FUkZoU/y8GRt/JRSFKqZOQrDFQOSAYX9h1N0xVtGHmy5+Bda4zhVyXE9\n",
       "3OrxOIET9cF8UkjsqpfNyqaSIwRwHWmKL1/Gx/UkMYQZE+mTUmgPDzjHGRc+NHXntPZHgcKUs1dc\n",
       "ed3j5VH7MUzKORtiRzQ+h3FtdDzl4NvV8aB7jmvft6VXRgsV+gqZG/sL3ZlA4NqtUMS0sldvhdgx\n",
       "/ij6xDSgtqrWrKyneodbxpVwIMC6TZuuGPOukWoNJJDTH5ERPLJCaICTSsmAHazyyzpCTKgyfcQt\n",
       "RJ9e3dYRFq7AE5ESPGMJf9YXiA1mVpCvMtejIt93G5W7bxYO6WPnkPjncjWjWfpdOYZBOI69AK6O\n",
       "bvogX+U4KEEbo19MJfEONK2N+Rc1Nd7t9kxRvMh9FRhLLFXRLYmxqxKWNOeQ9iegbD9MvO2y3z4F\n",
       "seOdQ7e2vWasvLEqt4TrYptbXYTFm+4lHqXcsuMPUDUioQBHctVx9SMaAxlIpgFMPPX2/GslfaAE\n",
       "qnnEalPb0OSXoytfJmANqfC1a/eD7aoU8/eNHBV+mrNAEuUjJgvEyhF4VjACQEYCEiliv4F1aF0O\n",
       "h0hH4eDcnGuWJ5qs8Ihnc7FxyB78TKN+CXOcFP+cK0E/Nr8ga/tSdcxHhZkCy5Vjlsv5mN7l+gar\n",
       "rKVaj73LB+3Dk4tJG++j5swS6AYeEdmxZJQnd6QKGGgkjin6/ad/BZLj5kgvTm4sr+UJDqllgSmd\n",
       "2epCwZ9l06UeCKF/jovGe9nMTrCsHn4CJjiBva67feYXl/LeOGlYdR2H30qKase0d3+KPdxGoNBo\n",
       "esqXkGpx048ihpEAAAXDQZqISeEPJlMCG//+p4QAVrrfgBPAdJKBLglDT+Ksnr8/woiOXFANLzHv\n",
       "I0CHJR9MscJr8oNUwlj/CV8wjPyul+VOePnMXro/JlSxhypxBcfvbE44iWXs1VGOigiupEZzs7do\n",
       "lUHFNQpPgsfx18XCgVH2FfsYY/zJ/45CDF6VmQo3qD3VhKz9K/OY6vFiW/LPgonhlzhiRZCdIpEK\n",
       "mrEyLgmBkV6xgWP8+Sd8bo3rfsVbm9sk0VpmeMzLgKRM2JdleaP8iXmftELBZSG+WqZSSqaGUWuy\n",
       "ytY3AI1o09VIVAK3ti5+FI0PcD/tkPAsj6i2W6pWkzfdJtgjPPeJVDNYn2QhGNQZM1WsXcoiN5VD\n",
       "g+ELq64jaH1zRoOumMSyTjls+C1oCdL9vnUpdMOQs4aRVKdtCs2WP/ECFuxnsZKbLVNTqJjMuO0q\n",
       "pTU/iRlwXS5K9dFuHgEcPQVp2uf0JTZilK9yEvszRqF4W+MUcNtssmpMUIYxCpLM3PKGXhSALzUS\n",
       "Nr4rtkvp9doqRJqJ31f0x4v1pniKk0ZjH4icQ/i0bg90RRMeiFeRZo/AXgWBv2lvLXCIvSAG2wNi\n",
       "H2co4ar3XYgZBCJic5e+DW/7IA2Ppo/uojcgki5k/Um3sbUfmXcp8L7bkVbll70sElzX8TIixA7e\n",
       "26j32hH5tkMqeWn804jGA6MsV6CWQAFBdH/jQuT6+Wd863xEd0Smy40A135Syfce3G1F/dKE2FBJ\n",
       "cLYM8pMJAP7QLjN4aC3aVB2bmxBU/ZIJNPGwVUUsM9XNA5Dq6LQHUeGEtHJA6j1gvr6U8YLE2hTS\n",
       "griSJcmigjIpKNxwobg9aXyUhGKLp9ei/WvMfphROsHQEryDfqNHlBUzztDcS+0F1Axr+wXNq+ZW\n",
       "o1LF+NqgGRYPpZSTGgiRTNPre54BF+8URdfSRMUYcMgb6b9EzqxD0rgQybW19MGagtEmMrHndNob\n",
       "vNaXr+MzMH9AspXEN6hz4MqqS4CyoEP/QoM6R5wBxxQDGzNstVNKYcm0Z94oleXSPHs3QWbpNCXz\n",
       "TCgZSYufrSJq4/9rQ7MqH5GUeOnckZr4LciFnEsICrQPsUH+wTQ8lxOpMrCBBDgAgR60fxv49twR\n",
       "HAJa3d8tCy0moBzODjEdbmPXZv817TplImKxCKrpLsdm5pUPz0yfdCCYZTHGPXaGfoxLdibDXwGV\n",
       "pXrjUowVH5S0Zkdjlu1a5+TZoMLSnJjoJ/7fzHBHbIB17igxRM2c7rSw15RzteDHuXNI9X9GIWmk\n",
       "8D0sBvcHkLufLnH/BVRQksNMS3b5/bzeARsxreJUx9Qoq1aLilrudp8ss8VUKxK1I+QJ8qqE7m+K\n",
       "rt6E/a0XkpElRU2DwcjO+N5m+1w0vCFRTLo9aal8czdcCku0WQiEUiXyI5XpJ6U7CnDua9dRbUEU\n",
       "hv+DmLYytHWWnTvOclKOUPIUlZQO6WbvXE9ZiXfXr9StKf787MEsLzLeV68XUX4PgDnQtj318opE\n",
       "06qGXhkC1Jwnsklz3Sp8MwzCJ89fcZyvRYLki/Zg9SRHTG64EFkT9UF/tfmcTTvWBHC4sKUr9P3Y\n",
       "ZFOGmah2pm3XcWw1vcwD9gFF6PVDQuvJbw/P8JhNyQSwA9lmTxP9ZW98fBiPrxdestFoIYOS308z\n",
       "w7nHDuRaR3N6hvaL4nh/tGHRTj9zCNWDSZPhYEQAbI/JLkMrBCS4Ll7h0b9nh0Yz67JIBGfHmLgw\n",
       "ndL/N/CjJT3k/m120SOqK+OJQy5PRE6XHq4N/fQADsyJB7v7zowAfRCcnSe/Y+3h/zAch8aPw4ly\n",
       "8L2spo+jjnGfyvatdBpTnDRkmOOJ3HqW/unS1YsO5BUl233n35TVkCbTTBoN7eKrqkBYqMjoQfjP\n",
       "jaEFReLU0V3uDOgy/F5tLgo1bKaJQ2IZ1Am4YTR1Nh/GDvtWJdG8xHtlRCxsOg3QW8zyC3Umsy+X\n",
       "n129UPZRPSEAAAL8QZ6mRRE8K/8AkqreZKl3BcC1c+HOgBGBWb3Y/e/MHQ+uCxV8FajIuQb0ZG4J\n",
       "noicejgI6iRh1E7ZrMZVlD4LF5dooIm8qFo3zxgEoiRoLxF1pCORD4vIlVMNZxT/vMyXwBYp/vVa\n",
       "TjwoozL3krWaHw91Eg4Hm8LPBRAtLLabJWdp9f432907NNc3VoC0hwPHWFzKUsWJby8dkCY9iebT\n",
       "OkKsyWAl/IdeWd7G6XYdbl2Zwvvn43k9yAig/vdoTJYc2FmRmVLfJICPt+zQhFUn9WTiWom3RPJy\n",
       "BAxyM/AZ2xqKgCRrYUZx2sKjfhVwAcXHFR6CGle3qdMy/sGfOiOffoqu1lK3lC1bOIlKWqes84kS\n",
       "z/yGXrb/tCJupMQeGS29ykcbwQ9j99Be7akJwDbH271iquCGE7yxyh7y2OUxGGk4hjTtyA9P0b3j\n",
       "NXyIPE01LoKlSPW1MxdEVeNdRHsgkzz18JynzpvT32LrsiD4y97+fwMSucTkenjOHo61hHStEXv8\n",
       "AkEzAvSmt4ylznaSOroLjZokJTIeXVYnmlCLB3WuLgjCdKVJXarY35ep+I8fwOEaWj+Ge9HZgiDt\n",
       "zz8xdalidAV/9LAVvwIGnEAvkXIrl9r8lLRucZ/AulaRs67qG0EFKpq73wIlRkFXvIvSCoAqo9Rt\n",
       "EPA/15tgMnBfgu6ommOPHh2rmiGfGce/aREVVDDn40tmtsL/pKHCzWpQaotLdIz0i9l7CyONEBTV\n",
       "1lgMoHCd6JOG6gqBfS1wWUNLlcSjhzXEWvO2SiQGDCZRnOk21MTCzL/g4a4WuyXJK1CSIAXoqMeh\n",
       "p2K8dbZlrB467iGcfstIMVKWuJVctIaeb6EJYxYvNEeJtHb5xsz/ecs3ju2V5gcc8U6+QWAknsuO\n",
       "KPedpghmyAUHiD06JF5ytmOSkl1rmebJgCnuY5TM8B8FdJiV37AgPn+RWCsIFBuKjJl8W/LoIarT\n",
       "j04pt7Zhm/E4P8d+/1EFsrC1i/VATeM/Xj/dpzDd//0eAZUAAAFYAZ7FdEJ/AAyUyaND7az+QKmc\n",
       "AFpbIf8UcjmxhZ4lWCrFBl4r+Ti4SKDInwXtEDGcWnxIvaPDQ+FkssRo9zM8Ss0kEMoArdqku/DG\n",
       "iI73cIbrNBIZs9xu4SvK4xF2naZpI5jhBhjCzCPZvzdNl7GT3JAWSPOMEWMxoo15UbWTil+xW3lz\n",
       "FCroWfqawATOi+zz1UgB+brfz/Wh0Q0Kcp1BIxMdu397TKBhnwmxKVvEEQsU8911X6DXmDED0Nud\n",
       "30r9ZNyw4nkCHcmgEHstYG66+w5ZGC60SGTDkIg411QXl4MA2k26ioyuYx6I5VIyznLgy6rRfKlG\n",
       "hhEkuSmvhxKNd8OBJP6t7uJn8od2+mwa0mrkvh5UfsBj7SibwfSgcgevft4bX3hBJddDTOjA7SER\n",
       "ggqUKXJ4Ydyynkal6yuQB2FEunh3SGp5UCThbh905vMeraHWntWyK2EAAAHhAZ7HakJ/ABpnjkX4\n",
       "QgAnWaT6afcNWOnSAuVcerijFiCX4Kw3G86JFxRjoUul2NcvASXFcZEUDkvJPYIGqHkBEi/5ks2e\n",
       "2eLQLu9kC9Ic/gOm7QLxkNfLxZomswm848NjcCEi/XDn3C5v/y9yveK8ZmXOW3j8lq6yBjs+T1a4\n",
       "W7zAv9IRDLZeRghakHx/BJEz+FcbYF/T6vpSOED8gOp4oCMlhpJpHgTNgLMN0MmZyhPoAgBbTDjj\n",
       "vwz1IaDxhAY5IaGqippfJR+MzB24APw8eHjTh9ABFSYYN8ulEWyWI5jcIkXbuzBD52RmS1kzkUCf\n",
       "A9e3A+shbXKI0A8zgE6WYjbh5GxoNn7INbKIgZ9UT6/FePqHqcpf8eXXwKyjBE7WvSUozuOUBrma\n",
       "HwFDFCHwbZEbMt85bedQXLJ+n0iucyVT03yMQ2iECxAKxg9CNfKaQBixCOm2gcofphxVtZXf+K0t\n",
       "ld7iQf0dbf6Xmw/D/8T8ihv8zIPAtCKQ82TkNKdAZ5TdT/3oaDtg6FmjLt1E9ipWoo97pdcvSGF0\n",
       "KJW6E03k+qz3BnYXmKQ7/uqXksDfABvQIjKveriHaJqPlPz07j3obI109yn/96D/AIgcD7UTtwp8\n",
       "W+xmGJ49rzNDdQjomAAABd9BmsxJqEFomUwIb//+p4QAVj4szypoU4iAC6T1MInocYA0NRlSoMcu\n",
       "cKUa6qSlVh/G5RxsszdUH6zy8qbyxGNDz34GKLdplZy1xBDBfpZpzxhJyuUXiV+eAYy0D8FHyeXp\n",
       "/ZvkxhrIlq8TlGyND8jFVoC4iGJuDrWNsMrG5AB9FQpn7/rocEYXuzQusZzEMcULDlQ4pzV1uIBz\n",
       "y6/IoXhnXSG9VfUHI1i4YbLV1bkoQ142CaHvtTfU5/Uf+7qIewMUxrIwJzCBgIDhKaOm6LZ9RZRc\n",
       "um3y/yjYembB4JA+SiyOYCsxJDXFGqub3Q5J65rFPMT568zpAsvHCqS5jvfVVTNlmtKwO2gK7nEN\n",
       "TgXa07dS0TE3FO6GSr9YoI3DGDR7QFbMXrY0Hv/6u5+IvylfoSGFW/LAwxKtxeKbavvOBpziTyJV\n",
       "EVigF2ez0gbEKEBmyiFMKB8Pdt1uYj6hh2dxg4MU9zskl0rkw89aeuOLhAN4OXAQ75qGdRWLu+qf\n",
       "uV26AhWLN1lUCpttU9d7PljEJ3xqjphJv0AjA92qyOW0y653LSNofCcbXKyQDUVaoPLcImNZy3HO\n",
       "Wte4f3YIWArnEiHf2+pnOCTDc8QAHHckX4FkDoGq/I9jhIDUWWMVED6/xGVDQW7W584dvC3xUi68\n",
       "uujx33fPlfJde3SRPBGK1oqvOnlLaw2xHG3HqQnXQeIXyhJlelCr7WXJ4TvjBpRd6UsrbhtNBpKK\n",
       "YSoYlWEAX1s25ARGPzhMYWy8+dRMJFWiO/izAe3wbXrO+uMCqVpUJwz3x8k+GEzmbAj+3MDcbcUw\n",
       "ybRdraSy8K4NMxeYw24iukWh+Zrrnk9FmC+RO+gSb/PIfUHVuI3aXwNkYugaIqCIZHLy4byCopVs\n",
       "eFmeuU3xnG4BBhCiRRIcSbTSF9UnUVzBh9yIxJW2eVd1lhaj61f/OnAVaAhRJrx4jIuc+zQrzJr6\n",
       "RUO7HfsyuGPG1bbM/0V855xZjlKsVllDv7YaPyPo19QTAUn7HfJ3RGBI1qlGcwu4RLMJV7xuI8os\n",
       "YGkjrhSZiJ/b+30wVy8nBqTa6csD3HTe/R4GhR4efHwdoIGPlf5T5qwqY1osllauTz7YRgD0qfFt\n",
       "5CWH8tynuTmDS+UbGSOoG91DqjW4O/bhO3saTI1a15Lk6E9JhY2TOrmV7AgtqmQ5Mkhc2Teru7rx\n",
       "inEx4lIfonwiXwjGyWU3KYqQW1D0mXntMNQ5YiX1XXuPNdn8H4ue4hovbIqJGsf+HMHCzFG0XEcl\n",
       "h7C20uDyRXEgJ35tZfpWJUEUhsfzSieKRJA7dxUxUomX7JlusFVPKwakdjvQgL5gU3+7A94wYyAn\n",
       "J/Ab0LpjabsxkCOyuOETKNvrRk9QMTL+nX3j9cl0BhqqL2sVW3GsjvSc+69f1v0iAHcYDCOiJfUn\n",
       "nMSt8g30TXkvMcDS2pk8YjbYZBXryXC0yGP3OY+53cJCY0r1lWmMc+gEw4yyBxfF3fFRBlxpeF9j\n",
       "MP/JLRCAkp9vtqs+ea5BorhS+DLikIiidgHlGLrwK3IBVuZipJuV9yf/EjJRmMcld9jb5neX+9pA\n",
       "vWt1RunKn460/IIFt1RQpYcDb2qT6V3ZD22juOIIMxpxu97KUPwNv/zHrYkFepuLlOCiOQpSikFs\n",
       "CETneGg33qm0eKRKFJG9QOfpMRZgvMvzQts1HoPagRZzlotP2HdK/G4I4LAN/LhtgR6r9UQ0Uc8e\n",
       "LyuVJiXGpgVegfqL2uJqBGzQEgmlZTSaVQUUOuWno79avqd7M6Z/Ql8ymAc+KEPWM9nhHrJsJa/H\n",
       "Vr/MQ/Z64J2gzNcyZqkQL2pLBedWUcvqQ0gwiRi0JyQNHCUqUOdfOWesKisnyiAd/3Iy7+JhZ+5W\n",
       "szgNaa0hatscUQPmb1QJF7tWxgxZaEuabTNBoWw7PNxgwt0t+rAx95uTigQi+HKsiLvQeiAj7EaU\n",
       "X9f+392Lly0umPQF4WOS85mvaID6t03x/EwrmTQb6ppiH3DEqVcAAALJQZ7qRREsK/8Akqrl669I\n",
       "it4LEAJpnLnng52aT9d9DKfRtpVK1zfKZEcPJtcff7gWxb6RoH0IAQZTx0NwhxcrecHehHh7VeWk\n",
       "ScoGFrRYkHvKXKKiH/sVf9wb5Z8MhuhselJaysqcb/6sFyp6eccbx0T15+kocEuD8ikjfegLBBEP\n",
       "i57xETi6MHaDhYbyvKcIHQnVANRXi7CMcGIcLw3m0oxoJp8AIR1g0GreEqESQzbBr3vU1/sT1bnZ\n",
       "aWZdjAGJtaaN7OlrVlyijeqGhJPbBNzzuV9J2dUaX28bi/O2F4tbMS69/kJOo8eJiecoXlgAjwgq\n",
       "/j0gVWUkx/Q2d85hEdD3c4PA5WCL0O74rlxpyq1OuAHs4gIs/lBscjsPZzaM/Zk8mA6K7u6lrB8N\n",
       "3vNSqMpDChDhx4HXY8++DnVEIyFpnB6ZD4W2oQL7tUf0y22KXzSQbShelSnuGwNVZ9jBaId/TOrV\n",
       "tNqHw2f4mgzBjv1ZCeIgn34pIO5RWQKGEdTmOThxEOlAxtiXnmM9/aRVSUvSLWI9S5bCRIAGqAL8\n",
       "dqrBhCagsXmTKlCdeBubiBuC263mPdXA09nn4Z2rmLcQyjuJG5/OEk6Kt2vnWm4NjF9wNB2tcJ+b\n",
       "jrBnfikHBEFx8TLOMT3/N1QCGyhijkhJ7LpMNuhg9aXtj3l6qawN2aDnjcGgU+8FJGBFmEnXs0y/\n",
       "n6k+G8YdO64+UGVChDXDQOtWmMzkRTX8yPgwx25YDJYRJLIpq5gqLdhy4Q5aH6x2BJ7luWkEscQM\n",
       "v8SBcUo69UzFmx3sIXtU0qAkfvUyEXsFtxS1Uyy6+wHvj3pxXRFXwzkk1hwCBPO9d912ZvjPNeHi\n",
       "OpL2ySOnV3y1uKnF7oiYXLUAElsnUV4LGpDqWK3LhDL9+xqGQFjf/B5ekcSDal4tbTQMg6nPl3Vo\n",
       "eG1/2Ss96nHwxvIKBB0AAAIDAZ8JdEJ/AFrRlfe/ez7WNwAgws5qCD+e0KvZuX8X8xCMh/gvxxGj\n",
       "nJSMhq/Og3RNm7zVkL1JG3fxGeCFEKpyRrY4ddbxsB0KXdjkK6sRYZtf7ZHwtNiqzOj2xodFFJcI\n",
       "w/U2zqn8lT/Z4MUkuTCe2lfyc8Za/b+Alidrk2mIQcWwmTSXaBAW45Xh7rLZ9u974WkXgE2RjG7h\n",
       "wjKD5zVB/Efbi9h6bmKy+SvKVvB2FujkXXWfMetsnDqvp/2wGKNmiZ38dmpdLzjsG2whfoJPQUKa\n",
       "AICQHZthTSrqql+TgVcWAuwA39gIZWMDrvCHU60IiR2NDjG9LBEamGKyiGaePCd8Qdxi5Z3z47vE\n",
       "La1//+cTJga7Qyb1Vo+BgRPXEvs9VkeB8Dh9QE3eWlmp2XuKxH/CmjWIbv9QYeQxIyIf3ARiL9M4\n",
       "J1WMXJ/BssAAgQHiPoEb8KRqUUu21YujalnrRPdjP1EgRRn5kDFhY0Y5I78Mq/Zq6BkxZ5Xj4PE1\n",
       "8GrWSyJqQdsM+yoaJfr+NPbpC+A0G5+O7fKBvqEvrdBSS2kK/XNNjGNb1STJUFg68Hf9n9y7kLSa\n",
       "490BPCUTi0O/IHNMTlrpbcq+Tr2YqitC+rfRZMGuUUIG38Sk0tPueIJefOGmgwJ0ip9/IpELS2hA\n",
       "wYXepzrp+aV5hnVKhbzzd5mHi7gAAAGqAZ8LakJ/ADdPqfAC3gAFd2j/vuAwZOPvt7zyTRmuxYov\n",
       "GeQWzz0N7Y0AddDM30Okeh5GscVpUE7wx+blmWY8/Oo0GTWnQH37ZIggUtAX3kdeBc/7jgcFkYUi\n",
       "ZgB82lqA6PH/6o0zhdybsqT9XQk2gNY98LojLpm69h7vzEzmII56R/m+QOpcHyVxv+rUpFpRWtLq\n",
       "vq/3vBE/h8Wdh6D7WNfQK5+tWMgrwzaf8FHXHBMY+QeYWhyyO9FCAZE+gxkyt7UKPJrNis92Cc5g\n",
       "KXyr0KAzAcSozbkLnNGV9r7ZU2CqKY7qEf/uauxwoeLH46I1C4r/Zg5wsUX5ZZM+Hc/V3B4FpjOs\n",
       "1AHY65p9WNT1sHVFTlr7Ka7TUPmkg2NImpDW7UaN/fY2nJl7nQcBnYUMsDT/2a0f7mWjet5yJ9Hx\n",
       "HKV5Gc3wH+t3Cw7zi7qWXZlcMPL1y1GPLf74H1R2aJbZ02bY+9ltap/UmDoPWwdJuT+f3bhT6afI\n",
       "hKdSeU2FZqdOppYY+ANDmtEIIK4ltpH0GaElyeCEUeBG/qHMieS37BCz8kSWCG77HBMwAAAGcEGb\n",
       "EEmoQWyZTAhn//6eEADSu3HAJr61LY8drGeQEbYuUu6rKIX/otT9nV8uPE1OpkAJdPLBCrbxUvAh\n",
       "cny/9WSa7jA0FTxSltwRRFoIWDDIHPFQVJWt+6xlzFy2OR1BU91glU89IVwjWLnYm1beSGMfedwL\n",
       "8wexgbZKqN2/N/O8VKX308fuM/WGda6AU19/TqOV5wkpewtxZ/NGeD5QCClVL5GWjtCAawrj8NF9\n",
       "xtyDSwMwoEw4rhVAp0G0BecVaviLYowyJp8BXmdGKhdeNOFfANFO1tQTkvLTYvxMSNd6chPwFAvu\n",
       "70g5N1BHn+lWk4f/6Bi2FmjWdTXZg730JefTKTxV72UACYCj4CyPaXI7YjA/prSGZZQiVvAYaStF\n",
       "AI/kjmy429CKqHlE9kA4ziGHlvOY8MjpzpsPvYuX4UHOL6pwXgQsAo61fKYowL4XZ9ri8zSClC0Q\n",
       "oGIWngd9b2FKANi26lLfyobYQBBhrg7yMn/Q8EvgNbulbrVMThaTSzkSuukKufzSc2ghORccCgyp\n",
       "0yHc4F6F2QuYOR0eRW5zCg5sq8VTV/OA9IpdhImRqiq1kzuB8ZawQwABLDBaqCjiLR7WgVpLSteX\n",
       "HvsRDMq2FwymSMpOcW8F1/UmoGmGLDnfecNiaHDe7JygYZ6IaSTCarwkg5bm6h6Kizv/s2OdaoOK\n",
       "vH7nuQhSuWpwVhu6sU8K7zrjCnWMLUsfQc3CQnHQ4mBcl6LQonMBuXFJhMmeq+9/m67iI9G1TGW1\n",
       "aHb6459dWRmNgiDJlw7BlckPoJ0FjGsifaw2lUGMc4jhQ7J+LT3deGT+osK2CWzbFEafV+tfweoJ\n",
       "5OSgJOtmd6+EziaQkWEyG6MV6AAhnNDqbl/nGDEh1F7oaOaOGMcgMNiMEbXyOrMr288xuGvHrSQ/\n",
       "DU+tz6tUm9DxKyNEV7axHrPBgNgRjz8+Hkxo5oBj7zyopfT+q3JWkGB1uhkPxnR8LMVKvH4cQMmf\n",
       "07alUQ8s7VYaW5v2PnRJIoKTERgMxiBRT9mV7LdSahU7osZQxLgCUhoOr/Jj2oxgJmrV5Nft/laE\n",
       "5kMaF8GT1z4jbIpOXf6K6k1Jzs/NwGqib4OG2JjWGWT7V/vh7ryPpHy1bljfqQLyyNkBMHiIGsgC\n",
       "hNz8LvGftvjlNpm4KYztnwRFfnwqUI4IpBpazb8fxeex2e8bdFFHFnTkJQcrnLn/mQ+xA+cKHrAt\n",
       "o4XvOnzprAcpcZWmCI/9qRhkSgJ0pgQcfm1sIdmWw9yu+p+xnt+Sbsevmd3Mrq1WX3h/p+hbWTLL\n",
       "Z4IwFp7GXunLs71Cmf89hlnWBgN1FxuXIPQKL3vq+/8r2/Cuk4+1BMuOFlJIQuodVCNjktRyc9UH\n",
       "m2MGOcZu1nRnXw4HCMNUMdIp1d+IdIOmBCcXs3r4fd3WoxWc6SCOE9zp88hEcHCX+wh04K2RcLxU\n",
       "anZgVEuEyS06wKrNAun2P6ZAI9IrvL+yH7tehUKGKuZN1bbIEjlMAaRV+LNYT61c50VzkBnVJ3v+\n",
       "K9p5BELpD+zQELEtreltA3wONGya8LFn2fPFkhQtixcQLUPPZjM6W9+rXRSuM41rDtq0P+x8HaF0\n",
       "WQ/hW6+QX1Zg0baE32eX3cF+JAIu2dLDQxAjY7Bn87j18HV+mWeYHw6WyfYvMQ6MCNUs/g9/Azat\n",
       "NQuacJEHMsX+oXgKBDpHhRdY2bDdbpuKkYx65newR3/u/N+RS1leRk6roA8JSPPOaifNwf6DM/jN\n",
       "Sc6hEc6tRr3dnJhnM3fuvfHcWsHw+rYxQe1Npq6q7YPXd6P888BjVHIJ8pqOAWP4VQaWn6ACNhe/\n",
       "hkOk9g/u7IEeisZK3IOB2ZzI2PZISx8sutJfZ24wgGdH7F9mnxlNWyDEzZ+0XHebldr7zVcMDqOI\n",
       "dz9AzjzaR59x3qG9cTBUMGNwrbVHEA08F5+FSrbFTs4QYLhgzXOYIv6WKv4QTZLgzBdxQSOwqBZE\n",
       "hHQXj21/kY+0xfOdgK5YCqvEbnYZ7ieY3IoHY5AqHx19Jiz9FF2yeRhVGN8RU25weUdhei5Ovim8\n",
       "NJqkf8Z8pXQqFfatgg3G2MwHEpHXqS4UgCrVC3km+9iU6SKP8RR1yNIcuVyaGOou6lda/PaqzHTa\n",
       "x9NM0plhCYCzZAyDPoysEcEeUKtgsONNfNbwP7CEsbOQajZArLslR8DZddj2hhCSv4EAAAK1QZ8u\n",
       "RRUsK/8Akqrl68E/IyFbkbW6lABO3aP8Z4W7xVDB3NLc9xADg55Y5ZHlmQWAhxF0oohSNd8spsXz\n",
       "fV8+9Ye0uujTk4XKkIp8vcUPHLBSu683OzXr02UyF/bRzf1+QW+gwO2dJcTEPkQm75rLhKZOvJ3i\n",
       "xlMWZqbm7Cgo3Kc+0uJkDYhLrUItZrTsA5Sg1NsULm26QULW5EBUqQJ11hfhJ704ZD/f+X/128P+\n",
       "myEZoQ52G+mxcya8oAEzCJfsbD0alQFTBW8dOfxewDqb2pLn2ubczbhJ+8MS+ZnE65vkzhQb6ZJo\n",
       "Pv/4v0UGK0MGbnYArSPfJRjffvSjREWgcI2NGnPlGW+BmjD8SukmJkhWlOauZ56+GlXbYRu6NZmg\n",
       "EBptnEyAlo19Fjwy/CtDVRVTNlfhHJme0Z/TmqvWstjmbknBGyfMkhm716A5LQla5B9KYGpvhJ1n\n",
       "rss5Kz0j1HDEELz7RB2G5yvcn/bhhWgP8SdR3JQHIJvUEnkQOAzxrhlfPwUZs2M51zSR8xd8klqA\n",
       "xf8qcDC0ev4bzJSC/p/Cqra6roOtrnDjTbr+en0t3csD5loW2mPNb/wBpmuqbVImCI0YZUNLw1gs\n",
       "gMYR0JTdam2hAJd4fH514919J07gP5+QNiBb9P9MIfOmoBX4IrWFbvCD2Gtrl282K3n/pKt/bnBn\n",
       "MX+P64WTpdE8AwSKOhQ4ksZNWD4eq8SaFcyiHntW3qETp0iYcs/PjN/QY6Ur/9od1uEybvfw61Ui\n",
       "ZlMYh8+N3Zgmoz3+yMVQjNZ4ZNWbXx+70N+AY40uPwLWcCILAzLO2ZK5xnlC4EXNAjQ7HvH6lxWh\n",
       "v6CCpG9TD09Sj0Czw6cHMjg58d9B6fdIeTZxBeGDiTGRz/ytvazB/XclvqNeuKxFYQuMonumTSi7\n",
       "ZH5vtgUlAAABdAGfTXRCfwA2oxF84KwuEAFytKZWFRx+acLCxTY6Tro7ZG3Et2qB10XUfnKaXPDT\n",
       "63HLykJqnzmXL182XNh0mANpVAuDY8rRYc2d4JKk/8iwKQjIX3l6JMDRkMW+S3PBvjojTQghDMzs\n",
       "63REhVzubZ9Dx9GUR9aEt1mWK1+/VtPD1u07vk6xiDm5/rI7xRqkIffrEglu7DsIUwP9SxXwiRC3\n",
       "UCzT/fQZHdSQDKiF/UkUNdxh+MwJOat6yORjwz4QEtIA0XMY7NM7ZWIoi+oDgxUVnjRAaowKHLgd\n",
       "mvaa2vVaKS2eCckeDNo43M6Giu88nlXV/4e1n0yKtswbhkj/FUQHtEs/HEYl2E/9uQI0IPMVuZMT\n",
       "YJ7hBO/fvLPispwLQfIyYtVCpFLIXszbCJb5oYFkRXWPiVrcjfJ0PvgQU0nL++jSol5jCnzKDRWr\n",
       "ut2sKPpBN4dVdHz4dIwupUwogr9SAJ3jpntNlmTDPN8sY/4avx5kfQAAARsBn09qQn8AOK6moqFA\n",
       "5vxltd1K4AW8c3FTa+dtkb8Ho3rUZLX55dybKufVrUw3OH/AARvlbnGWUG9HUe5BEUFzUuu9UcEz\n",
       "fIlJKga267nlImUY1qJYmhNQPGpvXbPnNgcLQ8oJIw96WE8w1W9Z15n/7Yi+TGxXfudv3rMZAgbb\n",
       "3DPzqyVXij1GXW6IKTJskIWgvhjaEqafqM4bkCStQwETzToqi+y95dzirFrfKNm6ISwk7QpQRGaV\n",
       "EFPu+FeI5ClQo3aI68+knJm2m4gdDlfjtO6tragyGKHmkPkqZCEYzBYTNam4mdHntuuaivAuzToM\n",
       "rr7+7n8ssbJGI6zztNpIlO+eIk9LF/KqCvxX8oEsABCjztPfnVq6mGLAAAAD70GbUUmoQWyZTAhn\n",
       "//6eEAE1Lf+UA9W+bTNeYy3nQ6oU2fbnk7Ikxtr4eHNKDOWUJWvKnpAwdZnQe4l+Wg2tSGgLf9kK\n",
       "iuJhsI2jEE7lI3cazmIWGbHwFaYstFyu1UshK6R1wAqZFnohsuI4FyYE/x2mhhaTLh2j8a3Xal/x\n",
       "5EYPHQXgwQDnlxdPSQV01euy6oFc+kv8I0U2H3gFPTTfU/LBjAo32+9yuC2I6ABOkBnrDss1PNLY\n",
       "3eWW65acd2Hw4U6IGcxLbKU1yenyUZDi9KkNX+ZmKVWqnuZwzqYpZ1cXYWf+yiHjG8Nnkl2uE8aM\n",
       "TKGpwe4nOyRJdJXmL/zIAkZUYcmnqtfJH6OqSqEplxux9d8P+0Np4QEhvBcnQ+W7PcgD0jhHQCaP\n",
       "4VE8/3Gi9tbzWu9P0y6ZMJWB4cv8AEFcCbdYQdGQYuO30tNpe9AH5+8KoeffKjTNFJtNMknq/V6z\n",
       "55GQF/NROGoD/WqQ0H4JGel9OoObCz6igUufxUmuQTZsDyS+13AC3iD/pcihtqrgUmDfHB5Q91hF\n",
       "omMoUGVSebOYn/ySIKKDpd6GiYEKtVco/c3Nm9wrXe1FFrWdu3pYI2+x33UYitTOJFJrlxUcpXlA\n",
       "HN68kZ41S1X6NXOmnUCov9zjm+8V2u9BGEXH1spW79+kIQEqmW6Nj2dlmriy8cqBlKs0qpavWlU2\n",
       "rUhQllMgY0xMQE8SUI3nZxMBZarSFXzQuQ3LVApINHGWZ2+WT8y4SeS5hjY2Uv63ksR2Lzynz9ib\n",
       "/oD9vudliPAg4XTyxEsfDIS3jxDWOEMHvyPLm7gM9KBLVuHzUgQI4Olboc5r+bFc0ZoAOyp+nce5\n",
       "7MEHEJdjW0rJl1Pkssb+HkZ1xbxsyrkAmg+y3Tk3flkws79BTaohW9xN1IlPFHHrp2y106H2dTIl\n",
       "FWFpVFqOZD7f+5mbF7oX29iysMh95YWIP/jju8mTeYDv5tnpt+lt8rrPGUlFhdYR7Tl+++byZJ3V\n",
       "omQkjjfgyGWdj9WNMK9UMfGkKUmvMo9rMz2AkYrC/q9EcuXLh8DxBGGBNpKL3oWXUadH6gSJqznP\n",
       "fDRbyhhoC9Qq5ntbn/H8kfraAcaOzhrDO4TEO1G7JGZvxI7M9YL+3b8WR3FvQKr1mzCKAGNdgYL1\n",
       "qAUuqkFP/6Qi2FzFPS0FGmriJmBg25/up0aZLptnCJhRGRS5l9vEEmAz+x6tCExXd/36HEjk++CG\n",
       "6n9zbKe22/qOSNzgzHrEJg0wnaLoF7WYxHietLyH5Wl6VO8rXtTxkxJO6QGz5KsUWXPzIzq/GhO1\n",
       "zt/vtcxD+fNwlongxcMD137SN22TPkFbwQLsAAAEkkGbcknhClJlMCGf/p4QANK7ccAmuoDmIYcp\n",
       "hdXArTm+ivz4rYMGwclJnyLO6cI0IyOEqx+mWjF4rzPS9v0Yf12IK+16C9sig2ldgyCtgzr7A1f/\n",
       "YYD+7FV9F5wgPfkA6Sp5owGL+/xF72F9ERbdOQ6t4SzVSYVwyX9slXSV6YYAAMtYzzl5Veu1hpYd\n",
       "yn9tuU8MdUwkNRjv1EmSj2b598DJgyKV7lK+LyGjZZjkuJ1MbYqfI+T7t/BKUV5GdNOLqYye6nRD\n",
       "yif+oFVFpE9nhu6UoKsKpzNqBVL7vZ8OG1Sh4DgunRbCGlcnx9jrWn7JYq32XYBylIlpkkRqLObL\n",
       "XYtzKYSq/ql2Qd8JCDxPLxWKZN4z1WvfoLvTswRuhbynoTTg22DqcGCjl/+ZQhJnPB1WOXGHlH0W\n",
       "iT7p/DVCC+HMvL1PXNVVGWmeI8sslu711qyv1VaIYPgiWS6VHTPKEvAse/hxqdcjB4YzbxI18p2p\n",
       "QvpVE1s+zH39ApP/H0XS2xDj/lqP8bhpCRbNii+Bsaspwf9q4sVGqjXRjfZ4PmoKUA/DSnb+Oghu\n",
       "Ag+05ME4v8mvb0Z2bVUwkl+rQ90zf7gveWDCjp80PWy8g/y1uVo6MT8k3vrjgr3IjDlF/isUCOc7\n",
       "LMKjvhh2TF/FHq3oiwNXW7eN52ptmthRA5jCRGgRfp+80PjQU/IA9WTcf8NewDh1Bx1CHVUNzdYK\n",
       "PLLGgrT8qiiJO3oX40gO5aQo5pISYUt0fFj7YYKa34gHHj5HFWRaB4uFXywUuw5MSBgGbsA8Re71\n",
       "m0SNxTB5nuNK0wyDcgaE2z30ecA7lOiAxXixmF+Z0CFV98UYvq/WBk0ru16dqa7Yvi0sUg4N6x8k\n",
       "kN4wLBebL+seEgU/ouZZhrErtzjbd7CpO3x9ZJuxYciwaVlJKyBCWi4CPOWNPgObC8lgy5OOEaRX\n",
       "VKAPsgRWg15ZBiz4NVA9YMcbDqAQPNFv8U9WDM81pFmeBjFsKKhH1+gxA+sEQR4IUuSjnpA7Bu9H\n",
       "YqpdqnFkEWGoWg9cY2aQkLx4N6BgevRdt8RPpf778q9h9Daz08UjmGLF/r+xRYa1JwHAOB5UXneL\n",
       "OPLI6PSN271pdB44MjUgHU4RZEaVgebRtBVBG0UYAeqgjByR30n3I6JcIt9AuflZvOUwqBCrstF/\n",
       "EE0YECnyZ7fwG8OSHsXcUVxBr9Infck0IVxwfT+lsP4MjaJESrH3Ae95Q3VHLcbAh5/nuTVEExo6\n",
       "IfwLvqdnkAdGmO/puTj9Yu0qb0KuY3o3E6ssKRQ9hIAiUpG3sIWz9bFmgqHCcstbm6MPlZB8Ic9F\n",
       "WXxPZ4kquMAkxUt+/yZw7MmQZWSZQQHsSfNemSV8/RxcAWUwFf7Fvy6R+RmNARvqXUsVqrPYuP7M\n",
       "Q2aEbDd93WThQfSqZ12JwEDBqJwAKE84fVfrher8fgmkHMnmrWSB6BT+0AgXkFXI/vsfhBQZgoCl\n",
       "Cb9+8JDpJ3MmanWH3rXd1e5VWrfxHmPwaCAlYeUhJN5humej1uYXYuoAsA0oUWB1udzd+fhZWubd\n",
       "sqIB8QAABS5Bm5RJ4Q6JlMFNEwv//oywANQ7tsA0bXCW8yG5/fwfpX2OgUlZ5RAve2yWoRCP/UMD\n",
       "nhxYvvw39Ujti7FEPansbXELzEDAxwI0QGsNL4D0thEmarksCwZrf2T4UPagDlUYxGPCR6R0mSLa\n",
       "zgZi53XYnNSC4hGtz2jM19w/AP7dg9F/d0nvhF5arVRaWxru9qUod3A/akIxy1iWZzY787RVO9Bn\n",
       "hHjwAuZimb2lq1NQK7KD3aD6bl/76vztklSpTj4JPPr8tQ2XFnXtN2WmqaoNDYHEcmOQ+CAil2EP\n",
       "8vtwK3olNEATHKyqtY82wSXrTXMJ5i97IoM4I61g8ry/nSoCqtueAHb2GAdVgLjN9kMOY2HpefG6\n",
       "EsxR9qTtuRxzFbc8jNB8wibL6AtvOPGUysiDtd3pQTg0aTCFGIQSoZsyUl02LxwULyEa4uXnq1OP\n",
       "UuDxtvkTc2iirHVWlMIxtvhlIRQ5VCuk0sc4z4wcZ+OGu/YnfKAYBPOVbuGToVszKjM5IIAdmLld\n",
       "OQotjl8hdUQdMgreww44ZG9Cy8LdTxYe5IRiaZsb5rk2e7cIp6q0ccesvIKMkhrJ0feyVo3H5vPb\n",
       "IVai4ELPmMacNJ2ZdC6Xgk2sTSGizbztkNvS0XPa+eGu3SK01WkudW5575R8ueMjtl/qOaTaeqlL\n",
       "EC3pftMl4+IQn+LVxxCkm0raCJCksWiyYmLvFDdA2s7iPXIeP0wAoOK67EzUXtwU50ek1z4obaIv\n",
       "6F2JszaBcPXxaa3BuOqrJSce2AZPmxqrtlrdu8PmR7Y4RtWlc1tT5j/0mSaQ4KOHx4JikD/dSdax\n",
       "MrJOpdksl5min6yBrxS8UlwRwe2B8dc/AVx8cy3oiHq1nlR04lgfd7zayP7uKSDaRt0yRWXxrAvR\n",
       "HxuHqoyOhndseypl/zcNGCU4ErP9x7x4CusEsFRo+/StRIXqVfzynaB4vR17lejgSKnFiWoALw30\n",
       "VHmCZKeFIgfBluG6gt4s6aq9oUAWd4QL2zV1oRRpTHh1Lyso4yDeyYYVkLzpjUru45Cfmeut11zL\n",
       "8QeMVzsTV280zNeSKjBCRuoe/Yy9nXns/KBA3keUUFNhAjDnqQ2J4MC10ldwRBHytEnIkQJhhjEY\n",
       "DuXUHjDqwiOUXlUUCx0lC+5ywRmhK+lhIjWytj4A0aLjzFaeJA3fmIZFHv7SVQlM/5HsyjEk+upC\n",
       "4yW33VKGzj42FTMUmpf/s8OHWJT4zKvwP+UXc4V/tlKszDYxzxKw4xFgQaCFMB8Y4JzQoAmgaoO8\n",
       "KMPb4HtRPC++OzMEVDVGzj5pFedb17XvpjXrbTxI9U2lFV51zqZY3uMMEDT//T9mw5IM4d/dQcHg\n",
       "+dAQC7m+EuOD6LZq/Bn7EWuvY5+EFTd3cBmDmkxrGAIDt1vnmGNVcNyjn01UIcbD0PPQcyyWiIwo\n",
       "mzbxyM3hOYcBYkMymDi14KB1Vx1lMEaX4xQo4acHpCjeJSyQSUv0gQYhQtzIvoVzSw2/kjar6K+Z\n",
       "AP8FL2I4uRwQ99PLwVXeQIjlfqHek8mLjdjYnJlY0FumqlhyW5JoD+D7DkdA8MsYtDGubs0nz3Ac\n",
       "wpBloqmEasGlijoj21miokdM0+55v3q/3lFzZwFfQTFpGS3UtTtN4quzlsig8S2asUyVWH5mDDqq\n",
       "oCwnFFks2OOVDeHJJ5ihfTJSl+nuIAId7XkYzrUw/BVGLI8i1IoRn7PWAuAgcptaKr1n2RZyOPaw\n",
       "eUt+B6dqvJVN+RD9gnj+JuKqBoxjT3AAAAAwAZ+zakJ/AL7hi47rEc8jAEeDrXJN0AA/fTopqd7A\n",
       "IjS80PlGAUCnvbatv0FsHQb0AAAC2EGbtUnhDyZTAhn//p4QANKK9OucATtwx26iZZhvJVeNtRv5\n",
       "G5EMzjEM7KrBUxsIHHHxOOi0QoT/29hwJmAYC/KRI1jbJAWSe/mn1Joz5E8Iq52L7TQ0oV4foflo\n",
       "pfAnvfTVeLI5dv63a/aFpNRuSQ2VGXRUaINrPG2UkkKq0hLSeHcPXOLvZ8wO1CZJVr806S0b9LZZ\n",
       "iB/Hl2zaEYksNuQ68bgjIT1cMLW8BkPVRdnptu1ivcFlaDUYs3hPAC4Cy4rGUldSxsFrIgIg0QSR\n",
       "wPlAhuFPsiCeEiVjdQHDVglNOoNa4/mH8oyg3J/2EVA/mcxZjxDu0S6GndniynXQSQrX+U0NOGQR\n",
       "v9WzJGj4K8GojBWUWaYQcuRwbt81IKLA46woIOJ22ccZucTbKNp32Yl1/Hp4KiSiZ+KPXZeRiai1\n",
       "diLgBMYKtQBASle5NQylG3JEKOmbBiOAAOer6l1KSJ0yaO8L9Y9sM8YiDrih1oyKWu0KGSzJ1Vdz\n",
       "b+dxEglC5z+7IJqO1je/nsO6/De4VWXy2b8Opa42PlP2b50wEo8PoVAuJyboz98S6L/RpJrEV56n\n",
       "RGuP6WnVQEegZUPZNuFsCuui6wmTXHkaA8enxT68/aeUiVAhJr+QI1cvXvhJAVMxxj6Mjdxt74s9\n",
       "zw4yXngJTN/K4H+LNcrGRtBhktTjYNCLnXsQoePhWvzYNbYwLdoQ71qSfW9pdy8OBGvQ4wEi4KeC\n",
       "FN5x/+NzPMGEbyTQCqHQKDKmM1afqrcKhDDouXd+y+L45A74EpQ11/ZyA7afY6E9BmGNGa4deHtw\n",
       "NSq9+1pEYyIUruugqCr9Q52vRuQY8lpi7EBugCxw5dL/uFh7jmUXKv+Hi43xub/NJtAjLjJbHzjM\n",
       "XVW4S7l/w1u8I7xyphXojlIFoHeKUBDgUvmKp3poIqNZWujK7Pg76zjyTNrhhbCuZkt1HJ4mffCm\n",
       "FtGKArJawrrBAAACzEGb1knhDyZTAhn//p4QANK7kAAJ8SJ24wsJnUMqFpVwtmf+j+I590pWuswq\n",
       "bNPmUMQhCHe7xPhruETeR+j1GAxVKjU10q4K/mncSzbtVn5pOuuPqzeJwjMWWLKW1XgC9oFd8S4W\n",
       "RYIFyr3hEgUkIXik0dV1/D3Nio4Obm8E4UFbsG6GmSmB89IMMq38nSM1bLNl7d4J5ek57ygU9eJI\n",
       "hnlnpMvp8IN8WjGUQW4M/aHEIkBF8WYVo66hITmd5g8uLWtQebO8v3gVW/8E8WyqEncorE/TT3U+\n",
       "TAJ0BAnkBwBjPiVzMaZIKpGnMhnVb6UAgGPvmvyUN5IsN1OCqJmYcYYHrNTC4oxMahB2qbVq9X0R\n",
       "aiBAzttz4mfkL0DH1DO2e5XSEXBZvTRXcdpoapIPfUlI8tqCT8tep5Hj8CfoVCNvEOswJWKr3RKB\n",
       "38KrLnkZE6PaVPpg0A5s7NpSl014U3BAm5kCmIwNeLA6TTV7DC0J06czb/1zxsL2uPd/jA6vvH8O\n",
       "YW1A5Nmmj0+5FtcaHaLd5no+xjujFMjU6K63gtEC+t1RxA2gb4VJIRQ7GVI0HPMbTqo+4kU50zqU\n",
       "CFjZ/j2TMsO7iDO4eEbMD1BiT2a/jttRqCHEwW13NRuPqeTOfUmxmeyDqiVk2iOIhzgQVSgUVVml\n",
       "ivPgWyjShthAYtRGsr2GRjAdNbr1Od2nj/ALlzANAys60Qhu0AKL1tN97Zn4ZfDzA8QEmFTW2NA/\n",
       "F4KsRIxwVDmZm47zvviaFbWQu+w4EfPHP1Gb9vrPTK0ETiDGD8G2yIoSfB34BA5+U3KzwQ0nWkAk\n",
       "ajH3dDDZ29kNU2T7dFIG6Qt33O9bPI+9adkik63Eu+iwbXibk4JvYQZNn6HYRm+WsIhF1YB3fJjP\n",
       "7Pww/9L5huemyKEbjIb6t+XM/4zC1O4Eadq+XUyYban62yoXYG9RXEb8w8NGAAACokGb90nhDyZT\n",
       "Ahn//p4QANK7ccAmGIXbmdjwGTVV3KldCSBVZ91sj37bIvMQTJ9U5yUjB/4a+cyJ4TM6swX8bCRF\n",
       "W+Hs2TSdzWfMVdhfhthQgme8Egf0NkFBTb5ujMCyCuZ4gikeHf4rVjOMfJdjGVdPaiXeYhLMFlPa\n",
       "33RLqT9CFXXGKH6nN5sab/PChyjOnj5VtioYI7yr/qm6OzeSHgDwHl2sU3Z+oLEOAZrl3jMLesZR\n",
       "JqQFjVUldEe9jEkZKlSb1cw4yQHwVlsIlQBbjq2YpRsy20JmCNcnNcNS2CLHL9YuKKMt8EICJLUc\n",
       "JFY0w7uT9+7dVABTl4Yr80Go9d/LFk+YV0fdaAtDHmW3l0k7hgi5vxWyZdMsUKsUM3QQFCEhsyh0\n",
       "6F22NLZn5fgPPwwAjBlFSPjoaGhhU3Vfb6zuHLa5gEwvSRcSwdk/y1cG41B7DzurkyyllHbLCPwi\n",
       "aZcUZtKXTYRw1DOhCFzhiAbOvp7kJ3r03UmuxrwXr4f7WU8Dmy/OJEIzD/Jjk5NG7w/6e0kgtna8\n",
       "49OAlfWTGQNIuwj6bVKyCsrqSCUBGaMUUdvYybbfO9OK5POwTF6iVw3xu4ff0vWEsf0pzewp6+QA\n",
       "9dKEMFjJSFnaL5U17unCEyC8VU0hrkyqeACQRMa8ad+H4oMqo7zHo24k73hQlxaPNLVRTNfeWZa2\n",
       "aMzuC41merMNLIyJln9w+2a0kEKqSad+Vhnk3PG5jtRRdCmlgZJ1lg2JSiJ5JG2NVSiQ/DeHu9UC\n",
       "esmk/ISVk//rXhyLfFKo/sl2o+6ADr5c1QmBQ0KyMH1n4q4FJGukkA4mTbwGKDVm9aR5sPxeQjnr\n",
       "3xk1UZbi6qsrnefNcIBPSOyewnSUSVbKriccrA6xEB1R2Uqx8tblAAACS0GaGEnhDyZTAhv//qeE\n",
       "ADXm/upIgByWit1/LM/brKjMA6+rriixi0dw3RaM1fNilDYnS1zZpUTQK/pSKWkEB88cp+UnNZ6q\n",
       "uysibJPZqbP6xQ3rXWKbcqVRQXjSWvoQCKQBpJ5u4szLRf4uyn+1wzLCM87EYQr4bKq/FwS+OW3d\n",
       "4L2bodn1W7hr/0WyJLueXspxa7azxT6IHEttLsVWG3GdBpcoaQwoPDVKMUWYdcpZrL+H9AtGwLZh\n",
       "w3XGQdSrjJhKw5smfmtZ8A71nDPnZLrJaPPfhXSPBhSATyY5EP2jTW1LJa2GwOK6J/MjdySJOCbf\n",
       "0DS4/e1qkJiRn/yxa9nDZGR6xuPR0+Ytj34t8k6+6N85EdGMYziSwFVE1oJIJKCn6HGdsntuk8VX\n",
       "vvOsBseKe0mWeUdFyzjhc8+oaW1fJQZ8A2FL3hK5AaTJ7o8DQdqKH5W6LlDv7ee2i16u/ip5PHnN\n",
       "rCspSwPbSJb+2C8e9bqfNIS3AlRxD3jKY1ba7+uODYmIhjniJBjJMstzKzi7QJbh0O85Z0h3cIWU\n",
       "uhqZpDvZPcSvl9O3pAt0OfRsgH5THDqTtn9uJ4ZEOWUYmYB/y0slrHZZH5QG44IHH9P3gxqlbAKP\n",
       "o1SCfFevRDtCoggGwb3PJvll1sd/VFpENM8eWBlPhpOyeE3tVCZo5Z3US/DDmEox6HyOuBrZNlKn\n",
       "HSnQVz1EDTZ3LIOm+cvcnwJ+Ci9nmSMycU5ZkiV0N/HywzRxL+OmMds+kx+jIR4UUdfYZmZi5HeD\n",
       "Uu+BAAAC0EGaOknhDyZTBRE8N//+p4QANfFLUAcR5Mu7C2/NiSBhpczRrDy0/y+BHtgFrvh2RT5c\n",
       "wodMMtKMf8wsUP8xiCDgLzpJGbCxLQ4nR+6kt1xsr+55GL+PmljjonM+yR6CFuC2sos3TJytJRDk\n",
       "1xoDF4tqXnBCIc1/ipGj3OnCzWsQBhlMsO4IP+ZdYLB12AElrCJifuhXjjHNVEdKVkulENZdO5HQ\n",
       "AMGNlDwjbqOtEF4sJH1vJmWMCtPUTVmTy5eYODpkEJx/I6LCss6q9YhO/gcShv3ncTm5ax5l2cBE\n",
       "vG1sti4J1WXQL+5esqgOsX5eudV+l5OA7hs2e/9C27noasCNaTu+E15W8vcR8fR9vmffWgDA8Ojs\n",
       "kAABkK3mQg/xpopeYpkxX0UT5xctBFJEAcSPHe3a7n+9gxeUvASzKj7hgN/CZdRX88Kukk5DYDnC\n",
       "wM3q6dhm3Zc2ZiY9xagCJr73WxZo1e8g+VBizvgv3rJu5C2kHeXy+1qiUTYSvNlqM8zmiAGrakzt\n",
       "lGITsjrd04Vugi54jFR1nz4YIugbA6QdFD5W2yjRWgarEVfV26PHQSkXLbISrQvIeCwhqpmu2Mos\n",
       "6ZkTZWH6AfJ0fwpfyy0U58SdSXL0zdCf8f8+dhZbfdQDFU3SCHJEw1AWGmWrRqTHRphBUSvIvVvE\n",
       "wc/3EFv+1mcf2MscwaOQUsOR44wNotkDVV/CetqasUDBiHbUMeNLUEN2Ucb++OJJuMpe74O1t5ni\n",
       "A0LAUXU4p4b6qj3G8s9xJfy0W6OcBHdWesEGaMKoRqdMMhdb5KNzQop0jjw2zzUrff//Cya8ASDb\n",
       "7zABN+qq/gBfP4W/sHqwY9cWjUFkGRrvS/Rrp9vvsGMVh/WXGHaOlbCHi3K4XARazj0o7VYJ5VXs\n",
       "FCCVt/UPPGBeFy4RlQVHKeWzBfevJw2Pfp+VDehEJsDSy8/pUM7HV3mEgAAAABIBnllqQn8AvuGL\n",
       "jJAqZi0GrJsAAAJyQZpcSeEPJlMFPDf//qeEADXxS1AG9kiw1zP/cPSJNZzUc8lE3AY4je1riZ+u\n",
       "IyvLRWOOWvAy4bhjYc43jVMaEqcmkqrwsrgrD3l6fHyhDqk0qrofljxxDTFWG4ypTzZWPFmyZPZF\n",
       "Kd638isDrgZLvXvgSsMimchZuEoXhhBH1kw1ctugZb3b+pab7phR1hWTTWLgJMANfMEKcsEsUA0X\n",
       "XBsU+wo1KHScTBle6vxY3OWZxF+3gdg1JVC8uNkhjmjmCI4AaLWd7Fql2FdEPUkwNzXSXktQuy16\n",
       "1pZpSaXXiRZY+OJ+5THpELrtm0mnNVgQzOhTy3/1bMA442YrNLC3QcS0SnYJOVcbjEtLSdtHevYW\n",
       "ajC8TqaKRO2j0Ne/AoBeDvaG0QB291xZOKFlI6JuSV2OrJHZ3hPjyjwuhviajgt+F074fqSgmXoE\n",
       "qabrIPbw2mFTCmjK2OuSyrpbWtuI+VraoWC3k78EgwVFI+Bqpet+Fc964sULa7ZWfJZHQNwbPp/u\n",
       "4fY4+HYAEgopvJdghTZEDVJb36KhhNBQIuHD1b2+31QJK7Y5ArVB42+a1WY0jnv9P9UiEeF1aPxZ\n",
       "Vi2pJQ5EJ4biCmsv4/mFHCa9fOFiZpAFLZ+07suDpsj0D4ay26OfF/x0O8maBfiga/qeUub/0Anp\n",
       "lES3HiQUlJJsFEHnlUys0OVmOKz4Re1umobGC84ci/xD2mqIVjpEj4aEzn7jLts+67WLABzAX69B\n",
       "VH5c+5Q2rFyIaBkBAB/5l9O6/zOygz0o3DsP5gIHvWRdmYDdT/X3cQ4gIV9UPHhOga/9KGPl78XU\n",
       "SL1aV0DCaYYQIXEAAAAWAZ57akJ/AL7hi4yoEBaDbL0nE+hSQQAAAllBmmBJ4Q8mUwIb//6nhAA1\n",
       "8UtQBxYcA2h/B8ZOp2c92eX/h8jKZQtqifQpWGoZOzvejNkQvYgyXy0eUhbiHNXReF7+BDFd4lFn\n",
       "K1mgbRyFxvKG6sG1We5Xgp7K7IKErvk66qdNkL+Wx6lnizM+yuCn6nzGJ01+IGyqBxvJ3E8qVw0G\n",
       "RkS4V2v3rxIyQXvg1r99bjj/jxPcYjtUHkZefRaVpMDe0ofWdap9PcqtBypuM1dDjnu9EkCZJpcY\n",
       "EvB3pgtOK8EPzmetMpfhU5e2sKsY1dBJ///uVNlpJL33zDZYf9qUYUhjKe8X3inqIIbPT6Q4iO7Z\n",
       "8unXbpzOpljSHC+OITAIfRVmDuJNtQZSRl40uoG69xQC83MXLPSj78eZrdeUKgWjjF2UgfSR2Vus\n",
       "Xg02DOdezwF7gxN3AiXex2KFbT9zBN3B3sbpDmba6igyyMgDgEj8ib3cWlK3NuT7vHIoc91ECWHH\n",
       "8B+ARCt1nUP2cyn1f6Vsl+a31DYTAzRTy4dcV07IwNIvVwljtEbHUhsstdub9kmmubbLXXF6n+4F\n",
       "UWjsEAheMbuMoED2yH8dx+yf4ZM8niwka9AgD3j7KAO9LyRLa3ub1sgAwoEJ/wg4/GXTYtlzhqHS\n",
       "C8xN4E8Nlw3A1/i5zf7Awz9bbAfPfY2VcVIqlML220j/AXo+YWIF0c6+9BPK66TnQ8G3MFyuBLlm\n",
       "jV/8Br0GUSy9rW4MPff2NOKhYq1p8Olwu6m8Q+bBuiGj8M9Di9iOXiohFtqVYq5VPz43gEpnk+Fe\n",
       "cffI2addkrpoDtOayIj1AAAAGkGenkURPCv/AJKq5erdO6ZnV9cxpoNI1QHpAAAADQGevXRCfwAD\n",
       "N+cKAZUAAAANAZ6/akJ/ABuhUKAC7wAAAX5BmqRJqEFomUwIb//+p4QANfFY0AHFUXRxZ3PxkImQ\n",
       "b9Q2o/t96Roco/veP1xLcmAc7Gc9jLbxtbFBt/8W0k1/cvjT6Zglfa2kw+Jtl4lt3rzrGCovUemT\n",
       "2zET7bur36+Bh5I8L9RDZigIX7qN50MCleDQp8aeeRw1YAGE5VBaCqmvSQmZP2DEEtNTFhU1YOaa\n",
       "I62i1NE/vhO2tibqRPnD9/eLjLkXeLQwjEDqMkrbCMPQtU5umOREjT6jX60LXm/lPXjdXAkgIgrO\n",
       "T5F/E40w5rJiMXGaciEEyHsM7a7RoDtaxf4yh0QUW50EBh+iQ7PeUTbc32TlWPkhzIb0FJFS2XN/\n",
       "d6zWWBTNR0V6OS4rfcDsl40dMSAQn5TsCjYjc53ukwKqcSzJyanYJxRbvfFM42+X4zoJ9CIjq/YQ\n",
       "sReRQ4Z0EBz7Xz0aI+Tkmv66sJso12nqp5tRKArvqfStWhEKKQgfs0XVtpiJyjh0PwoMJ8Zh3oP4\n",
       "zlx3DXBzzJngAAAAGEGewkURLCv/AJKq5eqQDu7ybNkf/nkUEQAAABMBnuF0Qn8ANz501td+vPVA\n",
       "us5bAAAADAGe42pCfwAAAwAKSQAAAN9BmuhJqEFsmUwIb//+p4QANLMdKQC1mwD/tgGCzszA1iAF\n",
       "RJtq/BnhJBQCqCvKTvkYaOlskhfMOAhdR3Z2Kp7h0Oykbh5rkMZHg8YAtD9Jc1MmxHEk6qapK43b\n",
       "x1WZvIssorbNXVep6zaymjYdovhUjV0wP4dZkZjDEIzq3akUWoPuzvy4zQvKMBFEinmlOjdocY4l\n",
       "3xiZdaEPBPUuTSylHCloPUb2Nc0IFleENfCHyFpnopzWA0auz0e9017VVD4nLSguFjv7rHRSOeVR\n",
       "1tiiFcYaRy0W2xi00NVXoDcHAAAAG0GfBkUVLCv/AJKq5eqEB6SNziraQcm3koODFwAAAA0BnyV0\n",
       "Qn8AA1/nCgGBAAAADAGfJ2pCfwAAAwAKSAAAAGBBmyxJqEFsmUwIb//+p4QANfCgABlrnb4Ir+91\n",
       "AdbbSMnh9mcivBJBAA0EducCIQy2O8Fas3DBcFFqrfGlb7n5ZUTfWNg6MkUWL3NsWfPMuCYFwZ5+\n",
       "0pnBt7XEmTJ4v7oAAAARQZ9KRRUsK/8Akqrl6ngAJGEAAAAMAZ9pdEJ/AAADAApIAAAADAGfa2pC\n",
       "fwAAAwAKSAAAAFRBm3BJqEFsmUwIb//+p4QANfFyQAcNB3Vvami9pMICmRsCkLiuq0cu1QrGkgY6\n",
       "DXXdorO4nUJyIUgn0UVM0sxJYLakg+xaR5n0Qf+LBYZ+Yk30Z8EAAAARQZ+ORRUsK/8Akqrl6ngA\n",
       "JGEAAAAMAZ+tdEJ/AAADAApJAAAADAGfr2pCfwAAAwAKSAAAAE9Bm7RJqEFsmUwIb//+p4QANLNA\n",
       "+gFoSiyLRix4HcXlA3oXxyw31QVBlXhRKCi6OhQcFgUIuXmfsSdreY5CeOYROeh7vCuvVeUWxyIA\n",
       "kstIAAAAEUGf0kUVLCv/AJKq5ep4ACRhAAAADAGf8XRCfwAAAwAKSAAAAAwBn/NqQn8AAAMACkgA\n",
       "AAAVQZv4SahBbJlMCG///qeEAAADAAm5AAAAEUGeFkUVLCv/AJKq5ep4ACRgAAAADAGeNXRCfwAA\n",
       "AwAKSQAAAAwBnjdqQn8AAAMACkkAAAAVQZo8SahBbJlMCG///qeEAAADAAm4AAAAEUGeWkUVLCv/\n",
       "AJKq5ep4ACRhAAAADAGeeXRCfwAAAwAKSAAAAAwBnntqQn8AAAMACkkAAAAVQZpgSahBbJlMCG//\n",
       "/qeEAAADAAm5AAAAEUGenkUVLCv/AJKq5ep4ACRgAAAADAGevXRCfwAAAwAKSAAAAAwBnr9qQn8A\n",
       "AAMACkkAAAAVQZqkSahBbJlMCG///qeEAAADAAm4AAAAEUGewkUVLCv/AJKq5ep4ACRhAAAADAGe\n",
       "4XRCfwAAAwAKSAAAAAwBnuNqQn8AAAMACkkAAAAVQZroSahBbJlMCG///qeEAAADAAm5AAAAEUGf\n",
       "BkUVLCv/AJKq5ep4ACRhAAAADAGfJXRCfwAAAwAKSQAAAAwBnydqQn8AAAMACkgAAAAVQZssSahB\n",
       "bJlMCG///qeEAAADAAm4AAAAEUGfSkUVLCv/AJKq5ep4ACRhAAAADAGfaXRCfwAAAwAKSAAAAAwB\n",
       "n2tqQn8AAAMACkgAAAAVQZtwSahBbJlMCG///qeEAAADAAm5AAAAEUGfjkUVLCv/AJKq5ep4ACRh\n",
       "AAAADAGfrXRCfwAAAwAKSQAAAAwBn69qQn8AAAMACkgAAAAVQZu0SahBbJlMCG///qeEAAADAAm4\n",
       "AAAAEUGf0kUVLCv/AJKq5ep4ACRhAAAADAGf8XRCfwAAAwAKSAAAAAwBn/NqQn8AAAMACkgAAAAV\n",
       "QZv4SahBbJlMCG///qeEAAADAAm5AAAAEUGeFkUVLCv/AJKq5ep4ACRgAAAADAGeNXRCfwAAAwAK\n",
       "SQAAAAwBnjdqQn8AAAMACkkAAAAVQZo8SahBbJlMCG///qeEAAADAAm4AAAAEUGeWkUVLCv/AJKq\n",
       "5ep4ACRhAAAADAGeeXRCfwAAAwAKSAAAAAwBnntqQn8AAAMACkkAAAAVQZpgSahBbJlMCG///qeE\n",
       "AAADAAm5AAAAEUGenkUVLCv/AJKq5ep4ACRgAAAADAGevXRCfwAAAwAKSAAAAAwBnr9qQn8AAAMA\n",
       "CkkAAAAVQZqkSahBbJlMCG///qeEAAADAAm4AAAAEUGewkUVLCv/AJKq5ep4ACRhAAAADAGe4XRC\n",
       "fwAAAwAKSAAAAAwBnuNqQn8AAAMACkkAAAAVQZroSahBbJlMCG///qeEAAADAAm5AAAAEUGfBkUV\n",
       "LCv/AJKq5ep4ACRhAAAADAGfJXRCfwAAAwAKSQAAAAwBnydqQn8AAAMACkgAAAAVQZssSahBbJlM\n",
       "CG///qeEAAADAAm4AAAAEUGfSkUVLCv/AJKq5ep4ACRhAAAADAGfaXRCfwAAAwAKSAAAAAwBn2tq\n",
       "Qn8AAAMACkgAAAAVQZtwSahBbJlMCG///qeEAAADAAm5AAAAEUGfjkUVLCv/AJKq5ep4ACRhAAAA\n",
       "DAGfrXRCfwAAAwAKSQAAAAwBn69qQn8AAAMACkgAAAAVQZu0SahBbJlMCG///qeEAAADAAm4AAAA\n",
       "EUGf0kUVLCv/AJKq5ep4ACRhAAAADAGf8XRCfwAAAwAKSAAAAAwBn/NqQn8AAAMACkgAAAAVQZv4\n",
       "SahBbJlMCG///qeEAAADAAm5AAAAEUGeFkUVLCv/AJKq5ep4ACRgAAAADAGeNXRCfwAAAwAKSQAA\n",
       "AAwBnjdqQn8AAAMACkkAAAAVQZo8SahBbJlMCG///qeEAAADAAm4AAAAEUGeWkUVLCv/AJKq5ep4\n",
       "ACRhAAAADAGeeXRCfwAAAwAKSAAAAAwBnntqQn8AAAMACkkAAAAtQZpgSahBbJlMCG///qeEAA/Y\n",
       "00ATodZ3OB6/dibhs0o1oxPUmgZDZMkpu7ETAAAAEUGenkUVLCv/AJKq5ep4ACRgAAAADAGevXRC\n",
       "fwAAAwAKSAAAAAwBnr9qQn8AAAMACkkAAAAVQZqkSahBbJlMCG///qeEAAADAAm4AAAAEUGewkUV\n",
       "LCv/AJKq5ep4ACRhAAAADAGe4XRCfwAAAwAKSAAAAAwBnuNqQn8AAAMACkkAAAAVQZroSahBbJlM\n",
       "CG///qeEAAADAAm5AAAAEUGfBkUVLCv/AJKq5ep4ACRhAAAADAGfJXRCfwAAAwAKSQAAAAwBnydq\n",
       "Qn8AAAMACkgAAAAVQZssSahBbJlMCG///qeEAAADAAm4AAAAEUGfSkUVLCv/AJKq5ep4ACRhAAAA\n",
       "DAGfaXRCfwAAAwAKSAAAAAwBn2tqQn8AAAMACkgAAAAVQZtwSahBbJlMCGf//p4QAAADACXhAAAA\n",
       "EUGfjkUVLCv/AJKq5ep4ACRhAAAADAGfrXRCfwAAAwAKSQAAAAwBn69qQn8AAAMACkgAAAAVQZu0\n",
       "SahBbJlMCF///oywAAADACZgAAAAEUGf0kUVLCv/AJKq5ep4ACRhAAAADAGf8XRCfwAAAwAKSAAA\n",
       "AAwBn/NqQn8AAAMACkgAAAAVQZv2SahBbJlMFEwn//3xAAADAAFtAAAADwGeFWpCfwC/WcdxCgAJ\n",
       "GAAACh9tb292AAAAbG12aGQAAAAAAAAAAAAAAAAAAAPoAAATqgABAAABAAAAAAAAAAAAAAAAAQAA\n",
       "AAAAAAAAAAAAAAAAAAEAAAAAAAAAAAAAAAAAAEAAAAAAAAAAAAAAAAAAAAAAAAAAAAAAAAAAAAAA\n",
       "AAACAAAJSXRyYWsAAABcdGtoZAAAAAMAAAAAAAAAAAAAAAEAAAAAAAATqgAAAAAAAAAAAAAAAAAA\n",
       "AAAAAQAAAAAAAAAAAAAAAAAAAAEAAAAAAAAAAAAAAAAAAEAAAAABzAAAAVgAAAAAACRlZHRzAAAA\n",
       "HGVsc3QAAAAAAAAAAQAAE6oAAAQAAAEAAAAACMFtZGlhAAAAIG1kaGQAAAAAAAAAAAAAAAAAADwA\n",
       "AAEuAFXEAAAAAAAtaGRscgAAAAAAAAAAdmlkZQAAAAAAAAAAAAAAAFZpZGVvSGFuZGxlcgAAAAhs\n",
       "bWluZgAAABR2bWhkAAAAAQAAAAAAAAAAAAAAJGRpbmYAAAAcZHJlZgAAAAAAAAABAAAADHVybCAA\n",
       "AAABAAAILHN0YmwAAAC4c3RzZAAAAAAAAAABAAAAqGF2YzEAAAAAAAAAAQAAAAAAAAAAAAAAAAAA\n",
       "AAABzAFYAEgAAABIAAAAAAAAAAEAAAAAAAAAAAAAAAAAAAAAAAAAAAAAAAAAAAAAAAAAAAAY//8A\n",
       "AAA2YXZjQwFkABX/4QAZZ2QAFazZQdC3uWEAAAMAAQAAAwA8DxYtlgEABmjr48siwP34+AAAAAAc\n",
       "dXVpZGtoQPJfJE/FujmlG88DI/MAAAAAAAAAGHN0dHMAAAAAAAAAAQAAAJcAAAIAAAAAFHN0c3MA\n",
       "AAAAAAAAAQAAAAEAAASgY3R0cwAAAAAAAACSAAAAAQAABAAAAAABAAAGAAAAAAEAAAIAAAAAAgAA\n",
       "BAAAAAABAAAKAAAAAAEAAAQAAAAAAQAAAAAAAAABAAACAAAAAAEAAAoAAAAAAQAABAAAAAABAAAA\n",
       "AAAAAAEAAAIAAAAAAQAACgAAAAABAAAEAAAAAAEAAAAAAAAAAQAAAgAAAAACAAAEAAAAAAEAAAYA\n",
       "AAAAAQAAAgAAAAAEAAAEAAAAAAEAAAYAAAAAAQAAAgAAAAABAAAGAAAAAAEAAAIAAAAAAQAACgAA\n",
       "AAABAAAEAAAAAAEAAAAAAAAAAQAAAgAAAAABAAAKAAAAAAEAAAQAAAAAAQAAAAAAAAABAAACAAAA\n",
       "AAEAAAoAAAAAAQAABAAAAAABAAAAAAAAAAEAAAIAAAAAAQAACgAAAAABAAAEAAAAAAEAAAAAAAAA\n",
       "AQAAAgAAAAABAAAKAAAAAAEAAAQAAAAAAQAAAAAAAAABAAACAAAAAAEAAAoAAAAAAQAABAAAAAAB\n",
       "AAAAAAAAAAEAAAIAAAAAAQAACgAAAAABAAAEAAAAAAEAAAAAAAAAAQAAAgAAAAABAAAKAAAAAAEA\n",
       "AAQAAAAAAQAAAAAAAAABAAACAAAAAAEAAAoAAAAAAQAABAAAAAABAAAAAAAAAAEAAAIAAAAAAQAA\n",
       "CgAAAAABAAAEAAAAAAEAAAAAAAAAAQAAAgAAAAABAAAKAAAAAAEAAAQAAAAAAQAAAAAAAAABAAAC\n",
       "AAAAAAEAAAoAAAAAAQAABAAAAAABAAAAAAAAAAEAAAIAAAAAAQAACgAAAAABAAAEAAAAAAEAAAAA\n",
       "AAAAAQAAAgAAAAABAAAKAAAAAAEAAAQAAAAAAQAAAAAAAAABAAACAAAAAAEAAAoAAAAAAQAABAAA\n",
       "AAABAAAAAAAAAAEAAAIAAAAAAQAACgAAAAABAAAEAAAAAAEAAAAAAAAAAQAAAgAAAAABAAAKAAAA\n",
       "AAEAAAQAAAAAAQAAAAAAAAABAAACAAAAAAEAAAoAAAAAAQAABAAAAAABAAAAAAAAAAEAAAIAAAAA\n",
       "AQAACgAAAAABAAAEAAAAAAEAAAAAAAAAAQAAAgAAAAABAAAKAAAAAAEAAAQAAAAAAQAAAAAAAAAB\n",
       "AAACAAAAAAEAAAoAAAAAAQAABAAAAAABAAAAAAAAAAEAAAIAAAAAAQAACgAAAAABAAAEAAAAAAEA\n",
       "AAAAAAAAAQAAAgAAAAABAAAKAAAAAAEAAAQAAAAAAQAAAAAAAAABAAACAAAAAAEAAAoAAAAAAQAA\n",
       "BAAAAAABAAAAAAAAAAEAAAIAAAAAAQAACgAAAAABAAAEAAAAAAEAAAAAAAAAAQAAAgAAAAABAAAK\n",
       "AAAAAAEAAAQAAAAAAQAAAAAAAAABAAACAAAAAAEAAAoAAAAAAQAABAAAAAABAAAAAAAAAAEAAAIA\n",
       "AAAAAQAACgAAAAABAAAEAAAAAAEAAAAAAAAAAQAAAgAAAAABAAAKAAAAAAEAAAQAAAAAAQAAAAAA\n",
       "AAABAAACAAAAAAEAAAoAAAAAAQAABAAAAAABAAAAAAAAAAEAAAIAAAAAAQAABgAAAAABAAACAAAA\n",
       "ABxzdHNjAAAAAAAAAAEAAAABAAAAlwAAAAEAAAJwc3RzegAAAAAAAAAAAAAAlwAAMdMAAAUMAAAC\n",
       "kgAAA5oAAANiAAAFxwAAAwAAAAFcAAAB5QAABeMAAALNAAACBwAAAa4AAAZ0AAACuQAAAXgAAAEf\n",
       "AAAD8wAABJYAAAUyAAAANAAAAtwAAALQAAACpgAAAk8AAALUAAAAFgAAAnYAAAAaAAACXQAAAB4A\n",
       "AAARAAAAEQAAAYIAAAAcAAAAFwAAABAAAADjAAAAHwAAABEAAAAQAAAAZAAAABUAAAAQAAAAEAAA\n",
       "AFgAAAAVAAAAEAAAABAAAABTAAAAFQAAABAAAAAQAAAAGQAAABUAAAAQAAAAEAAAABkAAAAVAAAA\n",
       "EAAAABAAAAAZAAAAFQAAABAAAAAQAAAAGQAAABUAAAAQAAAAEAAAABkAAAAVAAAAEAAAABAAAAAZ\n",
       "AAAAFQAAABAAAAAQAAAAGQAAABUAAAAQAAAAEAAAABkAAAAVAAAAEAAAABAAAAAZAAAAFQAAABAA\n",
       "AAAQAAAAGQAAABUAAAAQAAAAEAAAABkAAAAVAAAAEAAAABAAAAAZAAAAFQAAABAAAAAQAAAAGQAA\n",
       "ABUAAAAQAAAAEAAAABkAAAAVAAAAEAAAABAAAAAZAAAAFQAAABAAAAAQAAAAGQAAABUAAAAQAAAA\n",
       "EAAAABkAAAAVAAAAEAAAABAAAAAZAAAAFQAAABAAAAAQAAAAMQAAABUAAAAQAAAAEAAAABkAAAAV\n",
       "AAAAEAAAABAAAAAZAAAAFQAAABAAAAAQAAAAGQAAABUAAAAQAAAAEAAAABkAAAAVAAAAEAAAABAA\n",
       "AAAZAAAAFQAAABAAAAAQAAAAGQAAABMAAAAUc3RjbwAAAAAAAAABAAAAMAAAAGJ1ZHRhAAAAWm1l\n",
       "dGEAAAAAAAAAIWhkbHIAAAAAAAAAAG1kaXJhcHBsAAAAAAAAAAAAAAAALWlsc3QAAAAlqXRvbwAA\n",
       "AB1kYXRhAAAAAQAAAABMYXZmNTguNzYuMTAw\n",
       "\">\n",
       "  Your browser does not support the video tag.\n",
       "</video>"
      ],
      "text/plain": [
       "<IPython.core.display.HTML object>"
      ]
     },
     "execution_count": 49,
     "metadata": {},
     "output_type": "execute_result"
    },
    {
     "data": {
      "image/png": "[encoded data removed]",
      "text/plain": [
       "<Figure size 460x344 with 1 Axes>"
      ]
     },
     "metadata": {
      "needs_background": "light"
     },
     "output_type": "display_data"
    }
   ],
   "source": [
    "ani = animate_solutions(iter_solutions)\n",
    "HTML(ani.to_html5_video())"
   ]
  },
  {
   "cell_type": "code",
   "execution_count": null,
   "metadata": {},
   "outputs": [],
   "source": []
  }
 ],
 "metadata": {
  "colab": {
   "name": "Seminar_1_knn_solved.ipynb",
   "provenance": [
    {
     "file_id": "1_i1OZMEVS-zZJR73YUy27RRtuMd7y98e",
     "timestamp": 1604689460421
    },
    {
     "file_id": "1baHqVMrvF6w30LAa5mUZGpRvcfg6Z4ZX",
     "timestamp": 1600782777758
    }
   ],
   "toc_visible": true
  },
  "hide_input": false,
  "kernelspec": {
   "display_name": "Python 3 (ipykernel)",
   "language": "python",
   "name": "python3"
  },
  "language_info": {
   "codemirror_mode": {
    "name": "ipython",
    "version": 3
   },
   "file_extension": ".py",
   "mimetype": "text/x-python",
   "name": "python",
   "nbconvert_exporter": "python",
   "pygments_lexer": "ipython3",
   "version": "3.8.10"
  },
  "toc": {
   "base_numbering": 1,
   "nav_menu": {},
   "number_sections": true,
   "sideBar": true,
   "skip_h1_title": false,
   "title_cell": "Table of Contents",
   "title_sidebar": "Contents",
   "toc_cell": false,
   "toc_position": {},
   "toc_section_display": true,
   "toc_window_display": true
  },
  "varInspector": {
   "cols": {
    "lenName": 16,
    "lenType": 16,
    "lenVar": 40
   },
   "kernels_config": {
    "python": {
     "delete_cmd_postfix": "",
     "delete_cmd_prefix": "del ",
     "library": "var_list.py",
     "varRefreshCmd": "print(var_dic_list())"
    },
    "r": {
     "delete_cmd_postfix": ") ",
     "delete_cmd_prefix": "rm(",
     "library": "var_list.r",
     "varRefreshCmd": "cat(var_dic_list()) "
    }
   },
   "types_to_exclude": [
    "module",
    "function",
    "builtin_function_or_method",
    "instance",
    "_Feature"
   ],
   "window_display": false
  }
 },
 "nbformat": 4,
 "nbformat_minor": 4
}
