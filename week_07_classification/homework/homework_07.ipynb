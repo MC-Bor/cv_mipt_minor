{
 "cells": [
  {
   "cell_type": "markdown",
   "metadata": {},
   "source": [
    "# Homework 7"
   ]
  },
  {
   "cell_type": "markdown",
   "metadata": {},
   "source": [
    "# Задача №1 - Можете ли вы отличить сорняки от рассады (v2)?\n",
    "\n",
    "Усоврешенствуем подход решения задачи из домашней работы №6 следующим образом. На предыдущих парах мы проделали первые шаги в области машинного обучения: изучили понятия метрик, обучения, валидации, алгоритмы knn и линейных моделей. Закрепим все эти моменты на примере решения задачи мульти-классификации.\n",
    "\n",
    "На занятиях мы отметили, что модели машинного обучения из некоторых признаков $X$ и меток к ним (зависимости) $y$ пытаемся восстановить такую функцию $f: f(X) = y$. Из предыдущих лекций по CV мы научились выделять признаки изобразений, то есть строить множество $X$. Теперь займемся построением функции $f$ с помощью методов машинного обучения."
   ]
  },
  {
   "cell_type": "markdown",
   "metadata": {},
   "source": [
    "Исходные изображения возьмите из соревнования на площадке [Kaggle](https://www.kaggle.com/c/plant-seedlings-classification/overview) \n",
    "\n",
    "Для нашего задания выделим только 4 класса:\n",
    "- Loose Silky-bent\n",
    "- Maize\n",
    "- Scentless Mayweed\n",
    "- Small-flowered Cranesbill\n",
    "\n",
    "Примеры изображений для теста:\n",
    "<table><tr>\n",
    "    <td> <img src=\"https://i.ibb.co/tbqR37m/fhj.png\" alt=\"Drawing\" style=\"width: 200px;\"/> </td>\n",
    "    <td> <img src=\"https://i.ibb.co/6yL3Wmt/sfg.png\" alt=\"Drawing\" style=\"width: 200px;\"/> </td>\n",
    "    <td> <img src=\"https://i.ibb.co/pvn7NvF/asd.png\" alt=\"Drawing\" style=\"width: 200px;\"/> </td>\n",
    "</tr></table>\n",
    "\n",
    "Итоговое решение сделать по аналогии с sample_submission.csv, которое есть в исходных данных на площадке Kaggle. Ваше решение будет оцениваться  только на тех изображениях, которые действительно принадлежат к выделенным классам выше. Это уже забота проверяющего.\n",
    "\n",
    "## В итоге вы должны предоставить ноутбук с решением и sample_submission.csv с ответом "
   ]
  },
  {
   "cell_type": "markdown",
   "metadata": {},
   "source": [
    "# Подготовка данных\n",
    "\n",
    "Вопспользуйтесь наработками для решения домашней работы №5 и сгенерируйте вектор признаков для обучащей выборки и создайте набор признаков $X$. Если ваш алгоритм вычислительно сложный и долго формирует признаки, вы можете их сохранить и приложить к ответу (код с генерацией этих признаков также должен быть приложен в ноутбуке или отдельном файле). "
   ]
  },
  {
   "cell_type": "code",
   "execution_count": null,
   "metadata": {},
   "outputs": [],
   "source": [
    "# Ваш код"
   ]
  },
  {
   "cell_type": "markdown",
   "metadata": {},
   "source": [
    "## Обзор сформированных характеристик\n",
    "\n",
    "Так как алгоритм формирования характеристик изображений детерменирован, то полученные характеристки можно интепретировать. Постройте графики/гистограммы, как выделенные вами характеристки распределены у каждого класса в обучающей выборке.\n",
    "\n",
    "Такая визуализация позволит вам анализировать - насколько ваши признаки позволяют решать поставленную задачу классификации."
   ]
  },
  {
   "cell_type": "code",
   "execution_count": null,
   "metadata": {},
   "outputs": [],
   "source": [
    "# Ваш код"
   ]
  },
  {
   "cell_type": "markdown",
   "metadata": {},
   "source": [
    "# Стратегия валидации \n",
    "\n",
    "\n",
    "Итак, у вас есть данные для обучения и данные, на которых необходимо сделать предсказание. Для оценки точности необходимо проводить валидацию (так как мало данных, можно проводить кросс валидацию). Валидацию проще всего реализовать методами sklearn, например:\n",
    "- KFold\n",
    "- ShuffleSplit\n",
    "- StratifiedKFold\n",
    "- StratifiedShuffleSplit\n",
    "- GroupKFold\n",
    "- GroupShuffleSplit"
   ]
  },
  {
   "cell_type": "code",
   "execution_count": null,
   "metadata": {},
   "outputs": [],
   "source": [
    "# Ваш код"
   ]
  },
  {
   "cell_type": "markdown",
   "metadata": {},
   "source": [
    "# Обучение алгоритма"
   ]
  },
  {
   "cell_type": "markdown",
   "metadata": {},
   "source": [
    "## kNN"
   ]
  },
  {
   "cell_type": "code",
   "execution_count": null,
   "metadata": {},
   "outputs": [],
   "source": [
    "# Ваш код"
   ]
  },
  {
   "cell_type": "markdown",
   "metadata": {},
   "source": [
    "## Линейные модели"
   ]
  },
  {
   "cell_type": "code",
   "execution_count": null,
   "metadata": {},
   "outputs": [],
   "source": [
    "# Ваш код"
   ]
  },
  {
   "cell_type": "markdown",
   "metadata": {},
   "source": [
    "# Точность решения на отложенной выборке\n",
    "\n",
    "Воспользуйтесь метриками для оценки точности мульти-классификации:\n",
    "- F2\n",
    "- confusion matrix"
   ]
  },
  {
   "cell_type": "markdown",
   "metadata": {},
   "source": [
    "## F2"
   ]
  },
  {
   "cell_type": "code",
   "execution_count": null,
   "metadata": {},
   "outputs": [],
   "source": [
    "# Ваш код"
   ]
  },
  {
   "cell_type": "markdown",
   "metadata": {},
   "source": [
    "## Confusion matrix"
   ]
  },
  {
   "cell_type": "code",
   "execution_count": null,
   "metadata": {
    "ExecuteTime": {
     "end_time": "2020-11-21T10:46:04.463340Z",
     "start_time": "2020-11-21T10:46:04.458346Z"
    }
   },
   "outputs": [],
   "source": [
    "# Ваш код"
   ]
  },
  {
   "cell_type": "markdown",
   "metadata": {},
   "source": [
    "# Финальное предсказание на тестовые данные \n",
    "\n",
    "Решением домашнего задания является данный ноутбук + .csv файл с предсказанием. Заполните его в соотвествии с примером sample_submission.csv"
   ]
  },
  {
   "cell_type": "code",
   "execution_count": null,
   "metadata": {},
   "outputs": [],
   "source": [
    "# Ваш код"
   ]
  },
  {
   "cell_type": "code",
   "execution_count": null,
   "metadata": {},
   "outputs": [],
   "source": []
  }
 ],
 "metadata": {
  "hide_input": false,
  "kernelspec": {
   "display_name": "Python 3 (ipykernel)",
   "language": "python",
   "name": "python3"
  },
  "language_info": {
   "codemirror_mode": {
    "name": "ipython",
    "version": 3
   },
   "file_extension": ".py",
   "mimetype": "text/x-python",
   "name": "python",
   "nbconvert_exporter": "python",
   "pygments_lexer": "ipython3",
   "version": "3.8.10"
  },
  "toc": {
   "base_numbering": 1,
   "nav_menu": {},
   "number_sections": true,
   "sideBar": true,
   "skip_h1_title": false,
   "title_cell": "Table of Contents",
   "title_sidebar": "Contents",
   "toc_cell": false,
   "toc_position": {},
   "toc_section_display": true,
   "toc_window_display": false
  },
  "varInspector": {
   "cols": {
    "lenName": 16,
    "lenType": 16,
    "lenVar": 40
   },
   "kernels_config": {
    "python": {
     "delete_cmd_postfix": "",
     "delete_cmd_prefix": "del ",
     "library": "var_list.py",
     "varRefreshCmd": "print(var_dic_list())"
    },
    "r": {
     "delete_cmd_postfix": ") ",
     "delete_cmd_prefix": "rm(",
     "library": "var_list.r",
     "varRefreshCmd": "cat(var_dic_list()) "
    }
   },
   "types_to_exclude": [
    "module",
    "function",
    "builtin_function_or_method",
    "instance",
    "_Feature"
   ],
   "window_display": false
  }
 },
 "nbformat": 4,
 "nbformat_minor": 4
}
