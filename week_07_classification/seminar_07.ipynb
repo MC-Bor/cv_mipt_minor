{
 "cells": [
  {
   "cell_type": "markdown",
   "id": "c5b70583-c8c2-4d5d-914f-41e86d6f580e",
   "metadata": {},
   "source": [
    "# Семинар 7 - Классификация методами машинного обучения "
   ]
  },
  {
   "cell_type": "code",
   "execution_count": null,
   "id": "1803a512-2559-4c11-881e-366a511fb633",
   "metadata": {},
   "outputs": [],
   "source": [
    "import pandas as pd\n",
    "import numpy as np\n",
    "import matplotlib.pyplot as plt\n",
    "\n",
    "import warnings\n",
    "warnings.simplefilter('ignore')\n",
    "plt.style.use('seaborn')\n",
    "\n",
    "%matplotlib inline"
   ]
  },
  {
   "cell_type": "markdown",
   "id": "9c0d939b-a233-449e-86a6-62f1dcd2f1ce",
   "metadata": {},
   "source": [
    "# Логистическая регрессия "
   ]
  },
  {
   "cell_type": "markdown",
   "id": "4990eee3-f838-4d0c-9342-745ed54c47f3",
   "metadata": {},
   "source": [
    "## Краткая теория\n",
    "\n",
    "![picture](https://drive.google.com/uc?export=view&id=1ZTii4cXzTi0YaHZRpQ7PM_OzacnwZ4n8)\n",
    "\n",
    "Где линейная модель - это: $$ \\hat{y} = f(x) = \\theta_0*1 + \\theta_1*x_1 + ... + \\theta_n*x_n = \\theta^T*X$$\n",
    "\n",
    "Функция активации $\\sigma(x) = \\frac{1}{1 + \\exp^{-x}}$"
   ]
  },
  {
   "cell_type": "code",
   "execution_count": null,
   "id": "50ab6fbd-d5bb-404b-9f82-2904df27de2c",
   "metadata": {},
   "outputs": [],
   "source": [
    "from sklearn.datasets import fetch_olivetti_faces"
   ]
  },
  {
   "cell_type": "code",
   "execution_count": null,
   "id": "5bcc9a51-4304-411b-bdec-9afb32f9fd3f",
   "metadata": {
    "colab": {
     "base_uri": "https://localhost:8080/"
    },
    "id": "ZTbbEpwjA3W3",
    "outputId": "3f91b581-9fff-4155-8a46-8a87157c191b"
   },
   "outputs": [],
   "source": [
    "# загрузим данные\n",
    "data = fetch_olivetti_faces(shuffle=True)\n",
    "\n",
    "X = data.data\n",
    "y = data.target\n",
    "\n",
    "print(X.shape, y.shape)"
   ]
  },
  {
   "cell_type": "code",
   "execution_count": null,
   "id": "4608499d-cd7d-4da2-8f95-add588e9d1ec",
   "metadata": {
    "id": "uqbDv4-RE9C4"
   },
   "outputs": [],
   "source": [
    "n_row, n_col = 2, 3\n",
    "n_components = n_row * n_col\n",
    "image_shape = (64, 64)\n",
    "\n",
    "def plot_gallery(title, images, n_col=n_col, n_row=n_row, cmap=plt.cm.gray):\n",
    "    plt.figure(figsize=(2. * n_col, 2.26 * n_row))\n",
    "    plt.suptitle(title, size=16)\n",
    "    \n",
    "    for i, comp in enumerate(images):\n",
    "        plt.subplot(n_row, n_col, i + 1)\n",
    "        plt.imshow(comp.reshape(image_shape), cmap=cmap)\n",
    "        plt.axis('off')\n",
    "        \n",
    "    plt.subplots_adjust(0.01, 0.05, 0.99, 0.93, 0.04, 0.)"
   ]
  },
  {
   "cell_type": "code",
   "execution_count": null,
   "id": "1ea5d304-2533-44b3-b026-3a41878e1416",
   "metadata": {
    "colab": {
     "base_uri": "https://localhost:8080/",
     "height": 334
    },
    "id": "bDgt8NqnFFce",
    "outputId": "526bc01b-c3c6-4e62-ac9c-295141e9b0fd"
   },
   "outputs": [],
   "source": [
    "plot_gallery(\"Olivetti faces\", X[:n_components])"
   ]
  },
  {
   "cell_type": "markdown",
   "id": "69975088-fbfb-4ce7-a34e-e541403862f5",
   "metadata": {
    "id": "B0FWjkg0A3XK"
   },
   "source": [
    "## Разделим выборку на две части: обучающую и тестовую"
   ]
  },
  {
   "cell_type": "code",
   "execution_count": null,
   "id": "96cd1121-7561-4d78-8305-7bfcd2d6946f",
   "metadata": {
    "id": "Jv-_k73lA3XK"
   },
   "outputs": [],
   "source": [
    "from sklearn.model_selection import train_test_split"
   ]
  },
  {
   "cell_type": "code",
   "execution_count": null,
   "id": "9e059207-abac-4044-8ea0-5103c796d16b",
   "metadata": {
    "colab": {
     "base_uri": "https://localhost:8080/"
    },
    "id": "LPnAuqZAA3XM",
    "outputId": "96253869-d384-4032-8fd0-1c7a8d769712"
   },
   "outputs": [],
   "source": [
    "X_train, X_test, y_train, y_test = train_test_split(X, y, \n",
    "                                                    train_size=0.5,\n",
    "                                                    test_size=0.5, \n",
    "                                                    shuffle=True,\n",
    "                                                   random_state=42)\n",
    "X_train.shape, X_test.shape, y_train.shape, y_test.shape  "
   ]
  },
  {
   "cell_type": "markdown",
   "id": "3067f8b2-6e32-425f-9fdc-c6acf90fa70b",
   "metadata": {
    "id": "1YtXHAXT-0QS"
   },
   "source": [
    "## Логистическая регрессия для многоклассовой классификации"
   ]
  },
  {
   "cell_type": "code",
   "execution_count": null,
   "id": "6c3eada9-674f-4b2f-9acf-642eb8b4209f",
   "metadata": {
    "id": "jEiSkOH_-0QS"
   },
   "outputs": [],
   "source": [
    "from sklearn.linear_model import LogisticRegression\n",
    "from sklearn.metrics import accuracy_score"
   ]
  },
  {
   "cell_type": "code",
   "execution_count": null,
   "id": "787dce1f-e372-468b-850d-88670da46977",
   "metadata": {
    "colab": {
     "base_uri": "https://localhost:8080/"
    },
    "id": "82axMzty-0QT",
    "outputId": "421b43d3-97bb-4ede-ff9d-49c8f970ad51"
   },
   "outputs": [],
   "source": [
    "# Разделим выборку на тренировочную и тестовую \n",
    "x_train, x_test, y_train, y_test = train_test_split(X, y, train_size=0.8, shuffle=True, random_state=42)\n",
    "\n",
    "x_train.shape, x_test.shape, y_train.shape, y_test.shape"
   ]
  },
  {
   "cell_type": "markdown",
   "id": "fdc8c1f7-c517-430c-a9bc-e970d98b0972",
   "metadata": {
    "id": "YWfULoE0-0QV"
   },
   "source": [
    "*Логистическая регрессия позволяет решать задачу многоклассовой классификации. Класс ``LogisticRegression`` позвляет это делать двумя способами:* \n",
    "- Стандартный One vs Rest (т.е. каждый класс отделяется от всех других). Параметр `multi_class='ovr'`.*\n",
    "- One vs One: Используя кросс-энтропию (оценивается сразу вектор вероятностей принадлежности классам). Параметр `multi_class='multinomial'`.*"
   ]
  },
  {
   "cell_type": "markdown",
   "id": "3f716b49-89da-4783-8734-d035809691eb",
   "metadata": {
    "id": "y2_usOtj6kq_"
   },
   "source": [
    "#### One vs Rest\n",
    "\n",
    "\n",
    "Find 𝐾 − 1 classifiers 𝑓 , 𝑓 , ... , 𝑓 12 𝐾−1  \n",
    "- 𝑓 classifies1𝑣𝑠{2,3,...,𝐾} 1\n",
    "- 𝑓 classifies2𝑣𝑠{1,3,...,𝐾} 2\n",
    "- ...\n",
    "- 𝑓 classifies𝐾−1𝑣𝑠{1,2,...,𝐾−2}\n",
    "- 𝐾−1\n",
    "- Points not classified to classes {1,2, ... , 𝐾 − 1} are put to class 𝐾\n"
   ]
  },
  {
   "cell_type": "markdown",
   "id": "0077cad2-a455-404f-bf29-14754c96a707",
   "metadata": {
    "id": "1KFaDE6W-0QV"
   },
   "source": [
    "#### Cross-entropy\n",
    "\n",
    "\n",
    "В случае с бинарной классификацией функция потерь: \n",
    "$$ \\sum_{i=1}^l \\bigl( y_i \\log a_i - (1-y_i) \\log (1-a_i) \\bigr)  \\rightarrow min$$  \n",
    "$a_i$ – ответ (вероятность) алгоритма на i-м объекте на вопрос принадлежности к классу $y_i$\n",
    "\n",
    "Обобщается для многомерного случая:\n",
    "$$-\\frac{1}{q} \\sum_{i=1}^q \\sum_{j=1}^l y_{ij} \\log a_{ij} \\rightarrow min $$\n",
    "где  \n",
    "$q$ – число элементов в выборке,  \n",
    "$l$ – число классов,   \n",
    "$a_{ij}$ – ответ (вероятность) алгоритма на i-м объекте на вопрос принадлежности его к j-му классу\n",
    "\n",
    "__Проблемы:__ \n",
    "\n",
    "- Сложности в поиске глобального минимума, так как присутствуют Локальные минимумы и плато"
   ]
  },
  {
   "cell_type": "markdown",
   "id": "1c6cda6a-de45-41da-aaa1-6d66796ac10d",
   "metadata": {
    "id": "bc0uO1ep7nT9"
   },
   "source": [
    "## Solvers"
   ]
  },
  {
   "cell_type": "markdown",
   "id": "37301850-8b22-48d9-9b4c-afe6095fcc73",
   "metadata": {
    "id": "CNuGUp7V-0Qa"
   },
   "source": [
    "![picture](https://drive.google.com/uc?export=view&id=1XC0_ixqmQIL7o_sI5_b5nA3pF6ZlMhSq)\n",
    "\n",
    "Source: [User Guide](https://scikit-learn.org/stable/modules/linear_model.html#logistic-regression)"
   ]
  },
  {
   "cell_type": "markdown",
   "id": "396f05c3-b02b-4924-9ba7-3df49ec84f95",
   "metadata": {
    "id": "yDtwZK3f-0Qb"
   },
   "source": [
    "### Liblinear \n",
    "Используется обычный покоординантный спуск. \n",
    "Алгоритм:\n",
    "- Инициализацируем любыми значениями вектор весов\n",
    "- Повторяем для каждого i из пространства признаков:\n",
    "    - фиксируем значения всех переменных кроме $x_i$\n",
    "    - проводим одномерную оптимизацию по переменной $x_i$, любым методом одномерной оптимизации\n",
    "    - если достигнули минимума по одной координате, то возвращаем текущее значение вектора весов\n",
    "\n",
    "Как это выглядит для минимизации функционала\n",
    "\n",
    "![picture](https://drive.google.com/uc?export=view&id=1a-4ldccyGqStPGAu0jEZ4SdXcGqj3Dti)"
   ]
  },
  {
   "cell_type": "markdown",
   "id": "163c6539-48b7-4fd8-ab65-954df9a7eb9d",
   "metadata": {
    "id": "W1gyOEnZ7gj9"
   },
   "source": [
    "__Недостатки:__\n",
    "1. Не параллелится \n",
    "2. Может \"застрять\" в локальном минимуме\n",
    "3. Следствие п.2 - Не может использоваться кросс-энтропия для многомерного случая, так как легко \"Застревает\" в локальных минимумах. Вместо этого для каждого класса строит отдельный классификатор (One-vs-Rest) "
   ]
  },
  {
   "cell_type": "code",
   "execution_count": null,
   "id": "3f643562-a487-43ac-8c1b-5eb2347b846a",
   "metadata": {},
   "outputs": [],
   "source": [
    "from sklearn.model_selection import GridSearchCV"
   ]
  },
  {
   "cell_type": "code",
   "execution_count": null,
   "id": "fd0b14bc-6fe4-42d2-b930-f7a821091c4f",
   "metadata": {
    "colab": {
     "base_uri": "https://localhost:8080/"
    },
    "id": "H17nn-nA-0QV",
    "outputId": "db9a576e-b9c6-4c9b-e0b1-ba5f4f10762d"
   },
   "outputs": [],
   "source": [
    "%%time\n",
    "lr = LogisticRegression(solver='liblinear', multi_class='ovr')\n",
    "lr.fit(x_train, y_train)"
   ]
  },
  {
   "cell_type": "code",
   "execution_count": null,
   "id": "0adc76db-bf6a-4b4b-960c-c01a44d13e8f",
   "metadata": {
    "colab": {
     "base_uri": "https://localhost:8080/"
    },
    "id": "LB5V1pFE-0QY",
    "outputId": "04ce4b11-da9c-4c2f-9aa9-0947368c6bab"
   },
   "outputs": [],
   "source": [
    "accuracy_score(lr.predict(x_test), y_test)"
   ]
  },
  {
   "cell_type": "code",
   "execution_count": null,
   "id": "0fb3d94d-abd0-49ec-9b01-7ca75fc03bcf",
   "metadata": {
    "colab": {
     "base_uri": "https://localhost:8080/"
    },
    "id": "8HNJpbTm-0Qb",
    "outputId": "d7e54de4-41be-42c3-e531-e74d4954e20d"
   },
   "outputs": [],
   "source": [
    "%%time\n",
    "len_c = 10\n",
    "param_grid = {\n",
    "    'C': np.linspace(0.01, 1, len_c), \n",
    "    'penalty': ['l1', 'l2']\n",
    "    }\n",
    "\n",
    "gs = GridSearchCV(lr,param_grid=param_grid, cv=3, n_jobs=-1, scoring='accuracy') \n",
    "gs.fit(x_train, y_train)"
   ]
  },
  {
   "cell_type": "code",
   "execution_count": null,
   "id": "4e113e71-a425-4025-a64c-0046a8f5e327",
   "metadata": {
    "colab": {
     "base_uri": "https://localhost:8080/"
    },
    "id": "szxUSRlA-0Qc",
    "outputId": "5aa78b08-ace1-4176-f9dc-cdf318eecf3f"
   },
   "outputs": [],
   "source": [
    "accuracy_score(gs.predict(x_test), y_test)"
   ]
  },
  {
   "cell_type": "code",
   "execution_count": null,
   "id": "e663127e-b1c3-4f72-9d82-6615f6dca48d",
   "metadata": {
    "id": "BAm2KFSUMhsa"
   },
   "outputs": [],
   "source": [
    "def print_cv_results(a, len_gs, params, param_r, param_sep): \n",
    "    d = len(params['param_grid'][param_sep])\n",
    "    ar = np.array(a).reshape(d, len_gs).T\n",
    "    \n",
    "    df = pd.DataFrame(ar)\n",
    "\n",
    "    pen_par = params['param_grid'][param_sep]\n",
    "    c_par = params['param_grid'][param_r].tolist()\n",
    "    columns_mapper = dict(zip(range(0, len(pen_par)), pen_par))\n",
    "    row_mapper = dict(zip(range(0, len(c_par)), c_par))\n",
    "\n",
    "    df.rename(columns=columns_mapper, index=row_mapper, inplace=True)\n",
    "\n",
    "    plot = df.plot(title='Mean accuracy rating', grid=True)\n",
    "    plot.set_xlabel(param_r, fontsize=13)\n",
    "    plot.set_ylabel('acc', rotation=0, fontsize=13, labelpad=15)"
   ]
  },
  {
   "cell_type": "code",
   "execution_count": null,
   "id": "ab35443e-a3d1-42d7-86f3-a3aaa0fbebd5",
   "metadata": {
    "colab": {
     "base_uri": "https://localhost:8080/",
     "height": 298
    },
    "id": "CTZz6aRI-0Qd",
    "outputId": "27b03227-f547-43c1-d83a-71d416e358c6"
   },
   "outputs": [],
   "source": [
    "print_cv_results(gs.cv_results_['mean_test_score'],\n",
    "                 len_c, gs.get_params(), 'C','penalty')"
   ]
  },
  {
   "cell_type": "markdown",
   "id": "9c4b0473-2a8b-4d23-a06f-d98504dbef09",
   "metadata": {
    "id": "_4MrsZYZ8EuV"
   },
   "source": [
    "### Stochatic Average Gradient (SAG)"
   ]
  },
  {
   "cell_type": "markdown",
   "id": "f25f83d6-1842-42f9-b206-28cd347dd67a",
   "metadata": {
    "id": "ne_h901Y-0Qe"
   },
   "source": [
    "Объединение градиентного спуска и стохастического. \n",
    "При этом, он имеет низкую стоимость итерации свойственной SGD, но делает шаг градиента по отношению к аппроксимации полного градиента:\n",
    "\n",
    "\n",
    "__Недостатки:__\n",
    "- Нет L1\n",
    "- Непрактичен для больших выборок, так как имеет высокую вычислительную сложность"
   ]
  },
  {
   "cell_type": "code",
   "execution_count": null,
   "id": "d68b5a8c-653c-4cf0-8e10-b2bddc925f7e",
   "metadata": {
    "colab": {
     "base_uri": "https://localhost:8080/"
    },
    "id": "XYkTJ-QfNLY7",
    "outputId": "a8895060-4559-42e2-aac2-0c9b17edbbee"
   },
   "outputs": [],
   "source": [
    "%%time\n",
    "lr = LogisticRegression(solver='sag', penalty='l2')\n",
    "lr.fit(x_train, y_train)"
   ]
  },
  {
   "cell_type": "code",
   "execution_count": null,
   "id": "420d4d08-c43a-4048-87e2-9551b0623052",
   "metadata": {
    "colab": {
     "base_uri": "https://localhost:8080/"
    },
    "id": "7UxkHSGwNLY9",
    "outputId": "370c7ecc-c001-4d8d-f9f7-f3cbc061128c"
   },
   "outputs": [],
   "source": [
    "accuracy_score(lr.predict(x_test), y_test)"
   ]
  },
  {
   "cell_type": "code",
   "execution_count": null,
   "id": "04345eb9-9331-4108-8d6a-3513950eea3f",
   "metadata": {
    "colab": {
     "base_uri": "https://localhost:8080/"
    },
    "id": "7YDMcniuNLY-",
    "outputId": "d5f6e9e1-9ece-4cd5-b44f-7693eefaca13"
   },
   "outputs": [],
   "source": [
    "%%time\n",
    "len_c = 10\n",
    "param_grid = {\n",
    "    'C': np.linspace(0.01, 1, len_c), \n",
    "    'multi_class': ['ovr', 'multinomial']\n",
    "    }\n",
    "\n",
    "gs = GridSearchCV(lr,param_grid=param_grid, cv=3,\n",
    "                  n_jobs=-1, scoring='accuracy') \n",
    "gs.fit(x_train, y_train)"
   ]
  },
  {
   "cell_type": "code",
   "execution_count": null,
   "id": "1c24392c-0c0f-4337-8d5a-d2247144e60e",
   "metadata": {
    "colab": {
     "base_uri": "https://localhost:8080/"
    },
    "id": "A-Cn0N9dNLY_",
    "outputId": "7eb3e560-9cce-43f1-b7a8-6100175164d8"
   },
   "outputs": [],
   "source": [
    "accuracy_score(gs.predict(x_test), y_test)"
   ]
  },
  {
   "cell_type": "code",
   "execution_count": null,
   "id": "03f6f949-32ec-4dc3-a88b-bd67bbafe016",
   "metadata": {
    "colab": {
     "base_uri": "https://localhost:8080/",
     "height": 298
    },
    "id": "v4uwixFZNLZA",
    "outputId": "ed6c6a21-07bd-4243-aa33-2dd08811ec37"
   },
   "outputs": [],
   "source": [
    "print_cv_results(gs.cv_results_['mean_test_score'],\n",
    "                 len_c, gs.get_params(), 'C','multi_class')"
   ]
  },
  {
   "cell_type": "markdown",
   "id": "c90d655d-7bd4-4e12-96f3-fd33ab38fb92",
   "metadata": {
    "id": "n069iQlq-0Qf"
   },
   "source": [
    "### Stochatic Average Gradient Augmented (SAGA)\n",
    "\n",
    "SAGA является вариантом SAG, но который поддерживает опцию non-smooth penalty=l1 (т. е. регуляризацию L1).\n",
    "\n",
    "Кроме того, это единственный Solver, поддерживающий регуляризацию = \"elasticnet\".\n",
    "\n",
    "[Подробнее: ](https://www.di.ens.fr/~fbach/Defazio_NIPS2014.pdf)"
   ]
  },
  {
   "cell_type": "code",
   "execution_count": null,
   "id": "fe6172df-3c3a-4f7f-a0b3-bd50ae4f619f",
   "metadata": {
    "id": "OmbVzwEU-0Qf"
   },
   "outputs": [],
   "source": [
    "lr_clf = LogisticRegression(solver='saga', max_iter=1500)"
   ]
  },
  {
   "cell_type": "code",
   "execution_count": null,
   "id": "6643e160-37f2-4a61-8bf4-1167e5a507a8",
   "metadata": {
    "colab": {
     "base_uri": "https://localhost:8080/"
    },
    "id": "I9_G1p48-0Qh",
    "outputId": "91f8b277-b67c-421a-d2e7-83a77925ec0e"
   },
   "outputs": [],
   "source": [
    "%%time\n",
    "len_c = 10\n",
    "param_grid = {\n",
    "    'C': np.linspace(0.01, 1, len_c), \n",
    "    'penalty': ['l1', 'l2']\n",
    "    }\n",
    "\n",
    "gs = GridSearchCV(lr_clf,param_grid=param_grid, cv=3,\n",
    "                  n_jobs=-1, scoring='accuracy') \n",
    "gs.fit(x_train, y_train)"
   ]
  },
  {
   "cell_type": "code",
   "execution_count": null,
   "id": "03e76d1c-7ce2-4397-92a4-b4798f8436d5",
   "metadata": {
    "colab": {
     "base_uri": "https://localhost:8080/",
     "height": 298
    },
    "id": "Aqqd7y9k-0Qi",
    "outputId": "f5b9896f-ad33-4cc9-c0f6-b96838dec6d2"
   },
   "outputs": [],
   "source": [
    "print_cv_results(gs.cv_results_['mean_test_score'],\n",
    "                 len_c, gs.get_params(), 'C','penalty')"
   ]
  },
  {
   "cell_type": "code",
   "execution_count": null,
   "id": "ef1a8906-9fbf-49b7-980d-50e4264d4d85",
   "metadata": {
    "id": "h6nG-n0C-0Qk",
    "outputId": "37973aec-db37-4a8e-a865-87fa04c2f5a6"
   },
   "outputs": [],
   "source": [
    "accuracy_score(gs.predict(x_test), y_test)"
   ]
  },
  {
   "cell_type": "markdown",
   "id": "3901b6c5-07cf-42fc-aec7-769500f77dd5",
   "metadata": {},
   "source": [
    "# Support Vector Machine (SVM) "
   ]
  },
  {
   "cell_type": "markdown",
   "id": "7abb6817-e7ff-4101-b45d-35a2c3adbd89",
   "metadata": {},
   "source": [
    "## Краткая теория "
   ]
  },
  {
   "cell_type": "markdown",
   "id": "5943bfe9-fb37-4977-863c-19a3e6adf10b",
   "metadata": {
    "id": "4GAQfLMhvD9F"
   },
   "source": [
    "Задачу оптимизации линейной SVM можно сформулировать как\n",
    "\n",
    "$$ \\frac{1}{n} \\sum_{i=1}^n \\max(0, 1 - y_i (w X_i - b)) + \\lambda ||w||_2 \\to \\min_w $$\n",
    "\n",
    "Эта проблема может быть решена с помощью градиентных или субградиентных методов.\n",
    "\n",
    "-----\n",
    "Тогда как задача оптимизации формулируется следующим образом:\n",
    "\n",
    "$$\n",
    "\\sum_{i=1}^n c_i - \\frac{1}{2} \\sum_{i=1}^n \\sum_{j=1}^n y_i c_i (X_i \\cdot X_j ) y_j c_j \\to \\max_{c_1,...,c_n} \\text{subject to} \n",
    "\\sum_{i=1}^n c_iy_i = 0\n",
    "$$\n",
    "\n",
    "$$\n",
    "0 \\leq c_i \\leq \\frac{1}{2n\\lambda} \\forall i\n",
    "$$\n",
    "\n",
    "\n",
    "$$f(x) = \\sum_{i=1}^n \\beta_i K(x_i, x)$$\n",
    "\n",
    "$$K: K_{i,j} = K(x_i, x_j)$$\n",
    "\n",
    "$$ \\lambda \\vec{\\beta^T} K \\vec{\\beta} + \\sum_{i=1}^n L(y_i, K_i^T \\vec{\\beta}) \\to \\min_{\\vec{\\beta}}$$\n",
    "\n",
    "где L is Hinge loss: $L(y_i, K_i^T \\vec{\\beta}) = \\max(0, 1 - y_i (K_i^T \\vec{\\beta}))$"
   ]
  },
  {
   "cell_type": "markdown",
   "id": "aab7fc6c-00bf-442b-9f3b-206eeed4c98b",
   "metadata": {
    "id": "dXb1VPu8vD9H"
   },
   "source": [
    "## Playing with `sklearn`'s implementation\n",
    "\n",
    "[original post](https://jakevdp.github.io/PythonDataScienceHandbook/05.07-support-vector-machines.html)"
   ]
  },
  {
   "cell_type": "markdown",
   "id": "13fb8fe8-d26c-4d7f-a172-d7fabc41b1b4",
   "metadata": {
    "id": "O_pVyyWDvD9D"
   },
   "source": [
    "Сделаем данные"
   ]
  },
  {
   "cell_type": "code",
   "execution_count": null,
   "id": "a3548942-8ceb-4dfc-bf61-6404bd9fcd12",
   "metadata": {},
   "outputs": [],
   "source": [
    "from sklearn.datasets import make_blobs"
   ]
  },
  {
   "cell_type": "code",
   "execution_count": null,
   "id": "9ef2a05b-ae85-466e-b86f-dd3b7cfe3e3b",
   "metadata": {
    "id": "fEnP7WPzvD9E"
   },
   "outputs": [],
   "source": [
    "X, Y = make_blobs(n_samples=300, centers=2, random_state=45, cluster_std=0.6)\n",
    "Y[Y == 0] = -1 # for convenience with formulas"
   ]
  },
  {
   "cell_type": "code",
   "execution_count": null,
   "id": "3dec591c-bfd9-4c09-99e1-9b40c90d93f6",
   "metadata": {
    "colab": {
     "base_uri": "https://localhost:8080/",
     "height": 285
    },
    "id": "yGLC6_sPvD9E",
    "outputId": "67d23ea2-fea6-4c21-e6cb-abad1ac71fe9"
   },
   "outputs": [],
   "source": [
    "plt.scatter(X[:, 0], X[:, 1], c=Y, cmap='plasma')"
   ]
  },
  {
   "cell_type": "code",
   "execution_count": null,
   "id": "2fdbbd27-45e1-421d-b78d-175943927ff1",
   "metadata": {
    "id": "RC26b27CvD9H"
   },
   "outputs": [],
   "source": [
    "from sklearn.svm import SVC # \"Support vector classifier\""
   ]
  },
  {
   "cell_type": "code",
   "execution_count": null,
   "id": "829bc4a8-8dab-4beb-8c2f-6e051a5d9139",
   "metadata": {
    "colab": {
     "base_uri": "https://localhost:8080/"
    },
    "id": "XycU0JgZvD9H",
    "outputId": "5c8a423f-a223-42a9-b5cf-54a1a47a429c"
   },
   "outputs": [],
   "source": [
    "model = SVC(kernel='linear', C=1e5)\n",
    "model.fit(X, Y)"
   ]
  },
  {
   "cell_type": "code",
   "execution_count": null,
   "id": "92436f71-5551-41dc-a5f1-de1821d2756e",
   "metadata": {
    "id": "7PiyWCuJvD9H"
   },
   "outputs": [],
   "source": [
    "def plot_svc_decision_function(model, ax=None, plot_support=True):\n",
    "    \"\"\"Plot the decision function for a 2D SVC\"\"\"\n",
    "    if ax is None:\n",
    "        ax = plt.gca()\n",
    "    xlim = ax.get_xlim()\n",
    "    ylim = ax.get_ylim()\n",
    "    \n",
    "    # create grid to evaluate model\n",
    "    x = np.linspace(xlim[0], xlim[1], 30)\n",
    "    y = np.linspace(ylim[0], ylim[1], 30)\n",
    "    Y, X = np.meshgrid(y, x)\n",
    "    xy = np.vstack([X.ravel(), Y.ravel()]).T\n",
    "    P = model.decision_function(xy).reshape(X.shape)\n",
    "    \n",
    "    # plot decision boundary and margins\n",
    "    ax.contour(X, Y, P, colors='k',\n",
    "               levels=[-1, 0, 1], alpha=0.5,\n",
    "               linestyles=['--', '-', '--'])\n",
    "    \n",
    "    # plot support vectors\n",
    "    if plot_support:\n",
    "        ax.scatter(model.support_vectors_[:, 0],\n",
    "                   model.support_vectors_[:, 1],\n",
    "                   s=300, linewidth=1, facecolors='none');\n",
    "    ax.set_xlim(xlim)\n",
    "    ax.set_ylim(ylim)"
   ]
  },
  {
   "cell_type": "code",
   "execution_count": null,
   "id": "2d134a84-bea7-4135-9fa3-6c4920e94e5f",
   "metadata": {
    "colab": {
     "base_uri": "https://localhost:8080/",
     "height": 268
    },
    "id": "bxJRpJ-9vD9I",
    "outputId": "81b55e5a-2e07-4ead-aa4d-4682c41bbe11"
   },
   "outputs": [],
   "source": [
    "plt.scatter(X[:, 0], X[:, 1], c=Y, s=50, cmap='autumn')\n",
    "plot_svc_decision_function(model);"
   ]
  },
  {
   "cell_type": "code",
   "execution_count": null,
   "id": "4fd9eb03-e5a3-4156-ac4b-61a83db154b3",
   "metadata": {
    "colab": {
     "base_uri": "https://localhost:8080/"
    },
    "id": "wAXw1S_tvD9I",
    "outputId": "ad0056b7-42b9-4bde-8ac4-1e11781d53f4"
   },
   "outputs": [],
   "source": [
    "model.support_vectors_"
   ]
  },
  {
   "cell_type": "markdown",
   "id": "e3959e00-c18c-41e6-af4b-e04a4033b69f",
   "metadata": {
    "id": "tj4KOp_DvD9I"
   },
   "source": [
    "### Эксперименты с разными ядрами"
   ]
  },
  {
   "cell_type": "code",
   "execution_count": null,
   "id": "3687e8bf-1343-4214-9049-dd91b6bb367d",
   "metadata": {
    "id": "3tFgRFzwvD9I"
   },
   "outputs": [],
   "source": [
    "from sklearn.datasets import make_circles"
   ]
  },
  {
   "cell_type": "code",
   "execution_count": null,
   "id": "1929bc0c-4cfc-443a-8290-6bd8e71baf47",
   "metadata": {
    "id": "WDroLvkKvD9I"
   },
   "outputs": [],
   "source": [
    "X, y = make_circles(100, factor=.1, noise=.1)\n",
    "y[y == 0] = -1"
   ]
  },
  {
   "cell_type": "code",
   "execution_count": null,
   "id": "b43d669d-3905-4e4c-9780-45a0b4630729",
   "metadata": {
    "colab": {
     "base_uri": "https://localhost:8080/",
     "height": 268
    },
    "id": "C1khYHLvvD9J",
    "outputId": "8537d695-6261-4903-9514-1b73e163900b"
   },
   "outputs": [],
   "source": [
    "clf = SVC(kernel='linear', C=1e5).fit(X, y)\n",
    "\n",
    "plt.scatter(X[:, 0], X[:, 1], c=y, s=50, cmap='autumn')\n",
    "plot_svc_decision_function(clf, plot_support=False);"
   ]
  },
  {
   "cell_type": "code",
   "execution_count": null,
   "id": "9d6d9d1b-2782-4eb2-8101-64f60e4922d2",
   "metadata": {
    "colab": {
     "base_uri": "https://localhost:8080/"
    },
    "id": "5H-dgDrjvD9J",
    "outputId": "c13950fe-6e00-46d2-9d71-9e8f1ec4379b"
   },
   "outputs": [],
   "source": [
    "clf = SVC(kernel='poly', degree=20, C=1e6, max_iter=1e4)\n",
    "y[y == 0] = -1\n",
    "clf.fit(X, y)"
   ]
  },
  {
   "cell_type": "code",
   "execution_count": null,
   "id": "c7c3b61e-06c9-4849-9213-f47b0a46514b",
   "metadata": {
    "colab": {
     "base_uri": "https://localhost:8080/",
     "height": 268
    },
    "id": "3dor16rPvD9K",
    "outputId": "496f2aea-bf26-44bd-b928-3593086906e3"
   },
   "outputs": [],
   "source": [
    "plt.scatter(X[:, 0], X[:, 1], c=y, s=50, cmap='autumn')\n",
    "plot_svc_decision_function(clf)\n",
    "plt.scatter(clf.support_vectors_[:, 0], clf.support_vectors_[:, 1],\n",
    "            s=300, lw=1, facecolors='none');"
   ]
  },
  {
   "cell_type": "markdown",
   "id": "7539ef75-daf8-4273-9645-7e0bf90e4347",
   "metadata": {
    "id": "mjxXD8sjvD9K"
   },
   "source": [
    "### Different margins for nonseparable cases"
   ]
  },
  {
   "cell_type": "code",
   "execution_count": null,
   "id": "9f36bc22-1e21-4691-9237-a7dd6b046a12",
   "metadata": {
    "colab": {
     "base_uri": "https://localhost:8080/",
     "height": 268
    },
    "id": "L6tXHC0rvD9K",
    "outputId": "f4838df3-23b7-48d8-8e13-3fba5f39c040"
   },
   "outputs": [],
   "source": [
    "X, y = make_blobs(n_samples=100, centers=2,\n",
    "                  random_state=0, cluster_std=1.2)\n",
    "plt.scatter(X[:, 0], X[:, 1], c=y, s=50, cmap='autumn');"
   ]
  },
  {
   "cell_type": "code",
   "execution_count": null,
   "id": "3bcbf909-e1d7-4ff2-b372-187656ef4eca",
   "metadata": {
    "colab": {
     "base_uri": "https://localhost:8080/",
     "height": 394
    },
    "id": "CZjKYz1VvD9K",
    "outputId": "7942bf21-b39b-42dc-a88a-e53f96927682"
   },
   "outputs": [],
   "source": [
    "X, y = make_blobs(n_samples=100, centers=2,\n",
    "                  random_state=0, cluster_std=1.2)\n",
    "y[y == 0] = -1\n",
    "fig, ax = plt.subplots(1, 2, figsize=(16, 6))\n",
    "fig.subplots_adjust(left=0.0625, right=0.95, wspace=0.1)\n",
    "\n",
    "for axi, C in zip(ax, [10.0, 0.005]):\n",
    "    model = SVC(kernel='linear', C=C).fit(X, y)\n",
    "    axi.scatter(X[:, 0], X[:, 1], c=y, s=50, cmap='autumn')\n",
    "    plot_svc_decision_function(model, axi)\n",
    "    axi.scatter(model.support_vectors_[:, 0],\n",
    "                model.support_vectors_[:, 1],\n",
    "                s=300, lw=1, facecolors='none');\n",
    "    axi.set_title('C = {0:.1f}'.format(C), size=14)"
   ]
  },
  {
   "cell_type": "code",
   "execution_count": null,
   "id": "9a9e8f1c-a758-4a8f-93be-33e3eb0efb44",
   "metadata": {},
   "outputs": [],
   "source": []
  }
 ],
 "metadata": {
  "kernelspec": {
   "display_name": "Python 3 (ipykernel)",
   "language": "python",
   "name": "python3"
  },
  "language_info": {
   "codemirror_mode": {
    "name": "ipython",
    "version": 3
   },
   "file_extension": ".py",
   "mimetype": "text/x-python",
   "name": "python",
   "nbconvert_exporter": "python",
   "pygments_lexer": "ipython3",
   "version": "3.8.10"
  }
 },
 "nbformat": 4,
 "nbformat_minor": 5
}
